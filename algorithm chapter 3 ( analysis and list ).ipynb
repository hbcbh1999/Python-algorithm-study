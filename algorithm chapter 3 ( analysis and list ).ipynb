{
 "cells": [
  {
   "cell_type": "code",
   "execution_count": 4,
   "metadata": {
    "collapsed": true
   },
   "outputs": [],
   "source": [
    "import time\n",
    "\n",
    "def sumOfN(n):\n",
    "    start = time.time()\n",
    "\n",
    "    theSum = 0\n",
    "    for i in range(1,n+1):\n",
    "        theSum = theSum + i\n",
    "\n",
    "    end = time.time()\n",
    "\n",
    "    return theSum,end-start"
   ]
  },
  {
   "cell_type": "code",
   "execution_count": 14,
   "metadata": {
    "collapsed": false
   },
   "outputs": [
    {
     "name": "stdout",
     "output_type": "stream",
     "text": [
      "Sum is 500000500000 required  0.0000010 seconds\n",
      "Sum is 500000500000 required  0.0000000 seconds\n",
      "Sum is 500000500000 required  0.0000000 seconds\n",
      "Sum is 500000500000 required  0.0000010 seconds\n",
      "Sum is 500000500000 required  0.0000000 seconds\n"
     ]
    }
   ],
   "source": [
    "for i in range(5):\n",
    "    print(\"Sum is %d required %10.7f seconds\"%sumOfN(1000000))\n"
   ]
  },
  {
   "cell_type": "code",
   "execution_count": 12,
   "metadata": {
    "collapsed": true
   },
   "outputs": [],
   "source": [
    "def sumOfN2(n):\n",
    "    start = time.time()\n",
    "\n",
    "    theSum = n*(n+1)/2\n",
    "    end = time.time()\n",
    "\n",
    "    return theSum,end-start"
   ]
  },
  {
   "cell_type": "code",
   "execution_count": 13,
   "metadata": {
    "collapsed": false
   },
   "outputs": [
    {
     "name": "stdout",
     "output_type": "stream",
     "text": [
      "Sum is 500000500000 required  0.0000012 seconds\n",
      "Sum is 500000500000 required  0.0000000 seconds\n",
      "Sum is 500000500000 required  0.0000010 seconds\n",
      "Sum is 500000500000 required  0.0000010 seconds\n",
      "Sum is 500000500000 required  0.0000010 seconds\n"
     ]
    }
   ],
   "source": [
    "for i in range(5):\n",
    "    print(\"Sum is %d required %10.7f seconds\"%sumOfN2(1000000))"
   ]
  },
  {
   "cell_type": "code",
   "execution_count": 72,
   "metadata": {
    "collapsed": false
   },
   "outputs": [],
   "source": [
    "# O(n^2)\n",
    "def minimum(list):\n",
    "    mimimum = list[0]\n",
    "    for i in list:\n",
    "        issmallest = True\n",
    "        for j in list:\n",
    "            if i > j:\n",
    "                issmallest = False\n",
    "        if issmallest:        \n",
    "                minimum = i \n",
    "    return minimum\n",
    "        \n",
    "    "
   ]
  },
  {
   "cell_type": "code",
   "execution_count": 73,
   "metadata": {
    "collapsed": false
   },
   "outputs": [
    {
     "data": {
      "text/plain": [
       "1"
      ]
     },
     "execution_count": 73,
     "metadata": {},
     "output_type": "execute_result"
    }
   ],
   "source": [
    "\n",
    "list=[2, 3, 4, 3, 4, 1, 9 ,122, 10]\n",
    "\n",
    "minimum(list)"
   ]
  },
  {
   "cell_type": "code",
   "execution_count": 74,
   "metadata": {
    "collapsed": true
   },
   "outputs": [],
   "source": [
    "# O(n)\n",
    "\n",
    "def minimum(list):\n",
    "    minimum = list[0]\n",
    "    for i in list:\n",
    "        if i < minimum:\n",
    "            minimum = i\n",
    "\n",
    "    return minimum\n",
    "        \n",
    "    "
   ]
  },
  {
   "cell_type": "code",
   "execution_count": 138,
   "metadata": {
    "collapsed": true
   },
   "outputs": [],
   "source": [
    "def myanagram(str1, str2):\n",
    "    list1=[]\n",
    "    list2=[]\n",
    "    for token in str1:\n",
    "        list1.append(token)\n",
    "    \n",
    "    for token in str2:\n",
    "        list2.append(token)\n",
    "        \n",
    "    for i in range(len(list1)):\n",
    "        for j in range(len(list2)):\n",
    "            if list1[i] == list2[j]:\n",
    "                list1[i]=0\n",
    "                list2[j]=0\n",
    "    check = True\n",
    "    try:\n",
    "        sum(list1)+sum(list2) == 0\n",
    "    except:\n",
    "        check = False\n",
    "        \n",
    "    return check \n",
    "                "
   ]
  },
  {
   "cell_type": "code",
   "execution_count": 141,
   "metadata": {
    "collapsed": false
   },
   "outputs": [
    {
     "data": {
      "text/plain": [
       "(False, True)"
      ]
     },
     "execution_count": 141,
     "metadata": {},
     "output_type": "execute_result"
    }
   ],
   "source": [
    "myanagram(\"pnython\",\"tynpho\"), myanagram(\"python\",\"topynh\")"
   ]
  },
  {
   "cell_type": "code",
   "execution_count": 148,
   "metadata": {
    "collapsed": false
   },
   "outputs": [
    {
     "data": {
      "text/plain": [
       "(False, True)"
      ]
     },
     "execution_count": 148,
     "metadata": {},
     "output_type": "execute_result"
    }
   ],
   "source": [
    "def anagramSolution1(s1,s2):\n",
    "    alist = []\n",
    "    for token in s2:\n",
    "        alist.append(token)\n",
    "\n",
    "    pos1 = 0\n",
    "    stillOK = True\n",
    "\n",
    "    while pos1 < len(s1) and stillOK:\n",
    "        pos2 = 0\n",
    "        found = False\n",
    "        while pos2 < len(alist) and not found:\n",
    "            if s1[pos1] == alist[pos2]:\n",
    "                found = True\n",
    "            else:\n",
    "                pos2 = pos2 + 1\n",
    "\n",
    "        if found:\n",
    "            alist[pos2] = None\n",
    "        else:\n",
    "            stillOK = False\n",
    "\n",
    "        pos1 = pos1 + 1\n",
    "\n",
    "    return stillOK\n",
    "\n",
    "anagramSolution1(\"pnython\",\"tynpho\"), anagramSolution1(\"python\",\"topynh\")"
   ]
  },
  {
   "cell_type": "code",
   "execution_count": 152,
   "metadata": {
    "collapsed": false
   },
   "outputs": [
    {
     "name": "stdout",
     "output_type": "stream",
     "text": [
      "True\n"
     ]
    }
   ],
   "source": [
    "def anagramSolution2(s1,s2):\n",
    "    alist1=[]\n",
    "    alist2=[]\n",
    "    \n",
    "    for token in s1:\n",
    "        alist1.append(token)\n",
    "    \n",
    "    for token in s2:\n",
    "        alist2.append(token)\n",
    "   \n",
    "\n",
    "    alist1.sort() # sort() 가 이미 O(n^2)\n",
    "    alist2.sort()\n",
    "\n",
    "    pos = 0\n",
    "    matches = True\n",
    "\n",
    "    while pos < len(s1) and matches:\n",
    "        if alist1[pos]==alist2[pos]:\n",
    "            pos = pos + 1\n",
    "        else:\n",
    "            matches = False\n",
    "\n",
    "    return matches\n",
    "\n",
    "print(anagramSolution2('abcde','edcba'))\n",
    "\n"
   ]
  },
  {
   "cell_type": "code",
   "execution_count": 288,
   "metadata": {
    "collapsed": false
   },
   "outputs": [
    {
     "data": {
      "text/plain": [
       "True"
      ]
     },
     "execution_count": 288,
     "metadata": {},
     "output_type": "execute_result"
    }
   ],
   "source": [
    "def bruteforceAnagram(str1, str2):\n",
    "    alist1=[i for i in str1]\n",
    "   \n",
    "    for y in range(len(str1)-1):\n",
    "        alist1 = [x+i for i in str1 for x in alist1]\n",
    "        \n",
    "    match = False    \n",
    "    for x in alist1:\n",
    "        if x == str2:\n",
    "            match = True\n",
    "            \n",
    "    return match \n",
    "\n",
    "bruteforceAnagram(\"abcd\",\"cdba\")\n",
    "        \n",
    "    "
   ]
  },
  {
   "cell_type": "code",
   "execution_count": 280,
   "metadata": {
    "collapsed": false
   },
   "outputs": [
    {
     "data": {
      "text/plain": [
       "3"
      ]
     },
     "execution_count": 280,
     "metadata": {},
     "output_type": "execute_result"
    }
   ],
   "source": [
    "len(\"abc\")"
   ]
  },
  {
   "cell_type": "code",
   "execution_count": 314,
   "metadata": {
    "collapsed": false
   },
   "outputs": [
    {
     "name": "stdout",
     "output_type": "stream",
     "text": [
      "False\n"
     ]
    }
   ],
   "source": [
    "def anagramSolution4(s1,s2):\n",
    "    c1 = [0]*26\n",
    "    c2 = [0]*26\n",
    "\n",
    "    for i in range(len(s1)):\n",
    "        pos = ord(s1[i])-ord('a')\n",
    "        c1[pos] = c1[pos] + 1\n",
    "\n",
    "    for i in range(len(s2)):\n",
    "        pos = ord(s2[i])-ord('a')\n",
    "        c2[pos] = c2[pos] + 1\n",
    "\n",
    "        \n",
    "    # 이 다음 내용은 return c1 == c2로 대체 가능하다.     \n",
    "    j = 0\n",
    "    stillOK = True\n",
    "    while j<26 and stillOK:\n",
    "        if c1[j]==c2[j]:\n",
    "            j = j + 1\n",
    "        else:\n",
    "            stillOK = False\n",
    "\n",
    "    return stillOK\n",
    "\n",
    "print(anagramSolution4('apple','pleap'))\n",
    "\n"
   ]
  },
  {
   "cell_type": "code",
   "execution_count": 333,
   "metadata": {
    "collapsed": true
   },
   "outputs": [],
   "source": [
    "def test1():\n",
    "    l = []\n",
    "    for i in range(1000):\n",
    "        l = l + [i]\n",
    "\n",
    "def test2():\n",
    "    l = []\n",
    "    for i in range(1000):\n",
    "        l.append(i)\n",
    "\n",
    "def test3():\n",
    "    l = [i for i in range(1000)]\n",
    "\n",
    "def test4():\n",
    "    l = range(1000) # range(int)는 이미 list 이다. \n"
   ]
  },
  {
   "cell_type": "code",
   "execution_count": 335,
   "metadata": {
    "collapsed": false
   },
   "outputs": [],
   "source": []
  },
  {
   "cell_type": "code",
   "execution_count": 342,
   "metadata": {
    "collapsed": false
   },
   "outputs": [
    {
     "name": "stdout",
     "output_type": "stream",
     "text": [
      "('concat ', 1.2448348999023438, 'milliseconds')\n",
      "('append ', 0.07553505897521973, 'milliseconds')\n",
      "('comprehension ', 0.037589073181152344, 'milliseconds')\n",
      "('list range ', 0.0067539215087890625, 'milliseconds')\n"
     ]
    }
   ],
   "source": [
    "from timeit import Timer\n",
    "\n",
    "t1 = Timer(\"test1()\", \"from __main__ import test1\")\n",
    "print(\"concat \",t1.timeit(number=1000), \"milliseconds\")\n",
    "t2 = Timer(\"test2()\", \"from __main__ import test2\")\n",
    "print(\"append \",t2.timeit(number=1000), \"milliseconds\")\n",
    "t3 = Timer(\"test3()\", \"from __main__ import test3\")\n",
    "print(\"comprehension \",t3.timeit(number=1000), \"milliseconds\")\n",
    "t4 = Timer(\"test4()\", \"from __main__ import test4\")\n",
    "print(\"list range \",t4.timeit(number=1000), \"milliseconds\")\n",
    "\n"
   ]
  },
  {
   "cell_type": "code",
   "execution_count": 341,
   "metadata": {
    "collapsed": false
   },
   "outputs": [
    {
     "name": "stdout",
     "output_type": "stream",
     "text": [
      "0.982965946198\n",
      "0.000212907791138\n"
     ]
    }
   ],
   "source": [
    "popzero = timeit.Timer(\"x.pop(0)\", # O(n)\n",
    "                       \"from __main__ import x\")\n",
    "popend = timeit.Timer(\"x.pop()\", # O(1)\n",
    "                      \"from __main__ import x\")\n",
    "\n",
    "x = range(2000000)\n",
    "print popzero.timeit(number=1000)  \n",
    "\n",
    "x = range(2000000)\n",
    "print popend.timeit(number=1000) \n"
   ]
  },
  {
   "cell_type": "code",
   "execution_count": 358,
   "metadata": {
    "collapsed": false
   },
   "outputs": [
    {
     "name": "stdout",
     "output_type": "stream",
     "text": [
      "pop(0)   pop()\n"
     ]
    }
   ],
   "source": [
    "popzero = Timer(\"x.pop(0)\",\n",
    "                \"from __main__ import x\")\n",
    "popend = Timer(\"x.pop()\",\n",
    "               \"from __main__ import x\")\n",
    "print(\"pop(0)   pop()\")\n",
    "\n",
    "ptlist=[]\n",
    "pzlist=[]\n",
    "for i in range(1000,100001,1000):\n",
    "    x = range(i)\n",
    "    pt = popend.timeit(number=10)\n",
    "    ptlist.append(pt)\n",
    "    x = range(i)\n",
    "    pz = popzero.timeit(number=10)\n",
    "    pzlist.append(pz)"
   ]
  },
  {
   "cell_type": "code",
   "execution_count": 375,
   "metadata": {
    "collapsed": false
   },
   "outputs": [
    {
     "data": {
      "text/plain": [
       "<matplotlib.legend.Legend at 0x104f73890>"
      ]
     },
     "execution_count": 375,
     "metadata": {},
     "output_type": "execute_result"
    },
    {
     "data": {
      "image/png": "[encoded data removed]",
      "text/plain": [
       "<matplotlib.figure.Figure at 0x107789150>"
      ]
     },
     "metadata": {},
     "output_type": "display_data"
    }
   ],
   "source": [
    "%matplotlib inline\n",
    "\n",
    "from matplotlib import pyplot as pl\n",
    "import numpy as np\n",
    "\n",
    "fig = pl.figure()\n",
    "t = range(1000,100001,1000)\n",
    "pl.plot(t, pzlist, 'bo', label=u'pop(0)')\n",
    "pl.plot(t, ptlist, 'r-', label=u'pop( )')\n",
    "\n",
    "\n",
    "pl.xlabel('list size')\n",
    "pl.ylabel('time(sec)')\n",
    "\n",
    "pl.legend(loc='upper left')\n"
   ]
  },
  {
   "cell_type": "code",
   "execution_count": 382,
   "metadata": {
    "collapsed": false
   },
   "outputs": [
    {
     "data": {
      "text/plain": [
       "<matplotlib.legend.Legend at 0x109bb2810>"
      ]
     },
     "execution_count": 382,
     "metadata": {},
     "output_type": "execute_result"
    },
    {
     "data": {
      "image/png": "[encoded data removed]",
      "text/plain": [
       "<matplotlib.figure.Figure at 0x104be2a10>"
      ]
     },
     "metadata": {},
     "output_type": "display_data"
    }
   ],
   "source": [
    "import random\n",
    "\n",
    "\n",
    "lstlist=[]\n",
    "diclist=[]\n",
    "\n",
    "for i in range(1000,100001,2000):\n",
    "    t = Timer(\"random.randrange(%d) in x\"%i,\n",
    "                     \"from __main__ import random,x\")\n",
    "    x = range(i)\n",
    "    lst_time = t.timeit(number=10)\n",
    "    lstlist.append(lst_time)\n",
    "    x = {j:None for j in range(i)}\n",
    "    dic_time = t.timeit(number=10)\n",
    "    diclist.append(dic_time)\n",
    "    \n",
    "fig = pl.figure()\n",
    "t = range(1000,100001,2000)\n",
    "pl.plot(t, lstlist, 'bo', label=u'list')\n",
    "pl.plot(t, diclist, 'r-', label=u'dictionary')\n",
    "\n",
    "\n",
    "pl.xlabel('size')\n",
    "pl.ylabel('time(sec)')\n",
    "\n",
    "pl.legend(loc='upper left')\n",
    "    "
   ]
  },
  {
   "cell_type": "code",
   "execution_count": 396,
   "metadata": {
    "collapsed": false
   },
   "outputs": [
    {
     "name": "stdout",
     "output_type": "stream",
     "text": [
      "(0.0010831356048583984, 'milliseconds')\n",
      "(0.001383066177368164, 'milliseconds')\n",
      "(0.0016639232635498047, 'milliseconds')\n",
      "(0.002319812774658203, 'milliseconds')\n",
      "(0.005799055099487305, 'milliseconds')\n"
     ]
    }
   ],
   "source": [
    "def test(n):\n",
    "    for i in range(n):\n",
    "        for j in range(n):\n",
    "            k = 2 + 2\n",
    "            \n",
    "\n",
    "t = Timer(\"test(1)\", \"from __main__ import test\")\n",
    "print(t.timeit(number=1000), \"milliseconds\")\n",
    "t = Timer(\"test(2)\", \"from __main__ import test\")\n",
    "print(t.timeit(number=1000), \"milliseconds\")\n",
    "t = Timer(\"test(3)\", \"from __main__ import test\")\n",
    "print(t.timeit(number=1000), \"milliseconds\")\n",
    "t = Timer(\"test(4)\", \"from __main__ import test\")\n",
    "print(t.timeit(number=1000), \"milliseconds\")\n",
    "t = Timer(\"test(10)\", \"from __main__ import test\")\n",
    "print(t.timeit(number=1000), \"milliseconds\")"
   ]
  },
  {
   "cell_type": "code",
   "execution_count": null,
   "metadata": {
    "collapsed": true
   },
   "outputs": [],
   "source": []
  }
 ],
 "metadata": {
  "kernelspec": {
   "display_name": "Python 2",
   "language": "python",
   "name": "python2"
  },
  "language_info": {
   "codemirror_mode": {
    "name": "ipython",
    "version": 2
   },
   "file_extension": ".py",
   "mimetype": "text/x-python",
   "name": "python",
   "nbconvert_exporter": "python",
   "pygments_lexer": "ipython2",
   "version": "2.7.10"
  }
 },
 "nbformat": 4,
 "nbformat_minor": 0
}
