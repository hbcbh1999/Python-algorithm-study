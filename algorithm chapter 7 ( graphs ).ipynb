{
 "cells": [
  {
   "cell_type": "code",
   "execution_count": 389,
   "metadata": {
    "collapsed": true
   },
   "outputs": [],
   "source": [
    "%matplotlib inline\n",
    "\n",
    "\n",
    "\n",
    "import sys\n",
    "sys.path.append('/usr/local/lib/python2.7/site-packages/')\n",
    "import os\n",
    "\n",
    "class Vertex:\n",
    "    def __init__(self,key):\n",
    "        self.id = key\n",
    "        self.connectedTo = {}\n",
    "        self.color = 'white'\n",
    "        self.dist = sys.maxsize\n",
    "        self.pred = None\n",
    "\n",
    "    def addNeighbor(self,nbr,weight=0):\n",
    "        self.connectedTo[nbr] = weight\n",
    "        \n",
    "    def setColor(self,color):\n",
    "        self.color = color\n",
    "        \n",
    "    def setDistance(self,d):\n",
    "        self.dist = d\n",
    "\n",
    "    def setPred(self,p):\n",
    "        self.pred = p\n",
    "        \n",
    "    def setDiscovery(self,dtime):\n",
    "        self.disc = dtime\n",
    "        \n",
    "    def setFinish(self,ftime):\n",
    "        self.fin = ftime\n",
    "        \n",
    "    def getFinish(self):\n",
    "        return self.fin\n",
    "        \n",
    "    def getDiscovery(self):\n",
    "        return self.disc\n",
    "        \n",
    "        \n",
    "    def getPred(self):\n",
    "        return self.pred\n",
    "        \n",
    "    def getDistance(self):\n",
    "        return self.dist\n",
    "        \n",
    "    def getColor(self):\n",
    "        return self.color\n",
    "    \n",
    "\n",
    "    def __str__(self):\n",
    "        return str(self.id) + \":color \" + self.color + \":disc \" + str(self.disc) + \":fin \" + str(self.fin) + \":dist \" + str(self.dist) + \":pred \\n\\t[\" + str(self.pred)+ \"]\\n\"\n",
    "\n",
    "    def getConnections(self):\n",
    "        return self.connectedTo.keys()\n",
    "\n",
    "    def getId(self):\n",
    "        return self.id\n",
    "\n",
    "    def getWeight(self,nbr):\n",
    "        return self.connectedTo[nbr]\n",
    "\n",
    "class Graph:\n",
    "    def __init__(self):\n",
    "        self.vertList = {}\n",
    "        self.numVertices = 0\n",
    "\n",
    "    def addVertex(self,key):\n",
    "        self.numVertices = self.numVertices + 1\n",
    "        newVertex = Vertex(key)\n",
    "        self.vertList[key] = newVertex\n",
    "        return newVertex\n",
    "\n",
    "    def getVertex(self,n):\n",
    "        if n in self.vertList:\n",
    "            return self.vertList[n]\n",
    "        else:\n",
    "            return None\n",
    "\n",
    "    def __contains__(self,n):\n",
    "        return n in self.vertList\n",
    "\n",
    "    def addEdge(self,f,t,cost=0):\n",
    "        if f not in self.vertList:\n",
    "            nv = self.addVertex(f)\n",
    "        if t not in self.vertList:\n",
    "            nv = self.addVertex(t)\n",
    "        self.vertList[f].addNeighbor(self.vertList[t], cost)\n",
    "\n",
    "    def getVertices(self):\n",
    "        return self.vertList.keys()\n",
    "\n",
    "    def __iter__(self):\n",
    "        return iter(self.vertList.values())\n"
   ]
  },
  {
   "cell_type": "code",
   "execution_count": 390,
   "metadata": {},
   "outputs": [
    {
     "data": {
      "text/plain": [
       "9223372036854775807"
      ]
     },
     "execution_count": 390,
     "metadata": {},
     "output_type": "execute_result"
    }
   ],
   "source": [
    "sys.maxsize"
   ]
  },
  {
   "cell_type": "code",
   "execution_count": 391,
   "metadata": {
    "collapsed": true
   },
   "outputs": [],
   "source": [
    "g = Graph()\n",
    "for i in range(6):\n",
    "    g.addVertex(i)"
   ]
  },
  {
   "cell_type": "code",
   "execution_count": 398,
   "metadata": {
    "collapsed": true
   },
   "outputs": [],
   "source": []
  },
  {
   "cell_type": "code",
   "execution_count": 400,
   "metadata": {},
   "outputs": [
    {
     "name": "stdout",
     "output_type": "stream",
     "text": [
      "( 0 , 1 ,0)\n",
      "( 0 , 5 ,0)\n",
      "( 1 , 2 ,9223372036854775807)\n",
      "( 2 , 3 ,9223372036854775807)\n",
      "( 3 , 5 ,9223372036854775807)\n",
      "( 3 , 4 ,9223372036854775807)\n",
      "( 4 , 0 ,9223372036854775807)\n",
      "( 5 , 2 ,9223372036854775807)\n",
      "( 5 , 4 ,9223372036854775807)\n"
     ]
    }
   ],
   "source": [
    "g.addEdge(0,1,5)\n",
    "g.addEdge(0,5,2)\n",
    "g.addEdge(1,2,4)\n",
    "g.addEdge(2,3,9)\n",
    "g.addEdge(3,4,7)\n",
    "g.addEdge(3,5,3)\n",
    "g.addEdge(4,0,1)\n",
    "g.addEdge(5,4,8)\n",
    "g.addEdge(5,2,1)\n",
    "g.getVertex(0).setDistance(0)\n",
    "for v in g:\n",
    "    for w in v.getConnections():\n",
    "        print \"( %s , %s ,%s)\" % (v.getId(), w.getId(), v.getDistance())\n"
   ]
  },
  {
   "cell_type": "code",
   "execution_count": 5,
   "metadata": {
    "collapsed": true
   },
   "outputs": [],
   "source": [
    "f = open('wordFile', 'w')\n",
    "f.write('FOOL\\n')\n",
    "f.write('POOL\\n')\n",
    "f.write('FOUL\\n')\n",
    "f.write('FOIL\\n')\n",
    "f.write('COOL\\n')\n",
    "f.write('POLL\\n')\n",
    "f.write('POLE\\n')\n",
    "f.write('PALE\\n')\n",
    "f.write('SALE\\n')\n",
    "f.write('SAGE\\n')\n",
    "f.close()\n",
    "\n",
    "def buildGraph(wordFile):\n",
    "    d = {}\n",
    "    g = Graph()\n",
    "    wfile = open(wordFile,'r')\n",
    "    # create buckets of words that differ by one letter\n",
    "    for line in wfile:\n",
    "        word = line[:-1]\n",
    "        for i in range(len(word)):\n",
    "            bucket = word[:i] + '_' + word[i+1:]\n",
    "            if bucket in d:\n",
    "                d[bucket].append(word)\n",
    "            else:\n",
    "                d[bucket] = [word]\n",
    "    # add vertices and edges for words in the same bucket\n",
    "    for bucket in d.keys():\n",
    "        for word1 in d[bucket]:\n",
    "            for word2 in d[bucket]:\n",
    "                if word1 != word2:\n",
    "                    g.addEdge(word1,word2)\n",
    "    return g"
   ]
  },
  {
   "cell_type": "code",
   "execution_count": 7,
   "metadata": {},
   "outputs": [
    {
     "name": "stdout",
     "output_type": "stream",
     "text": [
      "('P_LE', ['POLE', 'PALE'], 'POLE', 'PALE')\n",
      "('P_LE', ['POLE', 'PALE'], 'PALE', 'POLE')\n",
      "('POL_', ['POLL', 'POLE'], 'POLL', 'POLE')\n",
      "('POL_', ['POLL', 'POLE'], 'POLE', 'POLL')\n",
      "('_ALE', ['PALE', 'SALE'], 'PALE', 'SALE')\n",
      "('_ALE', ['PALE', 'SALE'], 'SALE', 'PALE')\n",
      "('FO_L', ['FOOL', 'FOUL', 'FOIL'], 'FOOL', 'FOUL')\n",
      "('FO_L', ['FOOL', 'FOUL', 'FOIL'], 'FOOL', 'FOIL')\n",
      "('FO_L', ['FOOL', 'FOUL', 'FOIL'], 'FOUL', 'FOOL')\n",
      "('FO_L', ['FOOL', 'FOUL', 'FOIL'], 'FOUL', 'FOIL')\n",
      "('FO_L', ['FOOL', 'FOUL', 'FOIL'], 'FOIL', 'FOOL')\n",
      "('FO_L', ['FOOL', 'FOUL', 'FOIL'], 'FOIL', 'FOUL')\n",
      "('SA_E', ['SALE', 'SAGE'], 'SALE', 'SAGE')\n",
      "('SA_E', ['SALE', 'SAGE'], 'SAGE', 'SALE')\n",
      "('PO_L', ['POOL', 'POLL'], 'POOL', 'POLL')\n",
      "('PO_L', ['POOL', 'POLL'], 'POLL', 'POOL')\n",
      "('_OOL', ['FOOL', 'POOL', 'COOL'], 'FOOL', 'POOL')\n",
      "('_OOL', ['FOOL', 'POOL', 'COOL'], 'FOOL', 'COOL')\n",
      "('_OOL', ['FOOL', 'POOL', 'COOL'], 'POOL', 'FOOL')\n",
      "('_OOL', ['FOOL', 'POOL', 'COOL'], 'POOL', 'COOL')\n",
      "('_OOL', ['FOOL', 'POOL', 'COOL'], 'COOL', 'FOOL')\n",
      "('_OOL', ['FOOL', 'POOL', 'COOL'], 'COOL', 'POOL')\n"
     ]
    }
   ],
   "source": [
    "d={}\n",
    "g=Graph()\n",
    "wfile = open('wordFile','r')\n",
    "for line in wfile:\n",
    "    word = line[:-1]\n",
    "    for i in range(len(word)):\n",
    "        bucket = word[:i] + '_' + word[i+1:]            \n",
    "        if bucket in d:\n",
    "            d[bucket].append(word)\n",
    "        else:\n",
    "            d[bucket] = [word]   \n",
    "for bucket in d.keys():\n",
    "    for word1 in d[bucket]:\n",
    "        for word2 in d[bucket]:\n",
    "            if word1 != word2:\n",
    "                print (bucket,d[bucket],word1,word2)"
   ]
  },
  {
   "cell_type": "code",
   "execution_count": 8,
   "metadata": {},
   "outputs": [
    {
     "data": {
      "text/plain": [
       "{'COO_': ['COOL'],\n",
       " 'CO_L': ['COOL'],\n",
       " 'C_OL': ['COOL'],\n",
       " 'FOI_': ['FOIL'],\n",
       " 'FOO_': ['FOOL'],\n",
       " 'FOU_': ['FOUL'],\n",
       " 'FO_L': ['FOOL', 'FOUL', 'FOIL'],\n",
       " 'F_IL': ['FOIL'],\n",
       " 'F_OL': ['FOOL'],\n",
       " 'F_UL': ['FOUL'],\n",
       " 'PAL_': ['PALE'],\n",
       " 'PA_E': ['PALE'],\n",
       " 'POL_': ['POLL', 'POLE'],\n",
       " 'POO_': ['POOL'],\n",
       " 'PO_E': ['POLE'],\n",
       " 'PO_L': ['POOL', 'POLL'],\n",
       " 'P_LE': ['POLE', 'PALE'],\n",
       " 'P_LL': ['POLL'],\n",
       " 'P_OL': ['POOL'],\n",
       " 'SAG_': ['SAGE'],\n",
       " 'SAL_': ['SALE'],\n",
       " 'SA_E': ['SALE', 'SAGE'],\n",
       " 'S_GE': ['SAGE'],\n",
       " 'S_LE': ['SALE'],\n",
       " '_AGE': ['SAGE'],\n",
       " '_ALE': ['PALE', 'SALE'],\n",
       " '_OIL': ['FOIL'],\n",
       " '_OLE': ['POLE'],\n",
       " '_OLL': ['POLL'],\n",
       " '_OOL': ['FOOL', 'POOL', 'COOL'],\n",
       " '_OUL': ['FOUL']}"
      ]
     },
     "execution_count": 8,
     "metadata": {},
     "output_type": "execute_result"
    }
   ],
   "source": [
    "d"
   ]
  },
  {
   "cell_type": "code",
   "execution_count": 9,
   "metadata": {
    "collapsed": true
   },
   "outputs": [],
   "source": [
    "wordgraph = buildGraph('wordFile')"
   ]
  },
  {
   "cell_type": "code",
   "execution_count": 10,
   "metadata": {},
   "outputs": [
    {
     "name": "stdout",
     "output_type": "stream",
     "text": [
      "( FOOL , FOUL )\n",
      "( FOOL , COOL )\n",
      "( FOOL , FOIL )\n",
      "( FOOL , POOL )\n",
      "( SAGE , SALE )\n",
      "( SALE , PALE )\n",
      "( SALE , SAGE )\n",
      "( FOUL , FOOL )\n",
      "( FOUL , FOIL )\n",
      "( POLE , PALE )\n",
      "( POLE , POLL )\n",
      "( FOIL , FOUL )\n",
      "( FOIL , FOOL )\n",
      "( POLL , POLE )\n",
      "( POLL , POOL )\n",
      "( PALE , SALE )\n",
      "( PALE , POLE )\n",
      "( POOL , COOL )\n",
      "( POOL , POLL )\n",
      "( POOL , FOOL )\n",
      "( COOL , FOOL )\n",
      "( COOL , POOL )\n"
     ]
    }
   ],
   "source": [
    "for v in wordgraph:\n",
    "    for w in v.getConnections():\n",
    "        print \"( %s , %s )\" % (v.getId(), w.getId())"
   ]
  },
  {
   "cell_type": "code",
   "execution_count": 11,
   "metadata": {
    "collapsed": true
   },
   "outputs": [],
   "source": [
    "class Queue:\n",
    "    def __init__(self):\n",
    "        self.items = []\n",
    "\n",
    "    def isEmpty(self):\n",
    "        return self.items == []\n",
    "\n",
    "    def enqueue(self, item):\n",
    "        self.items.insert(0,item)\n",
    "\n",
    "    def dequeue(self):\n",
    "        return self.items.pop()\n",
    "\n",
    "    def size(self):\n",
    "        return len(self.items)"
   ]
  },
  {
   "cell_type": "code",
   "execution_count": 12,
   "metadata": {
    "collapsed": true
   },
   "outputs": [],
   "source": [
    "def bfs(g,start):\n",
    "    start.setDistance(0)\n",
    "    start.setPred(None)\n",
    "    vertQueue = Queue()\n",
    "    vertQueue.enqueue(start)\n",
    "    while (vertQueue.size() > 0):\n",
    "        currentVert = vertQueue.dequeue()\n",
    "        for nbr in currentVert.getConnections():\n",
    "            if (nbr.getColor() == 'white'):\n",
    "                nbr.setColor('gray')\n",
    "                nbr.setDistance(currentVert.getDistance() + 1)\n",
    "                nbr.setPred(currentVert)\n",
    "                vertQueue.enqueue(nbr)\n",
    "        currentVert.setColor('black')\n",
    "        \n",
    "\n",
    "def traverse(y):\n",
    "    x = y\n",
    "    while (x.getPred()):\n",
    "        print(x.getId())\n",
    "        x = x.getPred()\n",
    "    print(x.getId())\n",
    "\n"
   ]
  },
  {
   "cell_type": "code",
   "execution_count": 13,
   "metadata": {
    "collapsed": true
   },
   "outputs": [],
   "source": [
    "bfs(wordgraph,wordgraph.getVertex('SAGE'))"
   ]
  },
  {
   "cell_type": "code",
   "execution_count": 14,
   "metadata": {},
   "outputs": [
    {
     "name": "stdout",
     "output_type": "stream",
     "text": [
      "FOOL\n",
      "POOL\n",
      "POLL\n",
      "POLE\n",
      "PALE\n",
      "SALE\n",
      "SAGE\n"
     ]
    }
   ],
   "source": [
    "traverse(wordgraph.getVertex('FOOL'))"
   ]
  },
  {
   "cell_type": "code",
   "execution_count": 15,
   "metadata": {},
   "outputs": [
    {
     "data": {
      "text/plain": [
       "'SAGE'"
      ]
     },
     "execution_count": 15,
     "metadata": {},
     "output_type": "execute_result"
    }
   ],
   "source": [
    "wordgraph.getVertex('SAGE').id"
   ]
  },
  {
   "cell_type": "code",
   "execution_count": 16,
   "metadata": {},
   "outputs": [
    {
     "name": "stdout",
     "output_type": "stream",
     "text": [
      "[<__main__.Vertex instance at 0x1034c87a0>, <__main__.Vertex instance at 0x1034c88c0>, <__main__.Vertex instance at 0x1034c87e8>, <__main__.Vertex instance at 0x1034c8878>]\n",
      "FOUL\n"
     ]
    }
   ],
   "source": [
    "print wordgraph.getVertex('FOOL').getConnections()\n",
    "print wordgraph.getVertex('FOOL').getConnections()[0].id"
   ]
  },
  {
   "cell_type": "code",
   "execution_count": 17,
   "metadata": {},
   "outputs": [
    {
     "data": {
      "text/plain": [
       "{'COOL': <__main__.Vertex instance at 0x1034c88c0>,\n",
       " 'FOIL': <__main__.Vertex instance at 0x1034c87e8>,\n",
       " 'FOOL': <__main__.Vertex instance at 0x1034c8758>,\n",
       " 'FOUL': <__main__.Vertex instance at 0x1034c87a0>,\n",
       " 'PALE': <__main__.Vertex instance at 0x1034c8680>,\n",
       " 'POLE': <__main__.Vertex instance at 0x1034c8638>,\n",
       " 'POLL': <__main__.Vertex instance at 0x1034c86c8>,\n",
       " 'POOL': <__main__.Vertex instance at 0x1034c8878>,\n",
       " 'SAGE': <__main__.Vertex instance at 0x1034c8830>,\n",
       " 'SALE': <__main__.Vertex instance at 0x1034c8710>}"
      ]
     },
     "execution_count": 17,
     "metadata": {},
     "output_type": "execute_result"
    }
   ],
   "source": [
    "wordgraph.vertList"
   ]
  },
  {
   "cell_type": "code",
   "execution_count": null,
   "metadata": {
    "collapsed": true
   },
   "outputs": [],
   "source": []
  },
  {
   "cell_type": "code",
   "execution_count": 18,
   "metadata": {
    "collapsed": true
   },
   "outputs": [],
   "source": [
    "def knightGraph(bdSize):\n",
    "    ktGraph = Graph()\n",
    "    for row in range(bdSize):\n",
    "        for col in range(bdSize):\n",
    "            nodeId = posToNodeId(row,col,bdSize)\n",
    "            newPositions = genLegalMoves(row,col,bdSize)\n",
    "            for e in newPositions:\n",
    "                nid = posToNodeId(e[0],e[1],bdSize)\n",
    "                ktGraph.addEdge(nodeId,nid)\n",
    "    return ktGraph\n",
    "\n",
    "def posToNodeId(row, col, bdSize):\n",
    "    return (row * bdSize) + col\n",
    "\n",
    "def genLegalMoves(x,y,bdSize):\n",
    "    newMoves = []\n",
    "    moveOffsets = [(-1,-2),(-1,2),(-2,-1),(-2,1),\n",
    "                   ( 1,-2),( 1,2),( 2,-1),( 2,1)]\n",
    "    for i in moveOffsets:\n",
    "        newX = x + i[0]\n",
    "        newY = y + i[1]\n",
    "        if legalCoord(newX,newY,bdSize): \n",
    "            newMoves.append((newX,newY))\n",
    "    return newMoves\n",
    "\n",
    "def legalCoord(x, y, bdSize):\n",
    "    fit = False\n",
    "    if x >= 0 and x < bdSize and y >=0 and y < bdSize:\n",
    "        fit = True\n",
    "    return fit"
   ]
  },
  {
   "cell_type": "code",
   "execution_count": 19,
   "metadata": {},
   "outputs": [
    {
     "data": {
      "text/plain": [
       "[4]"
      ]
     },
     "execution_count": 19,
     "metadata": {},
     "output_type": "execute_result"
    }
   ],
   "source": [
    "kt = knightGraph(3)\n",
    "[i for i in range(9) if i not in kt.vertList]"
   ]
  },
  {
   "cell_type": "code",
   "execution_count": 20,
   "metadata": {},
   "outputs": [
    {
     "data": {
      "text/plain": [
       "[]"
      ]
     },
     "execution_count": 20,
     "metadata": {},
     "output_type": "execute_result"
    }
   ],
   "source": [
    "kt = knightGraph(100)\n",
    "[i for i in range(10000) if i not in kt.vertList]"
   ]
  },
  {
   "cell_type": "code",
   "execution_count": 21,
   "metadata": {},
   "outputs": [
    {
     "data": {
      "text/plain": [
       "[]"
      ]
     },
     "execution_count": 21,
     "metadata": {},
     "output_type": "execute_result"
    }
   ],
   "source": [
    "kt = knightGraph(8)\n",
    "[i for i in range(64) if i not in kt.vertList]"
   ]
  },
  {
   "cell_type": "code",
   "execution_count": 22,
   "metadata": {},
   "outputs": [
    {
     "data": {
      "text/plain": [
       "[6, 38, 13, 29]"
      ]
     },
     "execution_count": 22,
     "metadata": {},
     "output_type": "execute_result"
    }
   ],
   "source": [
    "[v.id for v in kt.vertList[23].getConnections()]"
   ]
  },
  {
   "cell_type": "code",
   "execution_count": 23,
   "metadata": {
    "collapsed": true
   },
   "outputs": [],
   "source": [
    "def knightTour(n,path,u,limit):\n",
    "        u.setColor('gray')\n",
    "        path.append(u)\n",
    "        if n < limit:\n",
    "            nbrList = list(u.getConnections())\n",
    "            i = 0\n",
    "            done = False\n",
    "            while i < len(nbrList) and not done:\n",
    "                if nbrList[i].getColor() == 'white':\n",
    "                    done = knightTour(n+1, path, nbrList[i], limit)\n",
    "                i = i + 1\n",
    "            if not done:  # prepare to backtrack\n",
    "                path.pop()\n",
    "                u.setColor('white')\n",
    "        else:\n",
    "            done = True\n",
    "        return done"
   ]
  },
  {
   "cell_type": "code",
   "execution_count": 24,
   "metadata": {},
   "outputs": [
    {
     "name": "stdout",
     "output_type": "stream",
     "text": [
      "0\n",
      "7\n",
      "2\n",
      "3\n",
      "8\n",
      "1\n",
      "6\n",
      "5\n"
     ]
    }
   ],
   "source": [
    "kg = knightGraph(3)  \n",
    "          \n",
    "thepath = []\n",
    "start = kg.getVertex(0)\n",
    "knightTour(0,thepath,start,7)\n",
    "for v in thepath:\n",
    "    print(v.getId())"
   ]
  },
  {
   "cell_type": "code",
   "execution_count": 25,
   "metadata": {},
   "outputs": [
    {
     "name": "stdout",
     "output_type": "stream",
     "text": [
      "0\n",
      "11\n",
      "22\n",
      "19\n",
      "8\n",
      "1\n",
      "10\n",
      "21\n",
      "18\n",
      "9\n"
     ]
    }
   ],
   "source": [
    "kg = knightGraph(5)  #five by five solution\n",
    "          \n",
    "thepath = [kg.getVertex(0),kg.getVertex(11)]\n",
    "start = kg.getVertex(22)\n",
    "knightTour(0,thepath,start,7)\n",
    "for v in thepath:\n",
    "    print(v.getId())"
   ]
  },
  {
   "cell_type": "code",
   "execution_count": 26,
   "metadata": {
    "collapsed": true
   },
   "outputs": [],
   "source": [
    "def orderByAvail(n): \n",
    "    resList = []\n",
    "    for v in n.getConnections():\n",
    "        if v.getColor() == 'white':\n",
    "            c = 0\n",
    "            for w in v.getConnections():\n",
    "                if w.getColor() == 'white':\n",
    "                    c = c + 1\n",
    "            resList.append((c,v))\n",
    "    resList.sort(key=lambda x: x[0])\n",
    "    return [y[1] for y in resList]"
   ]
  },
  {
   "cell_type": "code",
   "execution_count": 27,
   "metadata": {},
   "outputs": [
    {
     "data": {
      "text/plain": [
       "[<__main__.Vertex instance at 0x103b34ea8>,\n",
       " <__main__.Vertex instance at 0x103b34e60>,\n",
       " <__main__.Vertex instance at 0x103b34cb0>]"
      ]
     },
     "execution_count": 27,
     "metadata": {},
     "output_type": "execute_result"
    }
   ],
   "source": [
    "kg = knightGraph(5)\n",
    "orderByAvail(kg.getVertex(3))"
   ]
  },
  {
   "cell_type": "code",
   "execution_count": 28,
   "metadata": {},
   "outputs": [
    {
     "data": {
      "text/plain": [
       "[<__main__.Vertex instance at 0x103b38908>,\n",
       " <__main__.Vertex instance at 0x103b38710>,\n",
       " <__main__.Vertex instance at 0x103b388c0>]"
      ]
     },
     "execution_count": 28,
     "metadata": {},
     "output_type": "execute_result"
    }
   ],
   "source": [
    "kg = knightGraph(5)\n",
    "kg.getVertex(3).getConnections()"
   ]
  },
  {
   "cell_type": "code",
   "execution_count": 29,
   "metadata": {
    "collapsed": true
   },
   "outputs": [],
   "source": [
    "def knightTourBetter(n,path,u,limit):  #use order by available function\n",
    "        u.setColor('gray')\n",
    "        path.append(u)\n",
    "        if n < limit:\n",
    "            nbrList = orderByAvail(u) # replace nbrList = list(u.getConnections())\n",
    "            i = 0\n",
    "            done = False\n",
    "            while i < len(nbrList) and not done:\n",
    "                if nbrList[i].getColor() == 'white':\n",
    "                    done = knightTour(n+1, path, nbrList[i], limit)\n",
    "                i = i + 1\n",
    "            if not done:  # prepare to backtrack\n",
    "                path.pop()\n",
    "                u.setColor('white')\n",
    "        else:\n",
    "            done = True\n",
    "        return done"
   ]
  },
  {
   "cell_type": "code",
   "execution_count": 30,
   "metadata": {},
   "outputs": [
    {
     "name": "stdout",
     "output_type": "stream",
     "text": [
      "0\n",
      "201\n",
      "2\n",
      "104\n",
      "303\n",
      "504\n",
      "406\n",
      "308\n",
      "507\n",
      "609\n",
      "511\n",
      "712\n",
      "614\n",
      "413\n",
      "315\n",
      "514\n",
      "616\n",
      "518\n",
      "420\n",
      "322\n",
      "521\n",
      "419\n",
      "620\n",
      "421\n",
      "319\n",
      "221\n",
      "20\n",
      "118\n",
      "216\n",
      "415\n",
      "214\n"
     ]
    }
   ],
   "source": [
    "kg = knightGraph(100)  \n",
    "          \n",
    "thepath = []\n",
    "start = kg.getVertex(0)\n",
    "knightTour(0,thepath,start,30)\n",
    "for v in thepath:\n",
    "    print(v.getId())\n",
    "        "
   ]
  },
  {
   "cell_type": "code",
   "execution_count": 31,
   "metadata": {},
   "outputs": [
    {
     "name": "stdout",
     "output_type": "stream",
     "text": [
      "0\n",
      "10\n",
      "25\n",
      "19\n",
      "36\n",
      "30\n",
      "45\n",
      "62\n",
      "52\n",
      "42\n",
      "59\n",
      "49\n",
      "43\n",
      "53\n",
      "38\n",
      "21\n",
      "31\n",
      "46\n",
      "61\n",
      "51\n",
      "41\n",
      "24\n",
      "34\n",
      "40\n",
      "50\n",
      "60\n",
      "54\n",
      "39\n",
      "29\n",
      "12\n",
      "2\n"
     ]
    }
   ],
   "source": [
    "kg = knightGraph(8)  \n",
    "          \n",
    "thepath = []\n",
    "start = kg.getVertex(0)\n",
    "knightTourBetter(0,thepath,start,30)\n",
    "for v in thepath:\n",
    "    print(v.getId())\n",
    "        "
   ]
  },
  {
   "cell_type": "code",
   "execution_count": 404,
   "metadata": {
    "collapsed": true
   },
   "outputs": [],
   "source": [
    "class DFSGraph(Graph):\n",
    "    def __init__(self):\n",
    "        Graph.__init__(self)\n",
    "        self.time = 0\n",
    "\n",
    "    def dfs(self):\n",
    "        path = []\n",
    "        for aVertex in self:\n",
    "            aVertex.setColor('white')\n",
    "            aVertex.setPred(-1)\n",
    "        for aVertex in self:\n",
    "            if aVertex.getColor() == 'white':\n",
    "                self.dfsvisit(aVertex)\n",
    "        \n",
    "\n",
    "    def dfsvisit(self,startVertex):\n",
    "        startVertex.setColor('gray')\n",
    "        print startVertex.id\n",
    "        self.time += 1\n",
    "        startVertex.setDiscovery(self.time)\n",
    "        for nextVertex in startVertex.getConnections():\n",
    "            if nextVertex.getColor() == 'white':\n",
    "                nextVertex.setPred(startVertex)\n",
    "                self.dfsvisit(nextVertex)\n",
    "        startVertex.setColor('black')\n",
    "        print startVertex.id\n",
    "        self.time += 1\n",
    "        startVertex.setFinish(self.time)\n",
    "        \n"
   ]
  },
  {
   "cell_type": "markdown",
   "metadata": {},
   "source": [
    "![DFS](http://interactivepython.org/runestone/static/pythonds/_images/dfstree.png)"
   ]
  },
  {
   "cell_type": "code",
   "execution_count": 405,
   "metadata": {},
   "outputs": [
    {
     "name": "stdout",
     "output_type": "stream",
     "text": [
      "A\n",
      "B\n",
      "C\n",
      "C\n",
      "D\n",
      "E\n",
      "F\n",
      "F\n",
      "E\n",
      "D\n",
      "B\n",
      "A\n"
     ]
    }
   ],
   "source": [
    "dfs=DFSGraph()\n",
    "dfs.addVertex('A')\n",
    "dfs.addVertex('B')\n",
    "dfs.addVertex('C')\n",
    "dfs.addVertex('D')\n",
    "dfs.addVertex('E')\n",
    "dfs.addVertex('F')\n",
    "dfs.addEdge('A','B')\n",
    "dfs.addEdge('A','D')\n",
    "dfs.addEdge('B','C')\n",
    "dfs.addEdge('B','D')\n",
    "dfs.addEdge('D','E')\n",
    "dfs.addEdge('E','B')\n",
    "dfs.addEdge('E','F')\n",
    "dfs.addEdge('F','C')\n",
    "dfs.dfs()"
   ]
  },
  {
   "cell_type": "code",
   "execution_count": 409,
   "metadata": {},
   "outputs": [
    {
     "name": "stdout",
     "output_type": "stream",
     "text": [
      "A\n",
      "B\n",
      "D\n",
      "D\n",
      "B\n",
      "C\n",
      "C\n",
      "A\n"
     ]
    }
   ],
   "source": [
    "dfs=DFSGraph()\n",
    "dfs.addVertex('A')\n",
    "dfs.addVertex('B')\n",
    "dfs.addVertex('C')\n",
    "dfs.addVertex('D')\n",
    "\n",
    "dfs.addEdge('A','B')\n",
    "dfs.addEdge('A','C')\n",
    "dfs.addEdge('B','D')\n",
    "dfs.addEdge('C','D')\n",
    "dfs.dfs()"
   ]
  },
  {
   "cell_type": "code",
   "execution_count": 418,
   "metadata": {},
   "outputs": [
    {
     "data": {
      "text/plain": [
       "(['A', 'C', 'D', 'B'], ['B', 'D', 'C', 'A'])"
      ]
     },
     "execution_count": 418,
     "metadata": {},
     "output_type": "execute_result"
    }
   ],
   "source": [
    "G= nx.Graph()\n",
    "G.add_node('A')\n",
    "G.add_node('B')\n",
    "G.add_node('C')\n",
    "G.add_node('D')\n",
    "\n",
    "G.add_edge('A','B')\n",
    "G.add_edge('A','C')\n",
    "G.add_edge('B','D')\n",
    "G.add_edge('C','D')\n",
    "\n",
    "\n",
    "list(nx.dfs_preorder_nodes(G, 'A')), list(nx.dfs_postorder_nodes(G, 'A'))"
   ]
  },
  {
   "cell_type": "code",
   "execution_count": 236,
   "metadata": {},
   "outputs": [
    {
     "name": "stdout",
     "output_type": "stream",
     "text": [
      "A\n",
      "B\n",
      "D\n",
      "D\n",
      "E\n",
      "F\n",
      "C\n",
      "C\n",
      "F\n",
      "E\n",
      "B\n",
      "A\n"
     ]
    }
   ],
   "source": [
    "dfs=DFSGraph()\n",
    "dfs.addVertex('A')\n",
    "dfs.addVertex('B')\n",
    "dfs.addVertex('C')\n",
    "dfs.addVertex('D')\n",
    "dfs.addVertex('E')\n",
    "dfs.addVertex('F')\n",
    "dfs.addEdge('A','B')\n",
    "dfs.addEdge('B','A')\n",
    "dfs.addEdge('A','C')\n",
    "dfs.addEdge('C','A')\n",
    "dfs.addEdge('B','D')\n",
    "dfs.addEdge('D','B')\n",
    "dfs.addEdge('B','E')\n",
    "dfs.addEdge('E','B')\n",
    "dfs.addEdge('C','F')\n",
    "dfs.addEdge('F','C')\n",
    "dfs.addEdge('E','F')\n",
    "dfs.addEdge('F','E')\n",
    "dfs.dfs()"
   ]
  },
  {
   "cell_type": "code",
   "execution_count": 36,
   "metadata": {},
   "outputs": [
    {
     "data": {
      "text/plain": [
       "12"
      ]
     },
     "execution_count": 36,
     "metadata": {},
     "output_type": "execute_result"
    }
   ],
   "source": [
    "dfs.time"
   ]
  },
  {
   "cell_type": "code",
   "execution_count": 37,
   "metadata": {},
   "outputs": [
    {
     "name": "stdout",
     "output_type": "stream",
     "text": [
      "recursive dfs  ['A', 'B', 'D', 'E', 'C']\n",
      "iterative dfs  ['A', 'B', 'D', 'E', 'C']\n",
      "iterative bfs  ['A', 'B', 'C', 'D', 'E']\n"
     ]
    }
   ],
   "source": [
    "def recursive_dfs(graph, start, path=[]):\n",
    "  '''recursive depth first search from start'''\n",
    "  path=path+[start]\n",
    "  for node in graph[start]:\n",
    "    if not node in path:\n",
    "      path=recursive_dfs(graph, node, path)\n",
    "  return path\n",
    "\n",
    "def iterative_dfs(graph, start, path=[]):\n",
    "  '''iterative depth first search from start'''\n",
    "  q=[start]\n",
    "  while q:\n",
    "    v=q.pop(0)\n",
    "    if v not in path:\n",
    "      path=path+[v]\n",
    "      q=graph[v]+q\n",
    "  return path\n",
    "\n",
    "def iterative_bfs(graph, start, path=[]):\n",
    "  '''iterative breadth first search from start'''\n",
    "  q=[start]\n",
    "  while q:\n",
    "    v=q.pop(0)\n",
    "    if not v in path:\n",
    "      path=path+[v]\n",
    "      q=q+graph[v]\n",
    "  return path\n",
    "\n",
    "'''\n",
    "   +---- A\n",
    "   |   /   \\\n",
    "   |  B--D--C\n",
    "   |   \\ | /\n",
    "   +---- E\n",
    "'''\n",
    "graph = {'A':['B','C'],'B':['D','E'],'C':['D','E'],'D':['E'],'E':['A']}\n",
    "print 'recursive dfs ', recursive_dfs(graph, 'A')\n",
    "print 'iterative dfs ', iterative_dfs(graph, 'A')\n",
    "print 'iterative bfs ', iterative_bfs(graph, 'A')\n"
   ]
  },
  {
   "cell_type": "code",
   "execution_count": 257,
   "metadata": {},
   "outputs": [
    {
     "data": {
      "text/plain": [
       "['1 egg',\n",
       " '1 tbl oil',\n",
       " 'heat griddle',\n",
       " '3/4 cup milk',\n",
       " '1 cup mix',\n",
       " 'pour 1/4 cup',\n",
       " 'turn when bubbly',\n",
       " 'heat syrup',\n",
       " 'eat']"
      ]
     },
     "execution_count": 257,
     "metadata": {},
     "output_type": "execute_result"
    }
   ],
   "source": [
    "class DFSGraph(Graph):\n",
    "    def __init__(self):\n",
    "        Graph.__init__(self)\n",
    "        self.time = 0\n",
    "\n",
    "    def dfs(self):\n",
    "        path = []\n",
    "        alist = []\n",
    "        for aVertex in self:\n",
    "            aVertex.setColor('white')\n",
    "            aVertex.setPred(-1)\n",
    "        for aVertex in self:\n",
    "            if aVertex.getColor() == 'white':\n",
    "                self.dfsvisit(aVertex, alist)\n",
    "        alist.reverse()\n",
    "        return alist\n",
    "\n",
    " \n",
    "\n",
    "    def dfsvisit(self,startVertex, alist):\n",
    "        startVertex.setColor('gray')\n",
    "        self.time += 1\n",
    "        startVertex.setDiscovery(self.time)\n",
    "        for nextVertex in startVertex.getConnections():\n",
    "            if nextVertex.getColor() == 'white':\n",
    "                nextVertex.setPred(startVertex)\n",
    "                self.dfsvisit(nextVertex, alist)\n",
    "        startVertex.setColor('black')\n",
    "        self.time += 1\n",
    "        startVertex.setFinish(self.time)\n",
    "        return alist.append(startVertex.id)\n",
    "\n",
    "\n",
    "\n",
    "dfs=DFSGraph()\n",
    "dfs.addVertex('3/4 cup milk')\n",
    "dfs.addVertex('1 egg')\n",
    "dfs.addVertex('1 tbl oil')\n",
    "dfs.addVertex('1 cup mix')\n",
    "dfs.addVertex('heat syrup')\n",
    "dfs.addVertex('heat griddle')\n",
    "dfs.addVertex('heat griddle')\n",
    "dfs.addVertex('pour 1/4 cup')\n",
    "dfs.addVertex('turn when bubbly')\n",
    "dfs.addVertex('eat')\n",
    "\n",
    "\n",
    "dfs.addEdge('3/4 cup milk','1 cup mix')\n",
    "dfs.addEdge('1 egg','1 cup mix')\n",
    "dfs.addEdge('1 tbl oil','1 cup mix')\n",
    "dfs.addEdge('1 cup mix','heat syrup')\n",
    "dfs.addEdge('heat syrup','eat')\n",
    "dfs.addEdge('heat griddle','pour 1/4 cup')\n",
    "dfs.addEdge('pour 1/4 cup','turn when bubbly')\n",
    "dfs.addEdge('1 cup mix','pour 1/4 cup')\n",
    "dfs.addEdge('turn when bubbly','eat')\n",
    "\n",
    "dfs.dfs()\n",
    "\n"
   ]
  },
  {
   "cell_type": "code",
   "execution_count": 258,
   "metadata": {},
   "outputs": [
    {
     "data": {
      "text/plain": [
       "18"
      ]
     },
     "execution_count": 258,
     "metadata": {},
     "output_type": "execute_result"
    }
   ],
   "source": [
    "dfs.time"
   ]
  },
  {
   "cell_type": "code",
   "execution_count": 259,
   "metadata": {
    "collapsed": true
   },
   "outputs": [],
   "source": [
    "\n",
    "class PriorityQueue:\n",
    "    def __init__(self):\n",
    "        self.heapArray = [(0,0)]\n",
    "        self.currentSize = 0\n",
    "\n",
    "    def buildHeap(self,alist):\n",
    "        self.currentSize = len(alist)\n",
    "        self.heapArray = [(0,0)]\n",
    "        for i in alist:\n",
    "            self.heapArray.append(i)\n",
    "        i = len(alist) // 2            \n",
    "        while (i > 0):\n",
    "            self.percDown(i)\n",
    "            i = i - 1\n",
    "                        \n",
    "    def percDown(self,i):\n",
    "        while (i * 2) <= self.currentSize:\n",
    "            mc = self.minChild(i)\n",
    "            if self.heapArray[i][0] > self.heapArray[mc][0]:\n",
    "                tmp = self.heapArray[i]\n",
    "                self.heapArray[i] = self.heapArray[mc]\n",
    "                self.heapArray[mc] = tmp\n",
    "            i = mc\n",
    "                \n",
    "    def minChild(self,i):\n",
    "        if i*2 > self.currentSize:\n",
    "            return -1\n",
    "        else:\n",
    "            if i*2 + 1 > self.currentSize:\n",
    "                return i*2\n",
    "            else:\n",
    "                if self.heapArray[i*2][0] < self.heapArray[i*2+1][0]:\n",
    "                    return i*2\n",
    "                else:\n",
    "                    return i*2+1\n",
    "\n",
    "    def percUp(self,i):\n",
    "        while i // 2 > 0:\n",
    "            if self.heapArray[i][0] < self.heapArray[i//2][0]:\n",
    "               tmp = self.heapArray[i//2]\n",
    "               self.heapArray[i//2] = self.heapArray[i]\n",
    "               self.heapArray[i] = tmp\n",
    "            i = i//2\n",
    " \n",
    "    def add(self,k):\n",
    "        self.heapArray.append(k)\n",
    "        self.currentSize = self.currentSize + 1\n",
    "        self.percUp(self.currentSize)\n",
    "\n",
    "    def delMin(self):\n",
    "        retval = self.heapArray[1][1]\n",
    "        self.heapArray[1] = self.heapArray[self.currentSize]\n",
    "        self.currentSize = self.currentSize - 1\n",
    "        self.heapArray.pop()\n",
    "        self.percDown(1)\n",
    "        return retval\n",
    "        \n",
    "    def isEmpty(self):\n",
    "        if self.currentSize == 0:\n",
    "            return True\n",
    "        else:\n",
    "            return False\n",
    "\n",
    "    def decreaseKey(self,val,amt):\n",
    "        # this is a little wierd, but we need to find the heap thing to decrease by\n",
    "        # looking at its value\n",
    "        done = False\n",
    "        i = 1\n",
    "        myKey = 0\n",
    "        while not done and i <= self.currentSize:\n",
    "            if self.heapArray[i][1] == val:\n",
    "                done = True\n",
    "                myKey = i\n",
    "            else:\n",
    "                i = i + 1\n",
    "        if myKey > 0:\n",
    "            self.heapArray[myKey] = (amt,self.heapArray[myKey][1])\n",
    "            self.percUp(myKey)\n",
    "            \n",
    "    def __contains__(self,vtx):\n",
    "        for pair in self.heapArray:\n",
    "            if pair[1] == vtx:\n",
    "                return True\n",
    "        return False\n"
   ]
  },
  {
   "cell_type": "code",
   "execution_count": null,
   "metadata": {
    "collapsed": true
   },
   "outputs": [],
   "source": [
    "    def buildHeap(self,alist):\n",
    "        self.currentSize = len(alist)\n",
    "        self.heapArray = [(0,0)]\n",
    "        for i in alist:\n",
    "            self.heapArray.append(i)\n",
    "        i = len(alist) // 2            \n",
    "        while (i > 0):\n",
    "            self.percDown(i)\n",
    "            i = i - 1\n",
    "\n",
    "PriorityQueue().buldheap()"
   ]
  },
  {
   "cell_type": "code",
   "execution_count": 363,
   "metadata": {
    "collapsed": true
   },
   "outputs": [],
   "source": [
    "def dijkstra(aGraph,start):\n",
    "    pq = PriorityQueue()\n",
    "    start.setDistance(0)\n",
    "    pq.buildHeap([(v.getDistance(),v) for v in aGraph])\n",
    "    orders = [] # newly added \n",
    "    while not pq.isEmpty():\n",
    "        currentVert = pq.delMin()\n",
    "        for nextVert in currentVert.getConnections():\n",
    "            newDist = currentVert.getDistance() \\\n",
    "                    + currentVert.getWeight(nextVert)\n",
    "            if newDist < nextVert.getDistance():\n",
    "                nextVert.setDistance( newDist )\n",
    "                nextVert.setPred(currentVert)\n",
    "                pq.decreaseKey(nextVert,newDist)\n",
    "            \n",
    "        orders =  orders + [currentVert.id]\n",
    "        print currentVert.getDistance()\n",
    "    return orders # newly added"
   ]
  },
  {
   "cell_type": "code",
   "execution_count": 387,
   "metadata": {},
   "outputs": [
    {
     "name": "stdout",
     "output_type": "stream",
     "text": [
      "0\n",
      "1\n",
      "2\n",
      "2\n",
      "4\n",
      "4\n"
     ]
    },
    {
     "data": {
      "text/plain": [
       "['u', 'x', 'v', 'y', 'w', 'z']"
      ]
     },
     "execution_count": 387,
     "metadata": {},
     "output_type": "execute_result"
    }
   ],
   "source": [
    "G= Graph()\n",
    "G.addVertex('u')\n",
    "G.addVertex('v')\n",
    "G.addVertex('x')\n",
    "G.addVertex('y')\n",
    "G.addVertex('z')\n",
    "G.addVertex('w')\n",
    "\n",
    "\n",
    "\n",
    "G.addEdge('u','v', 2)\n",
    "G.addEdge('u','x', 1)\n",
    "G.addEdge('x','v', 2)\n",
    "G.addEdge('u','w', 5)\n",
    "G.addEdge('w','y', 1)\n",
    "G.addEdge('y','z', 2)\n",
    "G.addEdge('w','z', 5)\n",
    "G.addEdge('v','w', 3)\n",
    "G.addEdge('x','y', 1)\n",
    "G.addEdge('x','w', 3)\n",
    "\n",
    "\n",
    "dijkstra(G, G.getVertex('u'))"
   ]
  },
  {
   "cell_type": "code",
   "execution_count": 388,
   "metadata": {},
   "outputs": [
    {
     "data": {
      "text/plain": [
       "[(0, 'u'), (4, 'w'), (2, 'v'), (2, 'y'), (1, 'x'), (4, 'z')]"
      ]
     },
     "execution_count": 388,
     "metadata": {},
     "output_type": "execute_result"
    }
   ],
   "source": [
    "[(v.getDistance(),v.getId()) for v in G]"
   ]
  },
  {
   "cell_type": "code",
   "execution_count": 402,
   "metadata": {},
   "outputs": [
    {
     "data": {
      "text/plain": [
       "[(9223372036854775807, 'u'),\n",
       " (9223372036854775807, 'w'),\n",
       " (9223372036854775807, 'v'),\n",
       " (9223372036854775807, 'y'),\n",
       " (9223372036854775807, 'x'),\n",
       " (9223372036854775807, 'z')]"
      ]
     },
     "execution_count": 402,
     "metadata": {},
     "output_type": "execute_result"
    }
   ],
   "source": [
    "G= Graph()\n",
    "G.addVertex('u')\n",
    "G.addVertex('v')\n",
    "G.addVertex('w')\n",
    "G.addVertex('x')\n",
    "G.addVertex('y')\n",
    "G.addVertex('z')\n",
    "\n",
    "G.addEdge('u','v', 2)\n",
    "G.addEdge('u','x', 1)\n",
    "G.addEdge('x','v', 2)\n",
    "G.addEdge('u','w', 5)\n",
    "G.addEdge('x','w', 3)\n",
    "#G.addEdge('w','y', 1)\n",
    "G.addEdge('y','z', 1)\n",
    "G.addEdge('w','z', 5)\n",
    "G.addEdge('v','w', 3)\n",
    "G.addEdge('x','y', 1)\n",
    "[(v.getDistance(),v.getId()) for v in G]"
   ]
  },
  {
   "cell_type": "code",
   "execution_count": 371,
   "metadata": {},
   "outputs": [
    {
     "name": "stdout",
     "output_type": "stream",
     "text": [
      "0\n",
      "1\n",
      "2\n",
      "2\n",
      "3\n",
      "4\n"
     ]
    },
    {
     "data": {
      "text/plain": [
       "['u', 'x', 'v', 'y', 'z', 'w']"
      ]
     },
     "execution_count": 371,
     "metadata": {},
     "output_type": "execute_result"
    }
   ],
   "source": [
    "G= Graph()\n",
    "G.addVertex('u')\n",
    "G.addVertex('v')\n",
    "G.addVertex('w')\n",
    "G.addVertex('x')\n",
    "G.addVertex('y')\n",
    "G.addVertex('z')\n",
    "\n",
    "G.addEdge('u','v', 2)\n",
    "G.addEdge('u','x', 1)\n",
    "G.addEdge('x','v', 2)\n",
    "G.addEdge('u','w', 5)\n",
    "G.addEdge('x','w', 3)\n",
    "#G.addEdge('w','y', 1)\n",
    "G.addEdge('y','z', 1)\n",
    "G.addEdge('w','z', 5)\n",
    "G.addEdge('v','w', 3)\n",
    "G.addEdge('x','y', 1)\n",
    "\n",
    "dijkstra(G, G.getVertex('u'))"
   ]
  },
  {
   "cell_type": "code",
   "execution_count": 274,
   "metadata": {},
   "outputs": [
    {
     "data": {
      "text/plain": [
       "9223372036854775807"
      ]
     },
     "execution_count": 274,
     "metadata": {},
     "output_type": "execute_result"
    }
   ],
   "source": [
    "dfs.getVertex('x').getDistance()"
   ]
  },
  {
   "cell_type": "code",
   "execution_count": null,
   "metadata": {
    "collapsed": true
   },
   "outputs": [],
   "source": [
    "Let us try the depth first search via networkx"
   ]
  },
  {
   "cell_type": "code",
   "execution_count": 335,
   "metadata": {
    "collapsed": true
   },
   "outputs": [],
   "source": [
    "import networkx as nx\n",
    "import matplotlib.pyplot as plt\n",
    "%matplotlib inline  \n",
    "\n",
    "G = nx.Graph()"
   ]
  },
  {
   "cell_type": "code",
   "execution_count": 346,
   "metadata": {
    "collapsed": true
   },
   "outputs": [],
   "source": [
    "G.add_node('u')\n",
    "G.add_node('v')\n",
    "G.add_node('w')\n",
    "G.add_node('x')\n",
    "G.add_node('y')\n",
    "G.add_node('z')\n",
    "\n",
    "G.add_edge('u','v', weight=2)\n",
    "G.add_edge('u','x', weight=1)\n",
    "G.add_edge('x','v', weight=2)\n",
    "G.add_edge('u','w', weight=5)\n",
    "G.add_edge('x','w', weight=3)\n",
    "G.add_edge('w','y', weight=1)\n",
    "G.add_edge('y','z', weight=1)\n",
    "#G.add_edge('w','z', weight=5)\n",
    "G.add_edge('v','w', weight=3)\n",
    "G.add_edge('x','y', weight=1)"
   ]
  },
  {
   "cell_type": "code",
   "execution_count": 347,
   "metadata": {},
   "outputs": [
    {
     "data": {
      "image/png": "[encoded data removed]",
      "text/plain": [
       "<matplotlib.figure.Figure at 0x105200490>"
      ]
     },
     "metadata": {},
     "output_type": "display_data"
    }
   ],
   "source": [
    "T = nx.dfs_tree(G,'u')\n",
    "nx.draw(T, with_labels=True)\n",
    "plt.show()"
   ]
  },
  {
   "cell_type": "code",
   "execution_count": 98,
   "metadata": {},
   "outputs": [
    {
     "data": {
      "image/png": "[encoded data removed]",
      "text/plain": [
       "<matplotlib.figure.Figure at 0x103686090>"
      ]
     },
     "metadata": {},
     "output_type": "display_data"
    }
   ],
   "source": [
    "nx.draw(G, with_labels =True)\n",
    "plt.show()"
   ]
  },
  {
   "cell_type": "code",
   "execution_count": 99,
   "metadata": {},
   "outputs": [
    {
     "data": {
      "text/plain": [
       "<generator object dfs_edges at 0x1037c1320>"
      ]
     },
     "execution_count": 99,
     "metadata": {},
     "output_type": "execute_result"
    }
   ],
   "source": [
    "nx.dfs_edges(G)"
   ]
  },
  {
   "cell_type": "code",
   "execution_count": 108,
   "metadata": {},
   "outputs": [
    {
     "data": {
      "text/plain": [
       "{'v': 'w', 'w': 'z', 'x': 'u', 'y': 'x', 'z': 'y'}"
      ]
     },
     "execution_count": 108,
     "metadata": {},
     "output_type": "execute_result"
    }
   ],
   "source": [
    "nx.dfs_predecessors(G)"
   ]
  },
  {
   "cell_type": "code",
   "execution_count": 104,
   "metadata": {},
   "outputs": [
    {
     "data": {
      "text/plain": [
       "{'v': 'w', 'w': 'z', 'x': 'u', 'y': 'x', 'z': 'y'}"
      ]
     },
     "execution_count": 104,
     "metadata": {},
     "output_type": "execute_result"
    }
   ],
   "source": [
    "nx.dfs_predecessors(G,'u')"
   ]
  },
  {
   "cell_type": "code",
   "execution_count": 105,
   "metadata": {},
   "outputs": [
    {
     "data": {
      "text/plain": [
       "{'u': 'w', 'v': 'u', 'w': 'z', 'y': 'x', 'z': 'y'}"
      ]
     },
     "execution_count": 105,
     "metadata": {},
     "output_type": "execute_result"
    }
   ],
   "source": [
    "nx.dfs_predecessors(G,'x')"
   ]
  },
  {
   "cell_type": "code",
   "execution_count": 250,
   "metadata": {},
   "outputs": [
    {
     "ename": "AttributeError",
     "evalue": "'NoneType' object has no attribute 'setDistance'",
     "output_type": "error",
     "traceback": [
      "\u001b[0;31m------------------------------\u001b[0m",
      "\u001b[0;31mAttributeError\u001b[0mTraceback (most recent call last)",
      "\u001b[0;32m<ipython-input-250-ebf3b2a2eccc>\u001b[0m in \u001b[0;36m<module>\u001b[0;34m()\u001b[0m\n\u001b[0;32m----> 1\u001b[0;31m \u001b[0mdijkstra\u001b[0m\u001b[0;34m(\u001b[0m\u001b[0mdfs\u001b[0m\u001b[0;34m,\u001b[0m \u001b[0mdfs\u001b[0m\u001b[0;34m.\u001b[0m\u001b[0mgetVertex\u001b[0m\u001b[0;34m(\u001b[0m\u001b[0;34m'u'\u001b[0m\u001b[0;34m)\u001b[0m\u001b[0;34m)\u001b[0m\u001b[0;34m\u001b[0m\u001b[0m\n\u001b[0m",
      "\u001b[0;32m<ipython-input-131-01b455d88923>\u001b[0m in \u001b[0;36mdijkstra\u001b[0;34m(aGraph, start)\u001b[0m\n\u001b[1;32m      1\u001b[0m \u001b[0;32mdef\u001b[0m \u001b[0mdijkstra\u001b[0m\u001b[0;34m(\u001b[0m\u001b[0maGraph\u001b[0m\u001b[0;34m,\u001b[0m\u001b[0mstart\u001b[0m\u001b[0;34m)\u001b[0m\u001b[0;34m:\u001b[0m\u001b[0;34m\u001b[0m\u001b[0m\n\u001b[1;32m      2\u001b[0m     \u001b[0mpq\u001b[0m \u001b[0;34m=\u001b[0m \u001b[0mPriorityQueue\u001b[0m\u001b[0;34m(\u001b[0m\u001b[0;34m)\u001b[0m\u001b[0;34m\u001b[0m\u001b[0m\n\u001b[0;32m----> 3\u001b[0;31m     \u001b[0mstart\u001b[0m\u001b[0;34m.\u001b[0m\u001b[0msetDistance\u001b[0m\u001b[0;34m(\u001b[0m\u001b[0;36m0\u001b[0m\u001b[0;34m)\u001b[0m\u001b[0;34m\u001b[0m\u001b[0m\n\u001b[0m\u001b[1;32m      4\u001b[0m     \u001b[0mpq\u001b[0m\u001b[0;34m.\u001b[0m\u001b[0mbuildHeap\u001b[0m\u001b[0;34m(\u001b[0m\u001b[0;34m[\u001b[0m\u001b[0;34m(\u001b[0m\u001b[0mv\u001b[0m\u001b[0;34m.\u001b[0m\u001b[0mgetDistance\u001b[0m\u001b[0;34m(\u001b[0m\u001b[0;34m)\u001b[0m\u001b[0;34m,\u001b[0m\u001b[0mv\u001b[0m\u001b[0;34m)\u001b[0m \u001b[0;32mfor\u001b[0m \u001b[0mv\u001b[0m \u001b[0;32min\u001b[0m \u001b[0maGraph\u001b[0m\u001b[0;34m]\u001b[0m\u001b[0;34m)\u001b[0m\u001b[0;34m\u001b[0m\u001b[0m\n\u001b[1;32m      5\u001b[0m     \u001b[0;32mwhile\u001b[0m \u001b[0;32mnot\u001b[0m \u001b[0mpq\u001b[0m\u001b[0;34m.\u001b[0m\u001b[0misEmpty\u001b[0m\u001b[0;34m(\u001b[0m\u001b[0;34m)\u001b[0m\u001b[0;34m:\u001b[0m\u001b[0;34m\u001b[0m\u001b[0m\n",
      "\u001b[0;31mAttributeError\u001b[0m: 'NoneType' object has no attribute 'setDistance'"
     ]
    }
   ],
   "source": [
    "dijkstra(dfs, dfs.getVertex('u'))"
   ]
  },
  {
   "cell_type": "code",
   "execution_count": 102,
   "metadata": {},
   "outputs": [
    {
     "data": {
      "text/plain": [
       "<networkx.classes.digraph.DiGraph at 0x1037c7a50>"
      ]
     },
     "execution_count": 102,
     "metadata": {},
     "output_type": "execute_result"
    }
   ],
   "source": []
  },
  {
   "cell_type": "code",
   "execution_count": 103,
   "metadata": {},
   "outputs": [
    {
     "data": {
      "image/png": "[encoded data removed]",
      "text/plain": [
       "<matplotlib.figure.Figure at 0x1053133d0>"
      ]
     },
     "metadata": {},
     "output_type": "display_data"
    }
   ],
   "source": [
    "nx.draw(G)\n",
    "plt.show()"
   ]
  },
  {
   "cell_type": "code",
   "execution_count": 145,
   "metadata": {},
   "outputs": [
    {
     "data": {
      "image/png": "[encoded data removed]",
      "text/plain": [
       "<matplotlib.figure.Figure at 0x1039de250>"
      ]
     },
     "metadata": {},
     "output_type": "display_data"
    }
   ],
   "source": [
    "G2 = nx.path_graph(5)\n",
    "nx.draw(G2, with_labels =True)\n",
    "plt.show()"
   ]
  },
  {
   "cell_type": "code",
   "execution_count": 146,
   "metadata": {},
   "outputs": [
    {
     "data": {
      "text/plain": [
       "[(4, 3), (3, 2), (2, 1), (1, 0)]"
      ]
     },
     "execution_count": 146,
     "metadata": {},
     "output_type": "execute_result"
    }
   ],
   "source": [
    "list(nx.dfs_edges(G2, source=4))"
   ]
  },
  {
   "cell_type": "code",
   "execution_count": 148,
   "metadata": {},
   "outputs": [
    {
     "data": {
      "text/plain": [
       "[('u', 'x'), ('x', 'y'), ('y', 'z'), ('z', 'w'), ('w', 'v')]"
      ]
     },
     "execution_count": 148,
     "metadata": {},
     "output_type": "execute_result"
    }
   ],
   "source": [
    "list(nx.dfs_edges(G, source='u'))"
   ]
  },
  {
   "cell_type": "code",
   "execution_count": 156,
   "metadata": {},
   "outputs": [
    {
     "data": {
      "text/plain": [
       "[('u', 'x'), ('w', 'v'), ('y', 'z'), ('x', 'y'), ('z', 'w')]"
      ]
     },
     "execution_count": 156,
     "metadata": {},
     "output_type": "execute_result"
    }
   ],
   "source": [
    "T = nx.dfs_tree(G, source='u')\n",
    "T.edges()\n"
   ]
  },
  {
   "cell_type": "code",
   "execution_count": 157,
   "metadata": {},
   "outputs": [
    {
     "data": {
      "image/png": "[encoded data removed]",
      "text/plain": [
       "<matplotlib.figure.Figure at 0x1051fac50>"
      ]
     },
     "metadata": {},
     "output_type": "display_data"
    }
   ],
   "source": [
    "nx.draw(T, with_labels =True)\n",
    "plt.show()"
   ]
  },
  {
   "cell_type": "code",
   "execution_count": 159,
   "metadata": {},
   "outputs": [
    {
     "data": {
      "text/plain": [
       "{'v': 'w', 'w': 'z', 'x': 'u', 'y': 'x', 'z': 'y'}"
      ]
     },
     "execution_count": 159,
     "metadata": {},
     "output_type": "execute_result"
    }
   ],
   "source": [
    "nx.dfs_predecessors(G, source='u')"
   ]
  },
  {
   "cell_type": "code",
   "execution_count": 160,
   "metadata": {},
   "outputs": [
    {
     "data": {
      "text/plain": [
       "{'u': ['x'], 'w': ['v'], 'x': ['y'], 'y': ['z'], 'z': ['w']}"
      ]
     },
     "execution_count": 160,
     "metadata": {},
     "output_type": "execute_result"
    }
   ],
   "source": [
    "nx.dfs_successors(G, source='u')"
   ]
  },
  {
   "cell_type": "code",
   "execution_count": 161,
   "metadata": {
    "collapsed": true
   },
   "outputs": [],
   "source": [
    "def dfs_mann(graph, start):\n",
    "    visited, stack = set(), [start]\n",
    "    while stack:\n",
    "        vertex = stack.pop()\n",
    "        if vertex not in visited:\n",
    "            visited.add(vertex)\n",
    "            stack.extend(graph[vertex] - visited)\n",
    "    return visited\n"
   ]
  },
  {
   "cell_type": "code",
   "execution_count": 187,
   "metadata": {},
   "outputs": [
    {
     "ename": "AttributeError",
     "evalue": "DFSGraph instance has no __call__ method",
     "output_type": "error",
     "traceback": [
      "\u001b[0;31m------------------------------\u001b[0m",
      "\u001b[0;31mAttributeError\u001b[0mTraceback (most recent call last)",
      "\u001b[0;32m<ipython-input-187-71aa1509b085>\u001b[0m in \u001b[0;36m<module>\u001b[0;34m()\u001b[0m\n\u001b[0;32m----> 1\u001b[0;31m \u001b[0mdfs\u001b[0m\u001b[0;34m(\u001b[0m\u001b[0mG3\u001b[0m\u001b[0;34m,\u001b[0m\u001b[0;34m'A'\u001b[0m\u001b[0;34m)\u001b[0m\u001b[0;34m\u001b[0m\u001b[0m\n\u001b[0m",
      "\u001b[0;31mAttributeError\u001b[0m: DFSGraph instance has no __call__ method"
     ]
    }
   ],
   "source": [
    "dfs(G3,'A')"
   ]
  },
  {
   "cell_type": "code",
   "execution_count": 181,
   "metadata": {
    "collapsed": true
   },
   "outputs": [],
   "source": [
    "G3 = nx.Graph()\n",
    "\n",
    "G3.add_node('A')\n",
    "G3.add_node('C')\n",
    "G3.add_node('B')\n",
    "G3.add_node('D')\n",
    "G3.add_node('E')\n",
    "G3.add_node('F')\n",
    "\n",
    "G3.add_edge('A','D')\n",
    "G3.add_edge('A','B')\n",
    "G3.add_edge('B','C')\n",
    "G3.add_edge('B','D')\n",
    "G3.add_edge('D','E')\n",
    "G3.add_edge('E','B')\n",
    "G3.add_edge('E','F')\n",
    "G3.add_edge('F','C')"
   ]
  },
  {
   "cell_type": "code",
   "execution_count": 182,
   "metadata": {},
   "outputs": [
    {
     "data": {
      "text/plain": [
       "[('A', 'B'), ('B', 'C'), ('C', 'F'), ('F', 'E'), ('E', 'D')]"
      ]
     },
     "execution_count": 182,
     "metadata": {},
     "output_type": "execute_result"
    }
   ],
   "source": [
    "list(nx.dfs_edges(G3,'A'))"
   ]
  },
  {
   "cell_type": "code",
   "execution_count": 183,
   "metadata": {},
   "outputs": [
    {
     "data": {
      "text/plain": [
       "{'A': ['B'], 'B': ['C'], 'C': ['F'], 'E': ['D'], 'F': ['E']}"
      ]
     },
     "execution_count": 183,
     "metadata": {},
     "output_type": "execute_result"
    }
   ],
   "source": [
    "nx.dfs_successors(G3,'A')"
   ]
  },
  {
   "cell_type": "code",
   "execution_count": 186,
   "metadata": {},
   "outputs": [
    {
     "data": {
      "text/plain": [
       "[('A', 'B'), ('C', 'F'), ('B', 'C'), ('E', 'D'), ('F', 'E')]"
      ]
     },
     "execution_count": 186,
     "metadata": {},
     "output_type": "execute_result"
    }
   ],
   "source": [
    "T3 = nx.dfs_tree(G3, source='A')\n",
    "T3.edges()"
   ]
  },
  {
   "cell_type": "code",
   "execution_count": 184,
   "metadata": {},
   "outputs": [
    {
     "data": {
      "image/png": "[encoded data removed]",
      "text/plain": [
       "<matplotlib.figure.Figure at 0x10378ef50>"
      ]
     },
     "metadata": {},
     "output_type": "display_data"
    }
   ],
   "source": [
    "nx.draw(T3, with_labels=True)\n",
    "plt.show()"
   ]
  },
  {
   "cell_type": "code",
   "execution_count": null,
   "metadata": {
    "collapsed": true
   },
   "outputs": [],
   "source": []
  },
  {
   "cell_type": "code",
   "execution_count": 224,
   "metadata": {},
   "outputs": [
    {
     "data": {
      "text/plain": [
       "{'A', 'B', 'C', 'D', 'E', 'F'}"
      ]
     },
     "execution_count": 224,
     "metadata": {},
     "output_type": "execute_result"
    }
   ],
   "source": [
    "graph = {'A': set(['B', 'C']),\n",
    "         'B': set(['A', 'D', 'E']),\n",
    "         'C': set(['A', 'F']),\n",
    "         'D': set(['B']),\n",
    "         'E': set(['B', 'F']),\n",
    "         'F': set(['C', 'E'])}\n",
    "\n",
    "def Dfs(graph, start):\n",
    "    visited, stack = set(), [start]\n",
    "    while stack:\n",
    "        vertex = stack.pop()\n",
    "        if vertex not in visited:\n",
    "            visited.add(vertex)\n",
    "            stack.extend(graph[vertex] - visited)\n",
    "    return visited\n",
    "\n",
    "Dfs(graph, 'D')"
   ]
  },
  {
   "cell_type": "code",
   "execution_count": 425,
   "metadata": {
    "collapsed": true
   },
   "outputs": [],
   "source": [
    "def prim(G,start):\n",
    "    pq = PriorityQueue()\n",
    "    for v in G:\n",
    "        v.setDistance(sys.maxsize)\n",
    "        v.setPred(None)\n",
    "    start.setDistance(0)\n",
    "    pq.buildHeap([(v.getDistance(),v) for v in G])\n",
    "    orders = []\n",
    "    while not pq.isEmpty():\n",
    "        currentVert = pq.delMin()\n",
    "        orders = orders + [currentVert.id]\n",
    "        for nextVert in currentVert.getConnections():\n",
    "            newCost = currentVert.getWeight(nextVert)\n",
    "            if nextVert in pq and newCost<nextVert.getDistance():\n",
    "                nextVert.setPred(currentVert)\n",
    "                nextVert.setDistance(newCost)\n",
    "                pq.decreaseKey(nextVert,newCost)\n",
    "    return orders\n"
   ]
  },
  {
   "cell_type": "code",
   "execution_count": 426,
   "metadata": {},
   "outputs": [
    {
     "data": {
      "text/plain": [
       "['A', 'B', 'C', 'D', 'F', 'E', 'G']"
      ]
     },
     "execution_count": 426,
     "metadata": {},
     "output_type": "execute_result"
    }
   ],
   "source": [
    "G= Graph()\n",
    "G.addVertex('A')\n",
    "G.addVertex('B')\n",
    "G.addVertex('C')\n",
    "G.addVertex('D')\n",
    "G.addVertex('E')\n",
    "G.addVertex('F')\n",
    "G.addVertex('G')\n",
    "\n",
    "\n",
    "G.addEdge('A','B', 2)\n",
    "G.addEdge('A','C', 3)\n",
    "G.addEdge('B','C', 1)\n",
    "G.addEdge('B','D', 1)\n",
    "G.addEdge('B','E', 4)\n",
    "G.addEdge('C','F', 1)\n",
    "G.addEdge('D','E', 1)\n",
    "G.addEdge('E','F', 1)\n",
    "G.addEdge('F','G', 1)\n",
    "prim(G,G.getVertex('A'))"
   ]
  },
  {
   "cell_type": "code",
   "execution_count": null,
   "metadata": {
    "collapsed": true
   },
   "outputs": [],
   "source": []
  }
 ],
 "metadata": {
  "kernelspec": {
   "display_name": "Python 2",
   "language": "python",
   "name": "python2"
  },
  "language_info": {
   "codemirror_mode": {
    "name": "ipython",
    "version": 2
   },
   "file_extension": ".py",
   "mimetype": "text/x-python",
   "name": "python",
   "nbconvert_exporter": "python",
   "pygments_lexer": "ipython2",
   "version": "2.7.10"
  }
 },
 "nbformat": 4,
 "nbformat_minor": 1
}
