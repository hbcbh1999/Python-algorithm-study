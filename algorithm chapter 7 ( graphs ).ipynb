{
 "cells": [
  {
   "cell_type": "code",
   "execution_count": 843,
   "metadata": {
    "collapsed": true
   },
   "outputs": [],
   "source": [
    "%matplotlib inline\n",
    "\n",
    "\n",
    "\n",
    "import sys\n",
    "sys.path.append('/usr/local/lib/python2.7/site-packages/')\n",
    "import os\n",
    "\n",
    "class Vertex:\n",
    "    def __init__(self,key):\n",
    "        self.id = key\n",
    "        self.connectedTo = {}\n",
    "        self.color = 'white'\n",
    "        self.dist = sys.maxsize\n",
    "        self.pred = None\n",
    "\n",
    "    def addNeighbor(self,nbr,weight=0):\n",
    "        self.connectedTo[nbr] = weight\n",
    "        \n",
    "    def setColor(self,color):\n",
    "        self.color = color\n",
    "        \n",
    "    def setDistance(self,d):\n",
    "        self.dist = d\n",
    "\n",
    "    def setPred(self,p):\n",
    "        self.pred = p\n",
    "        \n",
    "    def setDiscovery(self,dtime):\n",
    "        self.disc = dtime\n",
    "        \n",
    "    def setFinish(self,ftime):\n",
    "        self.fin = ftime\n",
    "        \n",
    "    def getFinish(self):\n",
    "        return self.fin\n",
    "        \n",
    "    def getDiscovery(self):\n",
    "        return self.disc\n",
    "        \n",
    "        \n",
    "    def getPred(self):\n",
    "        return self.pred\n",
    "        \n",
    "    def getDistance(self):\n",
    "        return self.dist\n",
    "        \n",
    "    def getColor(self):\n",
    "        return self.color\n",
    "    \n",
    "\n",
    "    def __str__(self):\n",
    "        return str(self.id) + \":color \" + self.color + \":disc \" + str(self.disc) + \":fin \" + str(self.fin) + \":dist \" + str(self.dist) + \":pred \\n\\t[\" + str(self.pred)+ \"]\\n\"\n",
    "\n",
    "    def getConnections(self):\n",
    "        return self.connectedTo.keys()\n",
    "\n",
    "    def getId(self):\n",
    "        return self.id\n",
    "\n",
    "    def getWeight(self,nbr):\n",
    "        return self.connectedTo[nbr]\n",
    "\n",
    "class Graph:\n",
    "    def __init__(self):\n",
    "        self.vertList = {}\n",
    "        self.numVertices = 0\n",
    "\n",
    "    def addVertex(self,key):\n",
    "        self.numVertices = self.numVertices + 1\n",
    "        newVertex = Vertex(key)\n",
    "        self.vertList[key] = newVertex\n",
    "        return newVertex\n",
    "\n",
    "    def getVertex(self,n):\n",
    "        if n in self.vertList:\n",
    "            return self.vertList[n]\n",
    "        else:\n",
    "            return None\n",
    "\n",
    "    def __contains__(self,n):\n",
    "        return n in self.vertList\n",
    "\n",
    "    def addEdge(self,f,t,cost=0):\n",
    "        if f not in self.vertList:\n",
    "            nv = self.addVertex(f)\n",
    "        if t not in self.vertList:\n",
    "            nv = self.addVertex(t)\n",
    "        self.vertList[f].addNeighbor(self.vertList[t], cost)\n",
    "\n",
    "    def getVertices(self):\n",
    "        return self.vertList.keys()\n",
    "\n",
    "    def __iter__(self):\n",
    "        return iter(self.vertList.values())\n"
   ]
  },
  {
   "cell_type": "code",
   "execution_count": 844,
   "metadata": {
    "collapsed": false
   },
   "outputs": [],
   "source": [
    "g = Graph()\n",
    "for i in range(6):\n",
    "    g.addVertex(i)"
   ]
  },
  {
   "cell_type": "code",
   "execution_count": 845,
   "metadata": {
    "collapsed": false
   },
   "outputs": [
    {
     "data": {
      "text/plain": [
       "{0: <__main__.Vertex instance at 0x107dfac68>,\n",
       " 1: <__main__.Vertex instance at 0x132364830>,\n",
       " 2: <__main__.Vertex instance at 0x1323649e0>,\n",
       " 3: <__main__.Vertex instance at 0x1323642d8>,\n",
       " 4: <__main__.Vertex instance at 0x132364758>,\n",
       " 5: <__main__.Vertex instance at 0x132364a28>}"
      ]
     },
     "execution_count": 845,
     "metadata": {},
     "output_type": "execute_result"
    }
   ],
   "source": [
    "g.vertList"
   ]
  },
  {
   "cell_type": "code",
   "execution_count": 846,
   "metadata": {
    "collapsed": false
   },
   "outputs": [
    {
     "name": "stdout",
     "output_type": "stream",
     "text": [
      "( 0 , 5 )\n",
      "( 0 , 1 )\n",
      "( 1 , 2 )\n",
      "( 2 , 3 )\n",
      "( 3 , 5 )\n",
      "( 3 , 4 )\n",
      "( 4 , 0 )\n",
      "( 5 , 4 )\n",
      "( 5 , 2 )\n"
     ]
    }
   ],
   "source": [
    "g.addEdge(0,1,5)\n",
    "g.addEdge(0,5,2)\n",
    "g.addEdge(1,2,4)\n",
    "g.addEdge(2,3,9)\n",
    "g.addEdge(3,4,7)\n",
    "g.addEdge(3,5,3)\n",
    "g.addEdge(4,0,1)\n",
    "g.addEdge(5,4,8)\n",
    "g.addEdge(5,2,1)\n",
    "\n",
    "for v in g:\n",
    "    for w in v.getConnections():\n",
    "        print \"( %s , %s )\" % (v.getId(), w.getId())\n"
   ]
  },
  {
   "cell_type": "code",
   "execution_count": 847,
   "metadata": {
    "collapsed": true
   },
   "outputs": [],
   "source": [
    "f = open('wordFile', 'w')\n",
    "f.write('FOOL\\n')\n",
    "f.write('POOL\\n')\n",
    "f.write('FOUL\\n')\n",
    "f.write('FOIL\\n')\n",
    "f.write('COOL\\n')\n",
    "f.write('POLL\\n')\n",
    "f.write('POLE\\n')\n",
    "f.write('PALE\\n')\n",
    "f.write('SALE\\n')\n",
    "f.write('SAGE\\n')\n",
    "f.close()\n",
    "\n",
    "def buildGraph(wordFile):\n",
    "    d = {}\n",
    "    g = Graph()\n",
    "    wfile = open(wordFile,'r')\n",
    "    # create buckets of words that differ by one letter\n",
    "    for line in wfile:\n",
    "        word = line[:-1]\n",
    "        for i in range(len(word)):\n",
    "            bucket = word[:i] + '_' + word[i+1:]\n",
    "            if bucket in d:\n",
    "                d[bucket].append(word)\n",
    "            else:\n",
    "                d[bucket] = [word]\n",
    "    # add vertices and edges for words in the same bucket\n",
    "    for bucket in d.keys():\n",
    "        for word1 in d[bucket]:\n",
    "            for word2 in d[bucket]:\n",
    "                if word1 != word2:\n",
    "                    g.addEdge(word1,word2)\n",
    "    return g"
   ]
  },
  {
   "cell_type": "code",
   "execution_count": 848,
   "metadata": {
    "collapsed": false
   },
   "outputs": [
    {
     "data": {
      "text/plain": [
       "{'COO_': ['COOL'],\n",
       " 'CO_L': ['COOL'],\n",
       " 'C_OL': ['COOL'],\n",
       " 'FOI_': ['FOIL'],\n",
       " 'FOO_': ['FOOL'],\n",
       " 'FOU_': ['FOUL'],\n",
       " 'FO_L': ['FOOL', 'FOUL', 'FOIL'],\n",
       " 'F_IL': ['FOIL'],\n",
       " 'F_OL': ['FOOL'],\n",
       " 'F_UL': ['FOUL'],\n",
       " 'PAL_': ['PALE'],\n",
       " 'PA_E': ['PALE'],\n",
       " 'POL_': ['POLL', 'POLE'],\n",
       " 'POO_': ['POOL'],\n",
       " 'PO_E': ['POLE'],\n",
       " 'PO_L': ['POOL', 'POLL'],\n",
       " 'P_LE': ['POLE', 'PALE'],\n",
       " 'P_LL': ['POLL'],\n",
       " 'P_OL': ['POOL'],\n",
       " 'SAG_': ['SAGE'],\n",
       " 'SAL_': ['SALE'],\n",
       " 'SA_E': ['SALE', 'SAGE'],\n",
       " 'S_GE': ['SAGE'],\n",
       " 'S_LE': ['SALE'],\n",
       " '_AGE': ['SAGE'],\n",
       " '_ALE': ['PALE', 'SALE'],\n",
       " '_OIL': ['FOIL'],\n",
       " '_OLE': ['POLE'],\n",
       " '_OLL': ['POLL'],\n",
       " '_OOL': ['FOOL', 'POOL', 'COOL'],\n",
       " '_OUL': ['FOUL']}"
      ]
     },
     "execution_count": 848,
     "metadata": {},
     "output_type": "execute_result"
    }
   ],
   "source": [
    "d"
   ]
  },
  {
   "cell_type": "code",
   "execution_count": 849,
   "metadata": {
    "collapsed": false
   },
   "outputs": [
    {
     "name": "stdout",
     "output_type": "stream",
     "text": [
      "('P_LE', ['POLE', 'PALE'], 'POLE', 'PALE')\n",
      "('P_LE', ['POLE', 'PALE'], 'PALE', 'POLE')\n",
      "('POL_', ['POLL', 'POLE'], 'POLL', 'POLE')\n",
      "('POL_', ['POLL', 'POLE'], 'POLE', 'POLL')\n",
      "('_ALE', ['PALE', 'SALE'], 'PALE', 'SALE')\n",
      "('_ALE', ['PALE', 'SALE'], 'SALE', 'PALE')\n",
      "('FO_L', ['FOOL', 'FOUL', 'FOIL'], 'FOOL', 'FOUL')\n",
      "('FO_L', ['FOOL', 'FOUL', 'FOIL'], 'FOOL', 'FOIL')\n",
      "('FO_L', ['FOOL', 'FOUL', 'FOIL'], 'FOUL', 'FOOL')\n",
      "('FO_L', ['FOOL', 'FOUL', 'FOIL'], 'FOUL', 'FOIL')\n",
      "('FO_L', ['FOOL', 'FOUL', 'FOIL'], 'FOIL', 'FOOL')\n",
      "('FO_L', ['FOOL', 'FOUL', 'FOIL'], 'FOIL', 'FOUL')\n",
      "('SA_E', ['SALE', 'SAGE'], 'SALE', 'SAGE')\n",
      "('SA_E', ['SALE', 'SAGE'], 'SAGE', 'SALE')\n",
      "('PO_L', ['POOL', 'POLL'], 'POOL', 'POLL')\n",
      "('PO_L', ['POOL', 'POLL'], 'POLL', 'POOL')\n",
      "('_OOL', ['FOOL', 'POOL', 'COOL'], 'FOOL', 'POOL')\n",
      "('_OOL', ['FOOL', 'POOL', 'COOL'], 'FOOL', 'COOL')\n",
      "('_OOL', ['FOOL', 'POOL', 'COOL'], 'POOL', 'FOOL')\n",
      "('_OOL', ['FOOL', 'POOL', 'COOL'], 'POOL', 'COOL')\n",
      "('_OOL', ['FOOL', 'POOL', 'COOL'], 'COOL', 'FOOL')\n",
      "('_OOL', ['FOOL', 'POOL', 'COOL'], 'COOL', 'POOL')\n"
     ]
    }
   ],
   "source": [
    "d={}\n",
    "g=Graph()\n",
    "wfile = open('wordFile','r')\n",
    "for line in wfile:\n",
    "    word = line[:-1]\n",
    "    for i in range(len(word)):\n",
    "        bucket = word[:i] + '_' + word[i+1:]            \n",
    "        if bucket in d:\n",
    "            d[bucket].append(word)\n",
    "        else:\n",
    "            d[bucket] = [word]   \n",
    "for bucket in d.keys():\n",
    "    for word1 in d[bucket]:\n",
    "        for word2 in d[bucket]:\n",
    "            if word1 != word2:\n",
    "                print (bucket,d[bucket],word1,word2)"
   ]
  },
  {
   "cell_type": "code",
   "execution_count": 850,
   "metadata": {
    "collapsed": false
   },
   "outputs": [],
   "source": [
    "wordgraph = buildGraph('wordFile')"
   ]
  },
  {
   "cell_type": "code",
   "execution_count": 851,
   "metadata": {
    "collapsed": false
   },
   "outputs": [
    {
     "name": "stdout",
     "output_type": "stream",
     "text": [
      "( FOOL , FOUL )\n",
      "( FOOL , POOL )\n",
      "( FOOL , COOL )\n",
      "( FOOL , FOIL )\n",
      "( SAGE , SALE )\n",
      "( SALE , PALE )\n",
      "( SALE , SAGE )\n",
      "( FOUL , FOOL )\n",
      "( FOUL , FOIL )\n",
      "( POLE , PALE )\n",
      "( POLE , POLL )\n",
      "( FOIL , FOOL )\n",
      "( FOIL , FOUL )\n",
      "( POLL , POOL )\n",
      "( POLL , POLE )\n",
      "( PALE , POLE )\n",
      "( PALE , SALE )\n",
      "( POOL , FOOL )\n",
      "( POOL , COOL )\n",
      "( POOL , POLL )\n",
      "( COOL , FOOL )\n",
      "( COOL , POOL )\n"
     ]
    }
   ],
   "source": [
    "for v in wordgraph:\n",
    "    for w in v.getConnections():\n",
    "        print \"( %s , %s )\" % (v.getId(), w.getId())"
   ]
  },
  {
   "cell_type": "code",
   "execution_count": 852,
   "metadata": {
    "collapsed": true
   },
   "outputs": [],
   "source": [
    "class Queue:\n",
    "    def __init__(self):\n",
    "        self.items = []\n",
    "\n",
    "    def isEmpty(self):\n",
    "        return self.items == []\n",
    "\n",
    "    def enqueue(self, item):\n",
    "        self.items.insert(0,item)\n",
    "\n",
    "    def dequeue(self):\n",
    "        return self.items.pop()\n",
    "\n",
    "    def size(self):\n",
    "        return len(self.items)"
   ]
  },
  {
   "cell_type": "code",
   "execution_count": 853,
   "metadata": {
    "collapsed": true
   },
   "outputs": [],
   "source": [
    "def bfs(g,start):\n",
    "    start.setDistance(0)\n",
    "    start.setPred(None)\n",
    "    vertQueue = Queue()\n",
    "    vertQueue.enqueue(start)\n",
    "    while (vertQueue.size() > 0):\n",
    "        currentVert = vertQueue.dequeue()\n",
    "        for nbr in currentVert.getConnections():\n",
    "            if (nbr.getColor() == 'white'):\n",
    "                nbr.setColor('gray')\n",
    "                nbr.setDistance(currentVert.getDistance() + 1)\n",
    "                nbr.setPred(currentVert)\n",
    "                vertQueue.enqueue(nbr)\n",
    "        currentVert.setColor('black')\n",
    "        \n",
    "\n",
    "def traverse(y):\n",
    "    x = y\n",
    "    while (x.getPred()):\n",
    "        print(x.getId())\n",
    "        x = x.getPred()\n",
    "    print(x.getId())\n",
    "\n"
   ]
  },
  {
   "cell_type": "code",
   "execution_count": 640,
   "metadata": {
    "collapsed": false
   },
   "outputs": [],
   "source": [
    "bfs(wordgraph,wordgraph.getVertex('SAGE'))"
   ]
  },
  {
   "cell_type": "code",
   "execution_count": 641,
   "metadata": {
    "collapsed": false
   },
   "outputs": [
    {
     "name": "stdout",
     "output_type": "stream",
     "text": [
      "FOOL\n",
      "POOL\n",
      "POLL\n",
      "POLE\n",
      "PALE\n",
      "SALE\n",
      "SAGE\n"
     ]
    }
   ],
   "source": [
    "traverse(wordgraph.getVertex('FOOL'))"
   ]
  },
  {
   "cell_type": "code",
   "execution_count": 642,
   "metadata": {
    "collapsed": false
   },
   "outputs": [
    {
     "data": {
      "text/plain": [
       "'SAGE'"
      ]
     },
     "execution_count": 642,
     "metadata": {},
     "output_type": "execute_result"
    }
   ],
   "source": [
    "wordgraph.getVertex('SAGE').id"
   ]
  },
  {
   "cell_type": "code",
   "execution_count": 643,
   "metadata": {
    "collapsed": false
   },
   "outputs": [
    {
     "name": "stdout",
     "output_type": "stream",
     "text": [
      "[<__main__.Vertex instance at 0x131064680>, <__main__.Vertex instance at 0x131064710>, <__main__.Vertex instance at 0x131064440>, <__main__.Vertex instance at 0x1310646c8>]\n",
      "POOL\n"
     ]
    }
   ],
   "source": [
    "print wordgraph.getVertex('FOOL').getConnections()\n",
    "print wordgraph.getVertex('FOOL').getConnections()[0].id"
   ]
  },
  {
   "cell_type": "code",
   "execution_count": 644,
   "metadata": {
    "collapsed": false
   },
   "outputs": [
    {
     "data": {
      "text/plain": [
       "{'COOL': <__main__.Vertex instance at 0x1310646c8>,\n",
       " 'FOIL': <__main__.Vertex instance at 0x131064440>,\n",
       " 'FOOL': <__main__.Vertex instance at 0x131064518>,\n",
       " 'FOUL': <__main__.Vertex instance at 0x131064710>,\n",
       " 'PALE': <__main__.Vertex instance at 0x1310643f8>,\n",
       " 'POLE': <__main__.Vertex instance at 0x131064fc8>,\n",
       " 'POLL': <__main__.Vertex instance at 0x131064b90>,\n",
       " 'POOL': <__main__.Vertex instance at 0x131064680>,\n",
       " 'SAGE': <__main__.Vertex instance at 0x131064a70>,\n",
       " 'SALE': <__main__.Vertex instance at 0x131064488>}"
      ]
     },
     "execution_count": 644,
     "metadata": {},
     "output_type": "execute_result"
    }
   ],
   "source": [
    "wordgraph.vertList"
   ]
  },
  {
   "cell_type": "code",
   "execution_count": null,
   "metadata": {
    "collapsed": true
   },
   "outputs": [],
   "source": []
  },
  {
   "cell_type": "code",
   "execution_count": 645,
   "metadata": {
    "collapsed": false
   },
   "outputs": [],
   "source": [
    "def knightGraph(bdSize):\n",
    "    ktGraph = Graph()\n",
    "    for row in range(bdSize):\n",
    "        for col in range(bdSize):\n",
    "            nodeId = posToNodeId(row,col,bdSize)\n",
    "            newPositions = genLegalMoves(row,col,bdSize)\n",
    "            for e in newPositions:\n",
    "                nid = posToNodeId(e[0],e[1],bdSize)\n",
    "                ktGraph.addEdge(nodeId,nid)\n",
    "    return ktGraph\n",
    "\n",
    "def posToNodeId(row, col, bdSize):\n",
    "    return (row * bdSize) + col\n",
    "\n",
    "def genLegalMoves(x,y,bdSize):\n",
    "    newMoves = []\n",
    "    moveOffsets = [(-1,-2),(-1,2),(-2,-1),(-2,1),\n",
    "                   ( 1,-2),( 1,2),( 2,-1),( 2,1)]\n",
    "    for i in moveOffsets:\n",
    "        newX = x + i[0]\n",
    "        newY = y + i[1]\n",
    "        if legalCoord(newX,newY,bdSize): \n",
    "            newMoves.append((newX,newY))\n",
    "    return newMoves\n",
    "\n",
    "def legalCoord(x, y, bdSize):\n",
    "    fit = False\n",
    "    if x >= 0 and x < bdSize and y >=0 and y < bdSize:\n",
    "        fit = True\n",
    "    return fit"
   ]
  },
  {
   "cell_type": "code",
   "execution_count": 646,
   "metadata": {
    "collapsed": false
   },
   "outputs": [
    {
     "data": {
      "text/plain": [
       "[4]"
      ]
     },
     "execution_count": 646,
     "metadata": {},
     "output_type": "execute_result"
    }
   ],
   "source": [
    "kt = knightGraph(3)\n",
    "[i for i in range(9) if i not in kt.vertList]"
   ]
  },
  {
   "cell_type": "code",
   "execution_count": 647,
   "metadata": {
    "collapsed": false
   },
   "outputs": [
    {
     "data": {
      "text/plain": [
       "[]"
      ]
     },
     "execution_count": 647,
     "metadata": {},
     "output_type": "execute_result"
    }
   ],
   "source": [
    "kt = knightGraph(100)\n",
    "[i for i in range(10000) if i not in kt.vertList]"
   ]
  },
  {
   "cell_type": "code",
   "execution_count": 648,
   "metadata": {
    "collapsed": false
   },
   "outputs": [
    {
     "data": {
      "text/plain": [
       "[]"
      ]
     },
     "execution_count": 648,
     "metadata": {},
     "output_type": "execute_result"
    }
   ],
   "source": [
    "kt = knightGraph(8)\n",
    "[i for i in range(64) if i not in kt.vertList]"
   ]
  },
  {
   "cell_type": "code",
   "execution_count": 649,
   "metadata": {
    "collapsed": false
   },
   "outputs": [
    {
     "data": {
      "text/plain": [
       "[13, 38, 29, 6]"
      ]
     },
     "execution_count": 649,
     "metadata": {},
     "output_type": "execute_result"
    }
   ],
   "source": [
    "[v.id for v in kt.vertList[23].getConnections()]"
   ]
  },
  {
   "cell_type": "code",
   "execution_count": 650,
   "metadata": {
    "collapsed": true
   },
   "outputs": [],
   "source": [
    "def knightTour(n,path,u,limit):\n",
    "        u.setColor('gray')\n",
    "        path.append(u)\n",
    "        if n < limit:\n",
    "            nbrList = list(u.getConnections())\n",
    "            i = 0\n",
    "            done = False\n",
    "            while i < len(nbrList) and not done:\n",
    "                if nbrList[i].getColor() == 'white':\n",
    "                    done = knightTour(n+1, path, nbrList[i], limit)\n",
    "                i = i + 1\n",
    "            if not done:  # prepare to backtrack\n",
    "                path.pop()\n",
    "                u.setColor('white')\n",
    "        else:\n",
    "            done = True\n",
    "        return done"
   ]
  },
  {
   "cell_type": "code",
   "execution_count": 651,
   "metadata": {
    "collapsed": false
   },
   "outputs": [
    {
     "name": "stdout",
     "output_type": "stream",
     "text": [
      "0\n",
      "5\n",
      "6\n",
      "1\n",
      "8\n",
      "3\n",
      "2\n",
      "7\n"
     ]
    }
   ],
   "source": [
    "kg = knightGraph(3)  \n",
    "          \n",
    "thepath = []\n",
    "start = kg.getVertex(0)\n",
    "knightTour(0,thepath,start,7)\n",
    "for v in thepath:\n",
    "    print(v.getId())"
   ]
  },
  {
   "cell_type": "code",
   "execution_count": 652,
   "metadata": {
    "collapsed": false
   },
   "outputs": [
    {
     "name": "stdout",
     "output_type": "stream",
     "text": [
      "0\n",
      "11\n",
      "22\n",
      "15\n",
      "12\n",
      "23\n",
      "14\n",
      "3\n",
      "6\n",
      "13\n"
     ]
    }
   ],
   "source": [
    "kg = knightGraph(5)  #five by five solution\n",
    "          \n",
    "thepath = [kg.getVertex(0),kg.getVertex(11)]\n",
    "start = kg.getVertex(22)\n",
    "knightTour(0,thepath,start,7)\n",
    "for v in thepath:\n",
    "    print(v.getId())"
   ]
  },
  {
   "cell_type": "code",
   "execution_count": 653,
   "metadata": {
    "collapsed": true
   },
   "outputs": [],
   "source": [
    "def orderByAvail(n): \n",
    "    resList = []\n",
    "    for v in n.getConnections():\n",
    "        if v.getColor() == 'white':\n",
    "            c = 0\n",
    "            for w in v.getConnections():\n",
    "                if w.getColor() == 'white':\n",
    "                    c = c + 1\n",
    "            resList.append((c,v))\n",
    "    resList.sort(key=lambda x: x[0])\n",
    "    return [y[1] for y in resList]"
   ]
  },
  {
   "cell_type": "code",
   "execution_count": 654,
   "metadata": {
    "collapsed": false
   },
   "outputs": [
    {
     "data": {
      "text/plain": [
       "[<__main__.Vertex instance at 0x1316b2128>,\n",
       " <__main__.Vertex instance at 0x1316b2170>,\n",
       " <__main__.Vertex instance at 0x1316a9f38>]"
      ]
     },
     "execution_count": 654,
     "metadata": {},
     "output_type": "execute_result"
    }
   ],
   "source": [
    "kg = knightGraph(5)\n",
    "orderByAvail(kg.getVertex(3))"
   ]
  },
  {
   "cell_type": "code",
   "execution_count": 655,
   "metadata": {
    "collapsed": false
   },
   "outputs": [
    {
     "data": {
      "text/plain": [
       "[<__main__.Vertex instance at 0x1316b2998>,\n",
       " <__main__.Vertex instance at 0x1316b2b48>,\n",
       " <__main__.Vertex instance at 0x1316b2b90>]"
      ]
     },
     "execution_count": 655,
     "metadata": {},
     "output_type": "execute_result"
    }
   ],
   "source": [
    "kg = knightGraph(5)\n",
    "kg.getVertex(3).getConnections()"
   ]
  },
  {
   "cell_type": "code",
   "execution_count": 656,
   "metadata": {
    "collapsed": true
   },
   "outputs": [],
   "source": [
    "def knightTourBetter(n,path,u,limit):  #use order by available function\n",
    "        u.setColor('gray')\n",
    "        path.append(u)\n",
    "        if n < limit:\n",
    "            nbrList = orderByAvail(u) # replace nbrList = list(u.getConnections())\n",
    "            i = 0\n",
    "            done = False\n",
    "            while i < len(nbrList) and not done:\n",
    "                if nbrList[i].getColor() == 'white':\n",
    "                    done = knightTour(n+1, path, nbrList[i], limit)\n",
    "                i = i + 1\n",
    "            if not done:  # prepare to backtrack\n",
    "                path.pop()\n",
    "                u.setColor('white')\n",
    "        else:\n",
    "            done = True\n",
    "        return done"
   ]
  },
  {
   "cell_type": "code",
   "execution_count": 657,
   "metadata": {
    "collapsed": false
   },
   "outputs": [
    {
     "name": "stdout",
     "output_type": "stream",
     "text": [
      "0\n",
      "102\n",
      "301\n",
      "100\n",
      "202\n",
      "104\n",
      "206\n",
      "308\n",
      "210\n",
      "11\n",
      "212\n",
      "13\n",
      "111\n",
      "209\n",
      "311\n",
      "413\n",
      "511\n",
      "609\n",
      "707\n",
      "805\n",
      "903\n",
      "702\n",
      "804\n",
      "603\n",
      "701\n",
      "500\n",
      "602\n",
      "504\n",
      "406\n",
      "205\n",
      "6\n"
     ]
    }
   ],
   "source": [
    "kg = knightGraph(100)  \n",
    "          \n",
    "thepath = []\n",
    "start = kg.getVertex(0)\n",
    "knightTour(0,thepath,start,30)\n",
    "for v in thepath:\n",
    "    print(v.getId())\n",
    "        "
   ]
  },
  {
   "cell_type": "code",
   "execution_count": 663,
   "metadata": {
    "collapsed": false
   },
   "outputs": [
    {
     "name": "stdout",
     "output_type": "stream",
     "text": [
      "0\n",
      "10\n",
      "25\n",
      "35\n",
      "50\n",
      "56\n",
      "41\n",
      "24\n",
      "18\n",
      "1\n",
      "16\n",
      "33\n",
      "48\n",
      "42\n",
      "36\n",
      "21\n",
      "31\n",
      "37\n",
      "54\n",
      "39\n",
      "29\n",
      "19\n",
      "9\n",
      "26\n",
      "11\n",
      "5\n",
      "15\n",
      "30\n",
      "13\n",
      "3\n",
      "20\n"
     ]
    }
   ],
   "source": [
    "kg = knightGraph(8)  \n",
    "          \n",
    "thepath = []\n",
    "start = kg.getVertex(0)\n",
    "knightTourBetter(0,thepath,start,30)\n",
    "for v in thepath:\n",
    "    print(v.getId())\n",
    "        "
   ]
  },
  {
   "cell_type": "code",
   "execution_count": 866,
   "metadata": {
    "collapsed": true
   },
   "outputs": [],
   "source": [
    "class DFSGraph(Graph):\n",
    "    def __init__(self):\n",
    "        Graph.__init__(self)\n",
    "        self.time = 0\n",
    "\n",
    "    def dfs(self):\n",
    "        path = []\n",
    "        for aVertex in self:\n",
    "            aVertex.setColor('white')\n",
    "            aVertex.setPred(-1)\n",
    "        for aVertex in self:\n",
    "            if aVertex.getColor() == 'white':\n",
    "                self.dfsvisit(aVertex)\n",
    "        \n",
    "\n",
    "    def dfsvisit(self,startVertex):\n",
    "        startVertex.setColor('gray')\n",
    "        print startVertex.id\n",
    "        self.time += 1\n",
    "        startVertex.setDiscovery(self.time)\n",
    "        for nextVertex in startVertex.getConnections():\n",
    "            if nextVertex.getColor() == 'white':\n",
    "                nextVertex.setPred(startVertex)\n",
    "                self.dfsvisit(nextVertex)\n",
    "        startVertex.setColor('black')\n",
    "        print startVertex.id\n",
    "        self.time += 1\n",
    "        startVertex.setFinish(self.time)\n",
    "        \n"
   ]
  },
  {
   "cell_type": "markdown",
   "metadata": {},
   "source": [
    "![DFS](http://interactivepython.org/runestone/static/pythonds/_images/dfstree.png)"
   ]
  },
  {
   "cell_type": "code",
   "execution_count": 755,
   "metadata": {
    "collapsed": false
   },
   "outputs": [],
   "source": [
    "dfs=DFSGraph()\n",
    "dfs.addVertex('A')\n",
    "dfs.addVertex('B')\n",
    "dfs.addVertex('C')\n",
    "dfs.addVertex('D')\n",
    "dfs.addVertex('E')\n",
    "dfs.addVertex('F')\n",
    "dfs.addEdge('A','B')\n",
    "dfs.addEdge('A','D')\n",
    "dfs.addEdge('B','C')\n",
    "dfs.addEdge('B','D')\n",
    "dfs.addEdge('D','E')\n",
    "dfs.addEdge('E','B')\n",
    "dfs.addEdge('E','F')\n",
    "dfs.addEdge('F','C')"
   ]
  },
  {
   "cell_type": "code",
   "execution_count": 756,
   "metadata": {
    "collapsed": false
   },
   "outputs": [
    {
     "name": "stdout",
     "output_type": "stream",
     "text": [
      "A\n",
      "B\n",
      "C\n",
      "C\n",
      "D\n",
      "E\n",
      "F\n",
      "F\n",
      "E\n",
      "D\n",
      "B\n",
      "A\n"
     ]
    }
   ],
   "source": [
    "dfs.dfs()"
   ]
  },
  {
   "cell_type": "code",
   "execution_count": 759,
   "metadata": {
    "collapsed": false
   },
   "outputs": [
    {
     "name": "stdout",
     "output_type": "stream",
     "text": [
      "A\n",
      "D\n",
      "E\n",
      "B\n",
      "C\n",
      "C\n",
      "B\n",
      "F\n",
      "F\n",
      "E\n",
      "D\n",
      "A\n"
     ]
    }
   ],
   "source": [
    "dfs=DFSGraph()\n",
    "dfs.addVertex('A')\n",
    "dfs.addVertex('B')\n",
    "dfs.addVertex('C')\n",
    "dfs.addVertex('D')\n",
    "dfs.addVertex('E')\n",
    "dfs.addVertex('F')\n",
    "dfs.addEdge('A','B')\n",
    "dfs.addEdge('A','D')\n",
    "dfs.addEdge('B','C')\n",
    "dfs.addEdge('B','D')\n",
    "dfs.addEdge('D','E')\n",
    "dfs.addEdge('E','B')\n",
    "dfs.addEdge('E','F')\n",
    "dfs.addEdge('F','C')\n",
    "dfs.dfs()"
   ]
  },
  {
   "cell_type": "code",
   "execution_count": 740,
   "metadata": {
    "collapsed": false
   },
   "outputs": [
    {
     "data": {
      "text/plain": [
       "24"
      ]
     },
     "execution_count": 740,
     "metadata": {},
     "output_type": "execute_result"
    }
   ],
   "source": [
    "dfs.time"
   ]
  },
  {
   "cell_type": "code",
   "execution_count": 731,
   "metadata": {
    "collapsed": false
   },
   "outputs": [
    {
     "name": "stdout",
     "output_type": "stream",
     "text": [
      "recursive dfs  ['A', 'B', 'D', 'E', 'C']\n",
      "iterative dfs  ['A', 'B', 'D', 'E', 'C']\n",
      "iterative bfs  ['A', 'B', 'C', 'D', 'E']\n"
     ]
    }
   ],
   "source": [
    "def recursive_dfs(graph, start, path=[]):\n",
    "  '''recursive depth first search from start'''\n",
    "  path=path+[start]\n",
    "  for node in graph[start]:\n",
    "    if not node in path:\n",
    "      path=recursive_dfs(graph, node, path)\n",
    "  return path\n",
    "\n",
    "def iterative_dfs(graph, start, path=[]):\n",
    "  '''iterative depth first search from start'''\n",
    "  q=[start]\n",
    "  while q:\n",
    "    v=q.pop(0)\n",
    "    if v not in path:\n",
    "      path=path+[v]\n",
    "      q=graph[v]+q\n",
    "  return path\n",
    "\n",
    "def iterative_bfs(graph, start, path=[]):\n",
    "  '''iterative breadth first search from start'''\n",
    "  q=[start]\n",
    "  while q:\n",
    "    v=q.pop(0)\n",
    "    if not v in path:\n",
    "      path=path+[v]\n",
    "      q=q+graph[v]\n",
    "  return path\n",
    "\n",
    "'''\n",
    "   +---- A\n",
    "   |   /   \\\n",
    "   |  B--D--C\n",
    "   |   \\ | /\n",
    "   +---- E\n",
    "'''\n",
    "graph = {'A':['B','C'],'B':['D','E'],'C':['D','E'],'D':['E'],'E':['A']}\n",
    "print 'recursive dfs ', recursive_dfs(graph, 'A')\n",
    "print 'iterative dfs ', iterative_dfs(graph, 'A')\n",
    "print 'iterative bfs ', iterative_bfs(graph, 'A')\n"
   ]
  },
  {
   "cell_type": "code",
   "execution_count": 862,
   "metadata": {
    "collapsed": false
   },
   "outputs": [
    {
     "data": {
      "text/plain": [
       "['1 egg',\n",
       " '1 tbl oil',\n",
       " 'heat griddle',\n",
       " '3/4 cup milk',\n",
       " '1 cup mix',\n",
       " 'pour 1/4 cup',\n",
       " 'turn when bubbly',\n",
       " 'heat syrup',\n",
       " 'eat']"
      ]
     },
     "execution_count": 862,
     "metadata": {},
     "output_type": "execute_result"
    }
   ],
   "source": [
    "class DFSGraph(Graph):\n",
    "    def __init__(self):\n",
    "        Graph.__init__(self)\n",
    "        self.time = 0\n",
    "\n",
    "    def dfs(self):\n",
    "        path = []\n",
    "        alist = []\n",
    "        for aVertex in self:\n",
    "            aVertex.setColor('white')\n",
    "            aVertex.setPred(-1)\n",
    "        for aVertex in self:\n",
    "            if aVertex.getColor() == 'white':\n",
    "                self.dfsvisit(aVertex, alist)\n",
    "        alist.reverse()\n",
    "        return alist\n",
    "\n",
    " \n",
    "\n",
    "    def dfsvisit(self,startVertex, alist):\n",
    "        startVertex.setColor('gray')\n",
    "        self.time += 1\n",
    "        startVertex.setDiscovery(self.time)\n",
    "        for nextVertex in startVertex.getConnections():\n",
    "            if nextVertex.getColor() == 'white':\n",
    "                nextVertex.setPred(startVertex)\n",
    "                self.dfsvisit(nextVertex, alist)\n",
    "        startVertex.setColor('black')\n",
    "        self.time += 1\n",
    "        startVertex.setFinish(self.time)\n",
    "        return alist.append(startVertex.id)\n",
    "\n",
    "\n",
    "\n",
    "dfs=DFSGraph()\n",
    "dfs.addVertex('3/4 cup milk')\n",
    "dfs.addVertex('1 egg')\n",
    "dfs.addVertex('1 tbl oil')\n",
    "dfs.addVertex('1 cup mix')\n",
    "dfs.addVertex('heat syrup')\n",
    "dfs.addVertex('heat griddle')\n",
    "dfs.addVertex('heat griddle')\n",
    "dfs.addVertex('pour 1/4 cup')\n",
    "dfs.addVertex('turn when bubbly')\n",
    "dfs.addVertex('eat')\n",
    "\n",
    "\n",
    "dfs.addEdge('3/4 cup milk','1 cup mix')\n",
    "dfs.addEdge('1 egg','1 cup mix')\n",
    "dfs.addEdge('1 tbl oil','1 cup mix')\n",
    "dfs.addEdge('1 cup mix','heat syrup')\n",
    "dfs.addEdge('heat syrup','eat')\n",
    "dfs.addEdge('heat griddle','pour 1/4 cup')\n",
    "dfs.addEdge('pour 1/4 cup','turn when bubbly')\n",
    "dfs.addEdge('1 cup mix','pour 1/4 cup')\n",
    "dfs.addEdge('turn when bubbly','eat')\n",
    "\n",
    "dfs.dfs()\n",
    "\n"
   ]
  },
  {
   "cell_type": "code",
   "execution_count": 827,
   "metadata": {
    "collapsed": false
   },
   "outputs": [
    {
     "data": {
      "text/plain": [
       "18"
      ]
     },
     "execution_count": 827,
     "metadata": {},
     "output_type": "execute_result"
    }
   ],
   "source": [
    "dfs.time"
   ]
  },
  {
   "cell_type": "code",
   "execution_count": 855,
   "metadata": {
    "collapsed": false
   },
   "outputs": [],
   "source": [
    "\n",
    "class PriorityQueue:\n",
    "    def __init__(self):\n",
    "        self.heapArray = [(0,0)]\n",
    "        self.currentSize = 0\n",
    "\n",
    "    def buildHeap(self,alist):\n",
    "        self.currentSize = len(alist)\n",
    "        self.heapArray = [(0,0)]\n",
    "        for i in alist:\n",
    "            self.heapArray.append(i)\n",
    "        i = len(alist) // 2            \n",
    "        while (i > 0):\n",
    "            self.percDown(i)\n",
    "            i = i - 1\n",
    "                        \n",
    "    def percDown(self,i):\n",
    "        while (i * 2) <= self.currentSize:\n",
    "            mc = self.minChild(i)\n",
    "            if self.heapArray[i][0] > self.heapArray[mc][0]:\n",
    "                tmp = self.heapArray[i]\n",
    "                self.heapArray[i] = self.heapArray[mc]\n",
    "                self.heapArray[mc] = tmp\n",
    "            i = mc\n",
    "                \n",
    "    def minChild(self,i):\n",
    "        if i*2 > self.currentSize:\n",
    "            return -1\n",
    "        else:\n",
    "            if i*2 + 1 > self.currentSize:\n",
    "                return i*2\n",
    "            else:\n",
    "                if self.heapArray[i*2][0] < self.heapArray[i*2+1][0]:\n",
    "                    return i*2\n",
    "                else:\n",
    "                    return i*2+1\n",
    "\n",
    "    def percUp(self,i):\n",
    "        while i // 2 > 0:\n",
    "            if self.heapArray[i][0] < self.heapArray[i//2][0]:\n",
    "               tmp = self.heapArray[i//2]\n",
    "               self.heapArray[i//2] = self.heapArray[i]\n",
    "               self.heapArray[i] = tmp\n",
    "            i = i//2\n",
    " \n",
    "    def add(self,k):\n",
    "        self.heapArray.append(k)\n",
    "        self.currentSize = self.currentSize + 1\n",
    "        self.percUp(self.currentSize)\n",
    "\n",
    "    def delMin(self):\n",
    "        retval = self.heapArray[1][1]\n",
    "        self.heapArray[1] = self.heapArray[self.currentSize]\n",
    "        self.currentSize = self.currentSize - 1\n",
    "        self.heapArray.pop()\n",
    "        self.percDown(1)\n",
    "        return retval\n",
    "        \n",
    "    def isEmpty(self):\n",
    "        if self.currentSize == 0:\n",
    "            return True\n",
    "        else:\n",
    "            return False\n",
    "\n",
    "    def decreaseKey(self,val,amt):\n",
    "        # this is a little wierd, but we need to find the heap thing to decrease by\n",
    "        # looking at its value\n",
    "        done = False\n",
    "        i = 1\n",
    "        myKey = 0\n",
    "        while not done and i <= self.currentSize:\n",
    "            if self.heapArray[i][1] == val:\n",
    "                done = True\n",
    "                myKey = i\n",
    "            else:\n",
    "                i = i + 1\n",
    "        if myKey > 0:\n",
    "            self.heapArray[myKey] = (amt,self.heapArray[myKey][1])\n",
    "            self.percUp(myKey)\n",
    "            \n",
    "    def __contains__(self,vtx):\n",
    "        for pair in self.heapArray:\n",
    "            if pair[1] == vtx:\n",
    "                return True\n",
    "        return False\n"
   ]
  },
  {
   "cell_type": "code",
   "execution_count": 856,
   "metadata": {
    "collapsed": true
   },
   "outputs": [],
   "source": [
    "def dijkstra(aGraph,start):\n",
    "    pq = PriorityQueue()\n",
    "    start.setDistance(0)\n",
    "    pq.buildHeap([(v.getDistance(),v) for v in aGraph])\n",
    "    while not pq.isEmpty():\n",
    "        currentVert = pq.delMin()\n",
    "        for nextVert in currentVert.getConnections():\n",
    "            newDist = currentVert.getDistance() \\\n",
    "                    + currentVert.getWeight(nextVert)\n",
    "            if newDist < nextVert.getDistance():\n",
    "                nextVert.setDistance( newDist )\n",
    "                nextVert.setPred(currentVert)\n",
    "                pq.decreaseKey(nextVert,newDist)\n"
   ]
  },
  {
   "cell_type": "code",
   "execution_count": 918,
   "metadata": {
    "collapsed": false
   },
   "outputs": [
    {
     "name": "stdout",
     "output_type": "stream",
     "text": [
      "u\n",
      "v\n",
      "w\n",
      "z\n",
      "z\n",
      "y\n",
      "y\n",
      "w\n",
      "v\n",
      "x\n",
      "x\n",
      "u\n"
     ]
    }
   ],
   "source": [
    "\n",
    "\n",
    "dfs=DFSGraph()\n",
    "dfs.addVertex('u')\n",
    "dfs.addVertex('v')\n",
    "dfs.addVertex('w')\n",
    "dfs.addVertex('x')\n",
    "dfs.addVertex('y')\n",
    "dfs.addVertex('z')\n",
    "\n",
    "dfs.addEdge('u','v',2)\n",
    "dfs.addEdge('u','x',1)\n",
    "dfs.addEdge('x','v',2)\n",
    "dfs.addEdge('u','w',5)\n",
    "dfs.addEdge('x','w',3)\n",
    "dfs.addEdge('w','y',1)\n",
    "dfs.addEdge('y','z',1)\n",
    "dfs.addEdge('w','z',5)\n",
    "dfs.addEdge('v','w',3)\n",
    "dfs.addEdge('x','y',1)\n",
    "\n",
    "\n",
    "\n",
    "\n",
    "\n",
    "\n",
    "\n",
    "\n",
    "\n",
    "\n",
    "\n",
    "\n",
    "\n",
    "dijkstra(dfs, dfs.getVertex('u'))\n",
    "\n",
    "dfs.dfs()\n",
    "\n"
   ]
  },
  {
   "cell_type": "code",
   "execution_count": 924,
   "metadata": {
    "collapsed": false
   },
   "outputs": [
    {
     "data": {
      "text/plain": [
       "4"
      ]
     },
     "execution_count": 924,
     "metadata": {},
     "output_type": "execute_result"
    }
   ],
   "source": [
    "dfs.getVertex('w').getDistance()"
   ]
  },
  {
   "cell_type": "code",
   "execution_count": null,
   "metadata": {
    "collapsed": true
   },
   "outputs": [],
   "source": []
  }
 ],
 "metadata": {
  "kernelspec": {
   "display_name": "Python 2",
   "language": "python",
   "name": "python2"
  },
  "language_info": {
   "codemirror_mode": {
    "name": "ipython",
    "version": 2
   },
   "file_extension": ".py",
   "mimetype": "text/x-python",
   "name": "python",
   "nbconvert_exporter": "python",
   "pygments_lexer": "ipython2",
   "version": "2.7.10"
  }
 },
 "nbformat": 4,
 "nbformat_minor": 0
}
