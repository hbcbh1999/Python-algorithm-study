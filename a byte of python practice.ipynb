{
 "cells": [
  {
   "cell_type": "code",
   "execution_count": null,
   "metadata": {
    "collapsed": false
   },
   "outputs": [],
   "source": [
    "#!/usr/bin/python\n",
    "class Node:\n",
    "    def __init__(self, data, next=None):\n",
    "        self.data = data\n",
    "        self.next = next\n",
    "\n",
    "def init_list():\n",
    "    global node1, node2, node3, node4\n",
    "    node1 = Node(1)\n",
    "    node2 = Node(2)\n",
    "    node3 = Node(3.33333)\n",
    "    node4 = Node(\"four\")\n",
    "    node1.next = node2\n",
    "    node2.next = node3\n",
    "    node3.next = node4\n",
    "\n",
    "def Main():\n",
    "    init_list()\n",
    "    node = node1\n",
    "    while node:\n",
    "       print node.data, \n",
    "       node = node.next\n",
    "\n",
    "Main()\n"
   ]
  },
  {
   "cell_type": "code",
   "execution_count": null,
   "metadata": {
    "collapsed": false
   },
   "outputs": [],
   "source": [
    "print init_list()\n",
    "print node2.next"
   ]
  },
  {
   "cell_type": "code",
   "execution_count": null,
   "metadata": {
    "collapsed": true
   },
   "outputs": [],
   "source": [
    "def delete_node(del_data):\n",
    "    global node1\n",
    "    pre_node=node1\n",
    "    pre_node=pre_node.next\n",
    "    \n",
    "    if pre_node.data==del_data:\n",
    "        node1=next_node\n",
    "        del pre_node\n",
    "        return\n",
    "    \n",
    "    while next_node:\n",
    "        if next_node.data==del_data:\n",
    "            pre_node.next=next_node.next\n",
    "            del next_node\n",
    "            break\n",
    "        pre_node=next_node\n",
    "        next_node=next_node.next\n",
    "            \n",
    "        \n",
    "    \n",
    "    "
   ]
  },
  {
   "cell_type": "code",
   "execution_count": null,
   "metadata": {
    "collapsed": false
   },
   "outputs": [],
   "source": [
    "#!/usr/bin/python\n",
    "class Node:\n",
    "    def __init__(self, data, next=None):\n",
    "        self.data = data\n",
    "        self.next = next\n",
    "\n",
    "def init_list():\n",
    "    global node1\n",
    "    node1 = Node(1)\n",
    "    node2 = Node(2)\n",
    "    node3 = Node(3.33333)\n",
    "    node4 = Node(\"four\")\n",
    "    node1.next = node2\n",
    "    node2.next = node3\n",
    "    node3.next = node4\n",
    "\n",
    "def delete_node(del_data):\n",
    "    global node1\n",
    "    pre_node = node1\n",
    "    next_node = pre_node.next\n",
    "\n",
    "    if pre_node.data == del_data:\n",
    "        node1 = next_node\n",
    "        del pre_node\n",
    "        return\n",
    "    \n",
    "    while next_node:\n",
    "        if next_node.data == del_data:\n",
    "            pre_node.next = next_node.next\n",
    "            del next_node\n",
    "            break\n",
    "        pre_node = next_node\n",
    "        next_node = next_node.next\n",
    "\n",
    "def insert_node(ins_data):\n",
    "    global node1\n",
    "    new_node = Node(ins_data)\n",
    "    new_node.next = node1\n",
    "    node1 = new_node\n",
    "\n",
    "def print_list():\n",
    "    global node1\n",
    "    node = node1\n",
    "    while node:\n",
    "        print node.data,\n",
    "        node = node.next\n",
    "    return\n",
    "\n",
    "def Main():\n",
    "    init_list()\n",
    "    delete_node(node3.data)\n",
    "    insert_node(\"new\")\n",
    "    print_list()\n",
    "\n",
    "Main()"
   ]
  },
  {
   "cell_type": "code",
   "execution_count": null,
   "metadata": {
    "collapsed": false
   },
   "outputs": [],
   "source": [
    "delete_node(2)"
   ]
  },
  {
   "cell_type": "code",
   "execution_count": null,
   "metadata": {
    "collapsed": false
   },
   "outputs": [],
   "source": [
    "#!/usr/bin/python\n",
    "def Main():\n",
    "    stack = []            # stack create\n",
    "    stack.append(1)  # same PUSH\n",
    "    stack.append(2)\n",
    "    stack.append(3)\n",
    "    stack.append(4)\n",
    "    print stack, stack.pop(), stack.pop(),stack\n",
    "\n",
    "    while stack:\n",
    "       print \"POP >\", stack.pop()\n",
    "\n",
    "Main()"
   ]
  },
  {
   "cell_type": "code",
   "execution_count": null,
   "metadata": {
    "collapsed": false
   },
   "outputs": [],
   "source": [
    "#!/usr/bin/python\n",
    "def Main():\n",
    "    queue = []           # queue create\n",
    "    queue.append(1) # same PUT\n",
    "    queue.append(2)\n",
    "    queue.append(3)\n",
    "    queue.append(4)\n",
    "    print queue\n",
    "\n",
    "    while queue:\n",
    "        print \"GET > \",queue.pop(0) # same GET\n",
    "\n",
    "Main()"
   ]
  },
  {
   "cell_type": "code",
   "execution_count": null,
   "metadata": {
    "collapsed": false
   },
   "outputs": [],
   "source": [
    "#!/usr/bin/python\n",
    "def Main():\n",
    "    a = []           # queue create\n",
    "    a.append(1) # same PUT\n",
    "    a.append(2)\n",
    "    a.append(3)\n",
    "    a.append(4)\n",
    "    print a\n",
    "\n",
    "    while a:\n",
    "        print \"GET > \",a.pop(0) # same GET\n",
    "\n",
    "Main()"
   ]
  },
  {
   "cell_type": "code",
   "execution_count": null,
   "metadata": {
    "collapsed": false
   },
   "outputs": [],
   "source": [
    "#!/usr/bin/python\n",
    "def Main():\n",
    "    s = []            # stack create\n",
    "    s.append(1)  # same PUSH\n",
    "    s.append(2)\n",
    "    s.append(3)\n",
    "    s.append(4)\n",
    "    print s\n",
    "\n",
    "    while s:\n",
    "       print \"POP >\", s.pop()\n",
    "\n",
    "Main()"
   ]
  },
  {
   "cell_type": "code",
   "execution_count": null,
   "metadata": {
    "collapsed": false
   },
   "outputs": [],
   "source": [
    "#!/usr/bin/python\n",
    "import random\n",
    "list = []\n",
    "for i in range(10):\n",
    "    list.append( random.randint(1,10))\n",
    "\n",
    "print \"< Before Sort >\"\n",
    "print list\n",
    "list.sort()\n",
    "print \"< After Sort >\"\n",
    "print list\n"
   ]
  },
  {
   "cell_type": "code",
   "execution_count": null,
   "metadata": {
    "collapsed": false
   },
   "outputs": [],
   "source": [
    "#!/usr/bin/python\n",
    "import random\n",
    "\n",
    "def selected_sort(random_list):\n",
    "    for sel in range( len(random_list)-1 ):\n",
    "        min = random_list[sel]\n",
    "        minindex = sel\n",
    "    # find min value\n",
    "        for step in range( sel+1, len(random_list) ):\n",
    "            if min > random_list[step]:\n",
    "                min = random_list[step]\n",
    "                minindex = step   \n",
    "    # swap             \n",
    "        random_list[minindex] = random_list[sel]\n",
    "        random_list[sel] = min\n",
    "\n",
    "def Main():      \n",
    "    list = []      \n",
    "    for i in range(10):\n",
    "        list.append( random.randint(1,10) )\n",
    "    print \"< Before Sort >\"\n",
    "    print list\n",
    "\n",
    "    selected_sort(list) # now sorting!\n",
    "    print \"< After Sort >\"\n",
    "    print list\n",
    "\n",
    "Main()"
   ]
  },
  {
   "cell_type": "code",
   "execution_count": null,
   "metadata": {
    "collapsed": false
   },
   "outputs": [],
   "source": [
    "#!/usr/bin/python\n",
    "import random\n",
    " \n",
    "def bubble_sort(random_list):\n",
    "    for start_index in range(len(random_list)-1):\n",
    "        for index in range(1,len(random_list)-start_index)"
   ]
  },
  {
   "cell_type": "code",
   "execution_count": null,
   "metadata": {
    "collapsed": false
   },
   "outputs": [],
   "source": [
    "class Person:\n",
    "    def __init__(self, name):\n",
    "        self.name = name \n",
    "    def say_hi(self):\n",
    "        print 'Hello, my name is', self.name\n",
    "\n",
    "p = Person('Swaroop')\n",
    "p.say_hi()"
   ]
  },
  {
   "cell_type": "code",
   "execution_count": null,
   "metadata": {
    "collapsed": false
   },
   "outputs": [],
   "source": [
    "age = 20\n",
    "name = 'Swaroop'\n",
    "print '{0} was {1} years old when he wrote this book'.format(name, age) \n",
    "print 'Why is {0} playing with that python?'.format(name,age)"
   ]
  },
  {
   "cell_type": "code",
   "execution_count": null,
   "metadata": {
    "collapsed": false
   },
   "outputs": [],
   "source": [
    "help(format)"
   ]
  },
  {
   "cell_type": "code",
   "execution_count": null,
   "metadata": {
    "collapsed": false
   },
   "outputs": [],
   "source": [
    "'This is the first line \\ This is the second line'"
   ]
  },
  {
   "cell_type": "code",
   "execution_count": null,
   "metadata": {
    "collapsed": false
   },
   "outputs": [],
   "source": [
    "\n",
    "\"This is the first sentence. \\\n",
    "This is the second sentence.\"\n"
   ]
  },
  {
   "cell_type": "code",
   "execution_count": null,
   "metadata": {
    "collapsed": false
   },
   "outputs": [],
   "source": [
    "number = 23\n",
    "running = True\n",
    "while running:\n",
    "    guess = int(raw_input('Enter an integer : '))\n",
    "\n",
    "    if guess == number:\n",
    "        print 'Congratulations, you guessed it.' \n",
    "        # this causes the while loop to stop \n",
    "        running = False\n",
    "    elif guess < number:\n",
    "        print 'No, it is a little higher than that.'\n",
    "\n",
    "    else:\n",
    "        print 'No, it is a little lower than that.'\n",
    "else:\n",
    "    print 'The while loop is over.'\n",
    "    \n",
    "print 'done'"
   ]
  },
  {
   "cell_type": "code",
   "execution_count": null,
   "metadata": {
    "collapsed": false
   },
   "outputs": [],
   "source": [
    "print 'a'*4"
   ]
  },
  {
   "cell_type": "code",
   "execution_count": null,
   "metadata": {
    "collapsed": false
   },
   "outputs": [],
   "source": [
    "def func(a, b=5, c=10):\n",
    "    print a, b,c\n",
    "\n",
    "func(3)\n",
    "func(3,7)\n",
    "func(25, c=24)\n",
    "func(c=49, a=100)"
   ]
  },
  {
   "cell_type": "code",
   "execution_count": null,
   "metadata": {
    "collapsed": false
   },
   "outputs": [],
   "source": [
    "def total(initial=5, *ns, **ks):\n",
    "    count = initial\n",
    "    print initial, ns, ks\n",
    "    for n in ns:\n",
    "        count += n\n",
    "        print n\n",
    "    for k in ks:\n",
    "        count +=ks[k]\n",
    "        print k, ks[k]\n",
    "    return count\n",
    "\n",
    "print total(10,1,2,3,4,a=3, variables=50, fruits=100)"
   ]
  },
  {
   "cell_type": "code",
   "execution_count": null,
   "metadata": {
    "collapsed": false
   },
   "outputs": [],
   "source": [
    "def some_function(): \n",
    "    '''doc string'''\n",
    "    c = 0\n",
    "    for i in range(5):\n",
    "        c += i\n",
    "        print c\n",
    "    return c\n",
    "    \n",
    "\n",
    "print some_function()\n",
    "print some_function.__doc__\n",
    "help(some_function)\n",
    "\n",
    "print __name__"
   ]
  },
  {
   "cell_type": "code",
   "execution_count": null,
   "metadata": {
    "collapsed": false
   },
   "outputs": [],
   "source": [
    "import os\n",
    "print os.getcwd()\n",
    "import sys\n",
    "\n",
    "\n",
    "print('The command line arguments are:') \n",
    "for a in sys.argv:\n",
    "    print a\n",
    "    \n",
    "print '\\n\\nThe PYTHONPATH is', sys.path, '\\n'"
   ]
  },
  {
   "cell_type": "code",
   "execution_count": null,
   "metadata": {
    "collapsed": false
   },
   "outputs": [],
   "source": [
    "if __name__ == '__main__':\n",
    "    print 'This program is being run by itself'\n",
    "else:\n",
    "    print 'I am being imported from another module'\n",
    "    \n",
    "print __name__"
   ]
  },
  {
   "cell_type": "code",
   "execution_count": null,
   "metadata": {
    "collapsed": false
   },
   "outputs": [],
   "source": [
    "name = 'Swaroop'\n",
    "if name.startswith('Swa'):\n",
    "    print 'Yes, the string starts with \"Swa\"'"
   ]
  },
  {
   "cell_type": "code",
   "execution_count": null,
   "metadata": {
    "collapsed": false
   },
   "outputs": [],
   "source": [
    "if 'a' in name:\n",
    "    print 'Yes, it contains the string \"a\"'"
   ]
  },
  {
   "cell_type": "code",
   "execution_count": null,
   "metadata": {
    "collapsed": false
   },
   "outputs": [],
   "source": [
    "if name.find('war') != -1:\n",
    "    print 'Yes, it contains the string \"war\"'\n",
    "else:\n",
    "    print 'No'"
   ]
  },
  {
   "cell_type": "code",
   "execution_count": null,
   "metadata": {
    "collapsed": false
   },
   "outputs": [],
   "source": [
    "delimiter = '_*_'\n",
    "mylist = ['Brazil', 'Russia', 'India', 'China'] \n",
    "print delimiter.join(mylist)"
   ]
  },
  {
   "cell_type": "code",
   "execution_count": null,
   "metadata": {
    "collapsed": false
   },
   "outputs": [],
   "source": [
    "import os\n",
    "import time\n",
    "\n",
    "source =['/Users/namshik/Documents/py']\n",
    "target_dir = '/Users/namshik/Documents/py'\n",
    "\n",
    "if not os.path.exists(target_dir):\n",
    "    os.mkdir(target_dir)\n",
    "\n",
    "today = target_dir + os.sep + time.strftime('%Y%m%d') \n",
    "# The current time is the name of the zip archive. \n",
    "now = time.strftime('%H%M%S')\n",
    "comment = raw_input('Enter a comment --> ') # Check if a comment was entered\n",
    "if len(comment) == 0:\n",
    "    target = today + os.sep + now + '.zip'\n",
    "else:\n",
    "    target = today + os.sep + now +'_'+\\\n",
    "        comment.replace(' ', '_')+'.zip'\n",
    "        \n",
    "if not os.path.exists(today):\n",
    "    os.mkdir(today)\n",
    "    print 'success to creat directory', today\n",
    "    \n",
    "    \n",
    "zip_command=\"zip -r {0} {1}\".format(target, ' '.join(source))\n",
    "\n",
    "print zip_command\n",
    "if os.system(zip_command)==0:\n",
    "    print 'success', target\n",
    "else:\n",
    "    print 'fail'"
   ]
  },
  {
   "cell_type": "code",
   "execution_count": 2,
   "metadata": {
    "collapsed": false
   },
   "outputs": [
    {
     "name": "stdout",
     "output_type": "stream",
     "text": [
      "Hello, my name is Namshik\n"
     ]
    },
    {
     "data": {
      "text/plain": [
       "('Swaroop', 'Namshik')"
      ]
     },
     "execution_count": 2,
     "metadata": {},
     "output_type": "execute_result"
    }
   ],
   "source": [
    "class Person:\n",
    "    def __init__(self, name):\n",
    "        self.name = name \n",
    "    def say_hi(self):\n",
    "        print 'Hello, my name is', self.name\n",
    "q = Person('Namshik')\n",
    "p = Person('Swaroop')\n",
    "q.say_hi()\n",
    "p.name, q.name\n",
    "# The previous 2 lines can also be written as # Person('Swaroop').say_hi()"
   ]
  },
  {
   "cell_type": "code",
   "execution_count": 14,
   "metadata": {
    "collapsed": false
   },
   "outputs": [
    {
     "name": "stdout",
     "output_type": "stream",
     "text": [
      "initializing R2D2\n",
      "Greetings, my masters call me R2D2\n",
      "1\n",
      "We have 1 robots\n",
      "initializing C3PO\n",
      "2\n",
      "We have 2 robots\n",
      "R2D2 is being destroyed\n",
      "There are still 1 robots working\n",
      "C3PO is being destroyed\n",
      "C3PO was the last one\n"
     ]
    }
   ],
   "source": [
    "class Robot:\n",
    "    '''Reprensts a bot with a name'''\n",
    "    \n",
    "    population =0\n",
    "    \n",
    "    def __init__(self, name):\n",
    "        self.name=name\n",
    "        print \"initializing {}\".format(self.name)\n",
    "        \n",
    "        Robot.population +=1\n",
    "        \n",
    "    def die(self):\n",
    "        \"\"\"I am dying\"\"\"\n",
    "        print \"{} is being destroyed\".format(self.name)\n",
    "        \n",
    "        Robot.population -=1\n",
    "        \n",
    "        if Robot.population ==0:\n",
    "            print \"{} was the last one\".format(self.name)\n",
    "        else:\n",
    "            print \"There are still {:d} robots working\".format(Robot.population)\n",
    "            \n",
    "    def say_hi(self):\n",
    "        \"\"\"Greeting by robot\"\"\"\n",
    "        \n",
    "        print \"Greetings, my masters call me {}\".format(self.name)\n",
    "        \n",
    "        \n",
    "    @classmethod\n",
    "    def how_many(cls):\n",
    "        print \"We have {:d} robots\".format(cls.population)\n",
    "        \n",
    "\n",
    "        \n",
    "\n",
    "droid1= Robot(\"R2D2\")\n",
    "droid1.say_hi()\n",
    "print Robot.population\n",
    "Robot.how_many()\n",
    "\n",
    "droid2=Robot(\"C3PO\")\n",
    "print Robot.population\n",
    "Robot.how_many()\n",
    "\n",
    "droid1.die()\n",
    "droid2.die()"
   ]
  },
  {
   "cell_type": "code",
   "execution_count": 26,
   "metadata": {
    "collapsed": false
   },
   "outputs": [
    {
     "name": "stdout",
     "output_type": "stream",
     "text": [
      "Initialized SM:Gordon\n",
      "Initialized teacher: Gordon\n",
      "Initialized SM:Namshik\n",
      "Initialized student:Namshik\n",
      "\n",
      "Name:Gordon Age:55 Salary:100000\n",
      "Name:Namshik Age:36 marks:100\n"
     ]
    }
   ],
   "source": [
    "class SM:\n",
    "    '''Represents any school member'''\n",
    "    def __init__(self,name, age):\n",
    "        self.name=name\n",
    "        self.age=age\n",
    "        print 'Initialized SM:{}'.format(self.name)\n",
    "        \n",
    "    def tell(self):\n",
    "        print 'Name:{} Age:{}'.format(self.name, self.age),\n",
    "        \n",
    "class Teacher(SM):\n",
    "    def __init__(self, name, age, salary):\n",
    "        SM.__init__(self, name, age)\n",
    "        self.salary=salary\n",
    "        print 'Initialized teacher: {}'.format(self.name)\n",
    "        \n",
    "    def tell(self):\n",
    "        SM.tell(self)\n",
    "        print 'Salary:{:d}'.format(self.salary)\n",
    "        \n",
    "class Student(SM):\n",
    "    def __init__(self, name, age, marks):\n",
    "        SM.__init__(self, name, age)\n",
    "        self.marks=marks\n",
    "        print 'Initialized student:{}'.format(self.name)\n",
    "    \n",
    "    def tell(self):\n",
    "        SM.tell(self)\n",
    "        print 'marks:{:d}'.format(self.marks)\n",
    "\n",
    "t=Teacher('Gordon', 55, 100000)\n",
    "s=Student('Namshik', 36, 100)\n",
    "\n",
    "print\n",
    "\n",
    "members =[t,s]\n",
    "\n",
    "for member in members:\n",
    "    member.tell()"
   ]
  },
  {
   "cell_type": "code",
   "execution_count": 34,
   "metadata": {
    "collapsed": false
   },
   "outputs": [
    {
     "name": "stdout",
     "output_type": "stream",
     "text": [
      "Enter text: rise to vote, sir\n",
      "Yes, it is a palindrome\n"
     ]
    }
   ],
   "source": [
    "def reverse(text):\n",
    "    return text[::-1] \n",
    "def is_palindrome(text):\n",
    "    return text == reverse(text)\n",
    "something = raw_input(\"Enter text: \")\n",
    "something=something.replace(' ','')\n",
    "something=something.replace(',','')\n",
    "if is_palindrome(something):\n",
    "    print \"Yes, it is a palindrome\" \n",
    "else:\n",
    "    print \"No, it is not a palindrome\"\n"
   ]
  },
  {
   "cell_type": "code",
   "execution_count": 32,
   "metadata": {
    "collapsed": false
   },
   "outputs": [
    {
     "data": {
      "text/plain": [
       "'risetovotesir'"
      ]
     },
     "execution_count": 32,
     "metadata": {},
     "output_type": "execute_result"
    }
   ],
   "source": [
    "something.replace(' ','')"
   ]
  },
  {
   "cell_type": "code",
   "execution_count": 62,
   "metadata": {
    "collapsed": false
   },
   "outputs": [
    {
     "name": "stdout",
     "output_type": "stream",
     "text": [
      "5 kim \n",
      "4 is \n",
      "1 \n",
      "5 king\n"
     ]
    },
    {
     "data": {
      "text/plain": [
       "<function close>"
      ]
     },
     "execution_count": 62,
     "metadata": {},
     "output_type": "execute_result"
    }
   ],
   "source": [
    "poem='''\\\n",
    "kim \n",
    "is \n",
    "\n",
    "king\n",
    "'''\n",
    "\n",
    "f=open('poem.txt','w')\n",
    "f.write(poem)\n",
    "f.close\n",
    "\n",
    "f=open('poem.txt')\n",
    "\n",
    "\n",
    "while True:\n",
    "    line=f.readline()\n",
    "    if len(line)==0:\n",
    "        break\n",
    "    print len(line),line,\n",
    "    \n",
    "f.close"
   ]
  },
  {
   "cell_type": "code",
   "execution_count": 54,
   "metadata": {
    "collapsed": false
   },
   "outputs": [
    {
     "name": "stdout",
     "output_type": "stream",
     "text": [
      "kim \n",
      "5\n"
     ]
    }
   ],
   "source": [
    "f=open('poem.txt')\n",
    "line=f.readline()\n",
    "print line,len(line)"
   ]
  },
  {
   "cell_type": "code",
   "execution_count": 69,
   "metadata": {
    "collapsed": false
   },
   "outputs": [
    {
     "name": "stdout",
     "output_type": "stream",
     "text": [
      "['apple', 'mango', 'carrot']\n"
     ]
    }
   ],
   "source": [
    "import pickle\n",
    "shoplistfile = 'shoplist.data'\n",
    "# The list of things to buy\n",
    "shoplist = ['apple', 'mango', 'carrot']\n",
    " # Write to the file\n",
    "f = open(shoplistfile, 'wb') # Dump the object to a file \n",
    "pickle.dump(shoplist, f) \n",
    "\n",
    "f.close()\n",
    " # Destroy the shoplist variable\n",
    "del shoplist\n",
    " # Read back from the storage\n",
    "f = open(shoplistfile, 'rb')\n",
    "# Load the object from the file \n",
    "storedlist = pickle.load(f) \n",
    "print storedlist\n"
   ]
  },
  {
   "cell_type": "code",
   "execution_count": 76,
   "metadata": {
    "collapsed": false
   },
   "outputs": [
    {
     "name": "stdout",
     "output_type": "stream",
     "text": [
      "나는 천재\n"
     ]
    }
   ],
   "source": [
    "# encoding=utf-8\n",
    "'''\n",
    "유니코드 문자가 포함된 프로그램을 작성할 때에는 \n",
    "반드시 파이썬 에게 이 프로그램이 UTF-8 형식을 사용하여 작성되었음을 알려 주어야 하며, \n",
    "이를 위해 # encoding=utf-8 과 같이 프로그램의 맨 윗줄에 주석을 한 줄 입력하여 줍니다.\n",
    "'''\n",
    "import io\n",
    "f = io.open(\"abc.txt\", \"wt\", encoding=\"utf-8\")\n",
    "'''io.open 문을 사용할 때에는 \"encoding\" 과 \"decoding\" 인수를 넘겨 주어 \n",
    "파이썬에게 우리가 유니코드를사용할것임을알려주고,\n",
    "또문자열을넘겨줄때에는 u\"\" 와같이해주어\n",
    "우리가 유니코드 문자열을 사용중이라는 것을 명확하게 해 줍니다.\n",
    "'''\n",
    "f.write(u\"나는 천재\")#it should be unicode for non-English\n",
    "f.close()\n",
    "text = io.open(\"abc.txt\", encoding=\"utf-8\").read() \n",
    "print text\n",
    " "
   ]
  },
  {
   "cell_type": "code",
   "execution_count": 88,
   "metadata": {
    "collapsed": false
   },
   "outputs": [
    {
     "name": "stdout",
     "output_type": "stream",
     "text": [
      "Enter sth-->a\n",
      "ShortInputException: The input was 1 long, expected at least 3\n"
     ]
    }
   ],
   "source": [
    "class SIE(Exception):\n",
    "    '''user-defined exception class'''\n",
    "    def __init__(self, length, atleast):\n",
    "        Exception.__init__(self)\n",
    "        self.length=length\n",
    "        self.atleast=atleast\n",
    "\n",
    "try:\n",
    "    text=raw_input('Enter sth-->')\n",
    "    if len(text)<3:\n",
    "        raise SIE(len(text),3)\n",
    "except EOFError:\n",
    "    print 'EOF'\n",
    "except SIE as ex:\n",
    "    print ('ShortInputException: The input was ' + \\\n",
    "            '{0} long, expected at least {1}')\\\n",
    "           .format(ex.length, ex.atleast)\n",
    "else:\n",
    "    print 'no exception'\n",
    "        "
   ]
  },
  {
   "cell_type": "code",
   "execution_count": 95,
   "metadata": {
    "collapsed": false
   },
   "outputs": [
    {
     "data": {
      "text/plain": [
       "(4, 2)"
      ]
     },
     "execution_count": 95,
     "metadata": {},
     "output_type": "execute_result"
    }
   ],
   "source": [
    "a='aaaa'\n",
    "SIE(len(a),2).length,SIE(len(a),2).atleast"
   ]
  },
  {
   "cell_type": "code",
   "execution_count": 97,
   "metadata": {
    "collapsed": false
   },
   "outputs": [
    {
     "name": "stdout",
     "output_type": "stream",
     "text": [
      "kim \n",
      "Press ctrl+c now\n",
      "is \n",
      "Press ctrl+c now\n",
      "\n",
      "Press ctrl+c now\n",
      "king\n",
      "Press ctrl+c now\n",
      "(Cleaning up: Closed the file)\n"
     ]
    }
   ],
   "source": [
    "import sys\n",
    "import time\n",
    "\n",
    "f = None \n",
    "try:\n",
    "    f = open(\"poem.txt\")\n",
    "# Our usual file-reading idiom \n",
    "    while True:\n",
    "        line = f.readline() \n",
    "        if len(line) == 0:\n",
    "            break \n",
    "        print line,\n",
    "        sys.stdout.flush()\n",
    "        print \"Press ctrl+c now\"\n",
    "# To make sure it runs for a while time.sleep(2)\n",
    "except IOError:\n",
    "    print \"Could not find file poem.txt\"\n",
    "except KeyboardInterrupt:\n",
    "    print \"!! You cancelled the reading from the file.\"\n",
    "finally: \n",
    "    if f:\n",
    "        f.close()\n",
    "print \"(Cleaning up: Closed the file)\"\n",
    " \n",
    " "
   ]
  },
  {
   "cell_type": "code",
   "execution_count": 100,
   "metadata": {
    "collapsed": false
   },
   "outputs": [
    {
     "name": "stdout",
     "output_type": "stream",
     "text": [
      "0 1 2 3 4\n"
     ]
    }
   ],
   "source": [
    "import time\n",
    "import sys\n",
    "\n",
    "for i in range(5):\n",
    "    print i,\n",
    "    #sys.stdout.flush()\n",
    "    time.sleep(1)"
   ]
  },
  {
   "cell_type": "code",
   "execution_count": 101,
   "metadata": {
    "collapsed": false
   },
   "outputs": [
    {
     "name": "stdout",
     "output_type": "stream",
     "text": [
      "0 1 2 3 4\n"
     ]
    }
   ],
   "source": [
    "import time\n",
    "import sys\n",
    "\n",
    "for i in range(5):\n",
    "    print i,\n",
    "    sys.stdout.flush()\n",
    "    time.sleep(1)"
   ]
  },
  {
   "cell_type": "code",
   "execution_count": 107,
   "metadata": {
    "collapsed": false
   },
   "outputs": [
    {
     "name": "stdout",
     "output_type": "stream",
     "text": [
      "0 1 2 3 4 5 Flushing buffer\n",
      "6 7 8 9\n",
      "0 1 2 3 4 5 Flushing buffer\n",
      "6 7 8 9 0 1 2 3 4 5 Flushing buffer\n",
      "6 7 8 9\n"
     ]
    }
   ],
   "source": [
    "import time\n",
    "import sys\n",
    "\n",
    "for i in range(10):\n",
    "    print i,\n",
    "    if i == 5:\n",
    "        print \"Flushing buffer\"\n",
    "        sys.stdout.flush()\n",
    "    time.sleep(1)\n",
    "\n",
    "print\n",
    "for i in range(10):\n",
    "    \n",
    "    print i,\n",
    "    if i == 5:\n",
    "        print \"Flushing buffer\"\n",
    "        sys.stdout.flush()\n",
    "        \n",
    "for i in range(10):\n",
    "    \n",
    "    print i,\n",
    "    if i == 5:\n",
    "        print \"Flushing buffer\""
   ]
  },
  {
   "cell_type": "code",
   "execution_count": 119,
   "metadata": {
    "collapsed": false
   },
   "outputs": [
    {
     "name": "stdout",
     "output_type": "stream",
     "text": [
      "1 2\n",
      "2 1\n"
     ]
    }
   ],
   "source": [
    "a, b =1,2\n",
    "print a, b\n",
    "\n",
    "olda=a\n",
    "a=b\n",
    "b=olda\n",
    "\n",
    "\n",
    "print a,b"
   ]
  },
  {
   "cell_type": "code",
   "execution_count": null,
   "metadata": {
    "collapsed": true
   },
   "outputs": [],
   "source": []
  }
 ],
 "metadata": {
  "kernelspec": {
   "display_name": "Python 2",
   "language": "python",
   "name": "python2"
  },
  "language_info": {
   "codemirror_mode": {
    "name": "ipython",
    "version": 2
   },
   "file_extension": ".py",
   "mimetype": "text/x-python",
   "name": "python",
   "nbconvert_exporter": "python",
   "pygments_lexer": "ipython2",
   "version": "2.7.10"
  }
 },
 "nbformat": 4,
 "nbformat_minor": 0
}
