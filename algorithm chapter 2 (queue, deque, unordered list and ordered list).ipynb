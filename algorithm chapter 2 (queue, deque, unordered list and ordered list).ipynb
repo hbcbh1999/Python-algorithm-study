{
 "cells": [
  {
   "cell_type": "code",
   "execution_count": 2,
   "metadata": {
    "collapsed": false
   },
   "outputs": [],
   "source": [
    "class Queue:\n",
    "    def __init__(self):\n",
    "        self.items = []\n",
    "\n",
    "    def isEmpty(self):\n",
    "        return self.items == []\n",
    "\n",
    "    def enqueue(self, item):\n",
    "        self.items.insert(0,item)\n",
    "\n",
    "    def dequeue(self):\n",
    "        return self.items.pop()\n",
    "\n",
    "    def size(self):\n",
    "        return len(self.items)\n"
   ]
  },
  {
   "cell_type": "code",
   "execution_count": 8,
   "metadata": {
    "collapsed": false
   },
   "outputs": [
    {
     "name": "stdout",
     "output_type": "stream",
     "text": [
      "3\n"
     ]
    }
   ],
   "source": [
    "q=Queue()\n",
    "\n",
    "q.enqueue(4)\n",
    "q.enqueue('dog')\n",
    "q.enqueue(True)\n",
    "print(q.size())\n"
   ]
  },
  {
   "cell_type": "code",
   "execution_count": 23,
   "metadata": {
    "collapsed": false
   },
   "outputs": [
    {
     "name": "stdout",
     "output_type": "stream",
     "text": [
      "Kenny\n",
      "Jake\n",
      "Namshik\n",
      "Jake\n",
      "Namshik\n",
      "Sam\n",
      "Jake\n",
      "Mark\n",
      "Jake\n",
      "May\n",
      "Sam\n"
     ]
    }
   ],
   "source": [
    "def hotPotato(namelist, num):\n",
    "    q = Queue()\n",
    "    for name in namelist:\n",
    "        q.enqueue(name)\n",
    "        \n",
    "    while q.size() > 1:\n",
    "        for i in range(num):\n",
    "            q.enqueue(q.dequeue())\n",
    "            \n",
    "        q.dequeue()\n",
    "        \n",
    "    return q.dequeue()\n",
    "\n",
    "for i in range(11):\n",
    "    print hotPotato([\"Namshik\", \"May\", \"Mark\" , \"Sam\", \"Jake\", \"Kenny\"],i)"
   ]
  },
  {
   "cell_type": "code",
   "execution_count": 78,
   "metadata": {
    "collapsed": false
   },
   "outputs": [
    {
     "name": "stdout",
     "output_type": "stream",
     "text": [
      "Average Wait   3.00 secs   0 tasks remaining.\n",
      "Average Wait   0.00 secs   0 tasks remaining.\n",
      "Average Wait   8.00 secs   0 tasks remaining.\n",
      "Average Wait   2.00 secs   2 tasks remaining.\n",
      "Average Wait   0.00 secs   0 tasks remaining.\n",
      "Average Wait   3.00 secs   0 tasks remaining.\n",
      "Average Wait  10.00 secs   0 tasks remaining.\n",
      "Average Wait   5.00 secs   0 tasks remaining.\n",
      "Average Wait   3.00 secs   0 tasks remaining.\n",
      "Average Wait   3.00 secs   0 tasks remaining.\n"
     ]
    }
   ],
   "source": [
    "import random\n",
    "\n",
    "class Printer:\n",
    "    def __init__(self, ppm):\n",
    "        self.pagerate = ppm # ppm, page per minute. 프린터의 작업 효율.\n",
    "        self.currentTask = None # 프린터 클래스를 줬을 땐 당연히 작업은 아직 시작 안한 상태\n",
    "        self.timeRemaining = 0 # 물론 작업을 시작하지 않았으니 작업에 남은 시간도 없다. \n",
    "\n",
    "    def startNext(self,newtask): # 작업을 시작한다. \n",
    "        self.currentTask = newtask\n",
    "        self.timeRemaining = newtask.getPages() * 60/self.pagerate # 작업에 주어진 페이지 수에 걸리는 시간을 초 단위로 준다.\n",
    "\n",
    "    def tick(self): # 남아있는 시간이 줄어든다.\n",
    "        if self.currentTask != None:\n",
    "            self.timeRemaining = self.timeRemaining - 1\n",
    "            if self.timeRemaining <= 0: \n",
    "                self.currentTask = None\n",
    "                # 남은 시간이 0 이하가 되면, 작업이 끝나 현재 작업이 없음으로 설정한다. \n",
    "                # 이게 없으면  busy 메쏘드가 정상 작동하지 않고, 시뮬레이션에서 프린의 큐 관리가 되지 않는다.                 \n",
    "                \n",
    "    def busy(self): # 프린터의 작업 유무\n",
    "        if self.currentTask != None:\n",
    "            return True\n",
    "        else:\n",
    "            return False        \n",
    "        \n",
    "class Task:\n",
    "    def __init__(self,time):\n",
    "        self.timestamp = time # 대기 시작 시간\n",
    "        self.pages = random.randrange(1,21)\n",
    "\n",
    "    def getStamp(self): \n",
    "        return self.timestamp # Task 가 프린터에 대기하기 시작한 시간을 볼수 있으나, 밑의 시뮬레이션에서는 쓰이지 않았음. \n",
    "\n",
    "    def getPages(self):\n",
    "        return self.pages\n",
    "\n",
    "    def waitTime(self, currenttime): #대기 시간과 작업 시작 시간이 다를 경우에 기다린 시간을 계산한다. \n",
    "        return currenttime - self.timestamp\n",
    "\n",
    "def simulation(numSeconds, pagesPerMinute):\n",
    "\n",
    "    labprinter = Printer(pagesPerMinute)\n",
    "    printQueue = Queue()\n",
    "    waitingtimes = []\n",
    "\n",
    "    for currentSecond in range(numSeconds):\n",
    "\n",
    "        if newPrintTask(): # 3600 초 동안 20번 랜덤으로 작업 시작하기 위한 장치 1/180 확률. 작업이 밀려있어도 실행하여 큐를 채운다. \n",
    "            task = Task(currentSecond) # Task 클래스를 시작하여, 프린터에 대기시작한 시간을 알리고, 작업양(페이지수)를 결정한다. \n",
    "            printQueue.enqueue(task) # 큐만 채우고, 프린팅 시작은 다음 if에서 실행하여 남은 시간을 계산한다. \n",
    "\n",
    "        if (not labprinter.busy()) and (not printQueue.isEmpty()): # 프린터 비고 기다리면 큐에서 빼서 다음 작업 시작\n",
    "            nexttask = printQueue.dequeue()\n",
    "            waitingtimes.append(nexttask.waitTime(currentSecond)) # 큐가 있었을 경우, 대기 시간과 작업 시작 시간이 다를 수 있다.\n",
    "            labprinter.startNext(nexttask)\n",
    "\n",
    "        labprinter.tick()\n",
    "        \n",
    "    averageWait=sum(waitingtimes)/len(waitingtimes)\n",
    "    print(\"Average Wait %6.2f secs %3d tasks remaining.\"%(averageWait,printQueue.size()))\n",
    "\n",
    "def newPrintTask():\n",
    "    num = random.randrange(1,181)\n",
    "    if num == 180: # 이 숫자는 1과 180 사이면 아무 숫자여도 상관없다. 어차피 1/180 확률을 주기 위한 것. \n",
    "        return True\n",
    "    else:\n",
    "        return False\n",
    "    \n",
    "for i in range(10):\n",
    "    simulation(3600,20)\n"
   ]
  },
  {
   "cell_type": "code",
   "execution_count": 68,
   "metadata": {
    "collapsed": false
   },
   "outputs": [],
   "source": [
    "# 학생 수를 parametrize 했을 때\n",
    "\n",
    "\n",
    "import random\n",
    "\n",
    "class Printer:\n",
    "    def __init__(self, ppm):\n",
    "        self.pagerate = ppm # ppm, page per minute. 프린터의 작업 효율.\n",
    "        self.currentTask = None # 프린터 클래스를 줬을 땐 당연히 작업은 아직 시작 안한 상태\n",
    "        self.timeRemaining = 0 # 물론 작업을 시작하지 않았으니 작업에 남은 시간도 없다. \n",
    "\n",
    "    def startNext(self,newtask): # 작업을 시작한다. \n",
    "        self.currentTask = newtask\n",
    "        self.timeRemaining = newtask.getPages() * 60/self.pagerate # 작업에 주어진 페이지 수에 걸리는 시간을 초 단위로 준다.\n",
    "\n",
    "    def tick(self): # 남아있는 시간이 줄어든다.\n",
    "        if self.currentTask != None:\n",
    "            self.timeRemaining = self.timeRemaining - 1\n",
    "            if self.timeRemaining <= 0: \n",
    "                self.currentTask = None\n",
    "                # 남은 시간이 0 이하가 되면, 작업이 끝나 현재 작업이 없음으로 설정한다. \n",
    "                # 이게 없으면  busy 메쏘드가 정상 작동하지 않고, 시뮬레이션에서 프린의 큐 관리가 되지 않는다.                 \n",
    "                \n",
    "    def busy(self): # 프린터의 작업 유무\n",
    "        if self.currentTask != None:\n",
    "            return True\n",
    "        else:\n",
    "            return False        \n",
    "        \n",
    "class Task:\n",
    "    def __init__(self,time):\n",
    "        self.timestamp = time # 대기 시작 시간\n",
    "        self.pages = random.randrange(1,21)\n",
    "\n",
    "    def getStamp(self): \n",
    "        return self.timestamp # Task 가 프린터에 대기하기 시작한 시간을 볼수 있으나, 밑의 시뮬레이션에서는 쓰이지 않았음. \n",
    "\n",
    "    def getPages(self):\n",
    "        return self.pages\n",
    "\n",
    "    def waitTime(self, currenttime): #대기 시간과 작업 시작 시간이 다를 경우에 기다린 시간을 계산한다. \n",
    "        return currenttime - self.timestamp\n",
    "\n",
    "def simulation(numSeconds, pagesPerMinute, numOfStudents):\n",
    "\n",
    "    labprinter = Printer(pagesPerMinute)\n",
    "    printQueue = Queue()\n",
    "    waitingtimes = []\n",
    "\n",
    "    for currentSecond in range(numSeconds):\n",
    "\n",
    "        if newPrintTask(numOfStudents): # 3600 초 동안 20번 랜덤으로 작업 시작하기 위한 장치 1/180 확률. 작업이 밀려있어도 실행하여 큐를 채운다. \n",
    "            task = Task(currentSecond) # Task 클래스를 시작하여, 프린터에 대기시작한 시간을 알리고, 작업양(페이지수)를 결정한다. \n",
    "            printQueue.enqueue(task) # 큐만 채우고, 프린팅 시작은 다음 if에서 실행하여 남은 시간을 계산한다. \n",
    "\n",
    "        if (not labprinter.busy()) and (not printQueue.isEmpty()): # 프린터 비고 기다리면 큐에서 빼서 다음 작업 시작\n",
    "            nexttask = printQueue.dequeue()\n",
    "            waitingtimes.append(nexttask.waitTime(currentSecond)) # 큐가 있었을 경우, 대기 시간과 작업 시작 시간이 다를 수 있다.\n",
    "            labprinter.startNext(nexttask)\n",
    "\n",
    "        labprinter.tick()\n",
    "        \n",
    "    averageWait=sum(waitingtimes)/len(waitingtimes)\n",
    "    print(\"Average Wait %6.2f secs %3d tasks remaining.\"%(averageWait,printQueue.size()))\n",
    "\n",
    "def newPrintTask(numOfStudents):\n",
    "    num = random.randrange(1,3600/(2*numOfStudents+1)\n",
    "    if num == 1: # 이 숫자는 1과 180 사이면 아무 숫자여도 상관없다. 어차피 1/180 확률을 주기 위한 것. \n",
    "        return True\n",
    "    else:\n",
    "        return False"
   ]
  },
  {
   "cell_type": "code",
   "execution_count": 71,
   "metadata": {
    "collapsed": false
   },
   "outputs": [
    {
     "name": "stdout",
     "output_type": "stream",
     "text": [
      "Average Wait  56.00 secs   0 tasks remaining.\n",
      "Average Wait  60.00 secs   1 tasks remaining.\n",
      "Average Wait  46.00 secs   5 tasks remaining.\n",
      "Average Wait  35.00 secs   3 tasks remaining.\n",
      "Average Wait  52.00 secs   1 tasks remaining.\n",
      "Average Wait 216.00 secs   0 tasks remaining.\n",
      "Average Wait  23.00 secs   0 tasks remaining.\n",
      "Average Wait  70.00 secs   0 tasks remaining.\n",
      "Average Wait 174.00 secs   4 tasks remaining.\n",
      "Average Wait  48.00 secs   0 tasks remaining.\n"
     ]
    }
   ],
   "source": [
    "for i in range(10):\n",
    "    simulation(3600,10,21)"
   ]
  },
  {
   "cell_type": "code",
   "execution_count": 72,
   "metadata": {
    "collapsed": false
   },
   "outputs": [
    {
     "name": "stdout",
     "output_type": "stream",
     "text": [
      "Average Wait 137.00 secs   0 tasks remaining.\n",
      "Average Wait  72.00 secs   0 tasks remaining.\n",
      "Average Wait  57.00 secs   0 tasks remaining.\n",
      "Average Wait  60.00 secs   0 tasks remaining.\n",
      "Average Wait  74.00 secs   0 tasks remaining.\n",
      "Average Wait 105.00 secs   0 tasks remaining.\n",
      "Average Wait  91.00 secs   1 tasks remaining.\n",
      "Average Wait 278.00 secs   0 tasks remaining.\n",
      "Average Wait  32.00 secs   0 tasks remaining.\n",
      "Average Wait  73.00 secs   3 tasks remaining.\n"
     ]
    }
   ],
   "source": [
    "for i in range(10):\n",
    "    simulation(3600,10,20)"
   ]
  },
  {
   "cell_type": "code",
   "execution_count": 76,
   "metadata": {
    "collapsed": false
   },
   "outputs": [
    {
     "data": {
      "text/plain": [
       "(171.42857142857142, 171)"
      ]
     },
     "execution_count": 76,
     "metadata": {},
     "output_type": "execute_result"
    }
   ],
   "source": [
    "3600/21.0, 3600/21"
   ]
  },
  {
   "cell_type": "code",
   "execution_count": null,
   "metadata": {
    "collapsed": true
   },
   "outputs": [],
   "source": []
  },
  {
   "cell_type": "code",
   "execution_count": 79,
   "metadata": {
    "collapsed": true
   },
   "outputs": [],
   "source": [
    "\n",
    "class Deque:\n",
    "    def __init__(self):\n",
    "        self.items = []\n",
    "\n",
    "    def isEmpty(self):\n",
    "        return self.items == []\n",
    "\n",
    "    def addFront(self, item):\n",
    "        self.items.append(item)\n",
    "\n",
    "    def addRear(self, item):\n",
    "        self.items.insert(0,item)\n",
    "\n",
    "    def removeFront(self):\n",
    "        return self.items.pop()\n",
    "\n",
    "    def removeRear(self):\n",
    "        return self.items.pop(0)\n",
    "\n",
    "    def size(self):\n",
    "        return len(self.items)\n"
   ]
  },
  {
   "cell_type": "code",
   "execution_count": 107,
   "metadata": {
    "collapsed": false
   },
   "outputs": [
    {
     "data": {
      "text/plain": [
       "((['a', 'd', 'a', 'r'], ['r', 'a', 'd', 'a']),\n",
       " (['r', 'a', 'd', 'a', 'r'], ['r', 'a', 'd', 'a', 'r']))"
      ]
     },
     "execution_count": 107,
     "metadata": {},
     "output_type": "execute_result"
    }
   ],
   "source": [
    "# 직접 제작\n",
    "import copy \n",
    "\n",
    "def palindromChecker(word):\n",
    "    d1 = Deque()\n",
    "    for ch in word:\n",
    "        d1.addFront(ch)\n",
    "        \n",
    "    d2 = copy.deepcopy(d1) # 깊은 copy를 이용해서 복제함. \n",
    "            \n",
    "    checklist1 = []\n",
    "    checklist2 = []\n",
    "    \n",
    "    while not d1.isEmpty():\n",
    "        checklist1.append(d1.removeFront())\n",
    "        \n",
    "    while not d2.isEmpty():\n",
    "        checklist2.append(d2.removeRear())\n",
    "        \n",
    "    return checklist1, checklist2\n",
    "\n",
    "\n",
    "palindromChecker(\"rada\"), palindromChecker(\"radar\")"
   ]
  },
  {
   "cell_type": "code",
   "execution_count": 83,
   "metadata": {
    "collapsed": false
   },
   "outputs": [
    {
     "name": "stdout",
     "output_type": "stream",
     "text": [
      "False\n",
      "True\n"
     ]
    }
   ],
   "source": [
    "def palchecker(aString):\n",
    "    chardeque = Deque()\n",
    "\n",
    "    for ch in aString:\n",
    "        chardeque.addRear(ch)\n",
    "\n",
    "    stillEqual = True\n",
    "\n",
    "    while chardeque.size() > 1 and stillEqual:\n",
    "        first = chardeque.removeFront()\n",
    "        last = chardeque.removeRear()\n",
    "        if first != last:\n",
    "            stillEqual = False\n",
    "\n",
    "    return stillEqual\n",
    "\n",
    "print(palchecker(\"lsdkjfskf\"))\n",
    "print(palchecker(\"radar\"))"
   ]
  },
  {
   "cell_type": "code",
   "execution_count": 108,
   "metadata": {
    "collapsed": true
   },
   "outputs": [],
   "source": [
    "class Node:\n",
    "    def __init__(self,initdata):\n",
    "        self.data = initdata\n",
    "        self.next = None \n",
    "        # A reference to None will denote the fact that there is no next node. \n",
    "\n",
    "    def getData(self):\n",
    "        return self.data\n",
    "\n",
    "    def getNext(self):\n",
    "        return self.next\n",
    "\n",
    "    def setData(self,newdata):\n",
    "        self.data = newdata\n",
    "\n",
    "    def setNext(self,newnext):\n",
    "        self.next = newnext"
   ]
  },
  {
   "cell_type": "code",
   "execution_count": 414,
   "metadata": {
    "collapsed": false
   },
   "outputs": [],
   "source": [
    "class UnorderedList:\n",
    "\n",
    "    def __init__(self):\n",
    "        self.head = None # 처음에 헤드는 None을 갖지만\n",
    "        \n",
    "    def isEmpty(self):\n",
    "        return self.head == None\n",
    "    \n",
    "    def add(self,item): # add 를 통해 head에 Node를 연결한다\n",
    "        temp = Node(item)\n",
    "        temp.setNext(self.head) # 추가 add가 있을 경우 Node를 본체 Node의 head 에 연결\n",
    "        self.head = temp # 새 헤드를 명시 \n",
    "        \n",
    "    def size(self):\n",
    "        current = self.head\n",
    "        count = 0\n",
    "        while current != None:\n",
    "            count = count + 1\n",
    "            current = current.getNext()\n",
    "\n",
    "        return count\n",
    "    \n",
    "    def mysearch(self, item): # 직접 제작\n",
    "        \n",
    "        current = self.head\n",
    "        \n",
    "    \n",
    "        while current != None:\n",
    "            if current.data == item:  \n",
    "                return True # 밑에 search 메쏘드처럼 변수를 줘서 마지막에 그 변수를 리턴하는 것이 안정적\n",
    "        \n",
    "            current = current.next\n",
    "            \n",
    "        return False\n",
    "                \n",
    "\n",
    "    def search(self,item): # next, data 대신 그것을 정의한 메쏘드를 사용. \n",
    "        current = self.head\n",
    "        found = False\n",
    "        while current != None and not found: # 변수를 줬을 경우엔 바로 리턴하지 않기 때문에 not found가 필요. \n",
    "            if current.getData() == item:\n",
    "                found = True\n",
    "            else:\n",
    "                current = current.getNext()\n",
    "\n",
    "        return found\n",
    "    \n",
    "    def remove(self, item):\n",
    "        current = self.head\n",
    "        previous = None \n",
    "        \n",
    "        found = False\n",
    "        \n",
    "        while not found: \n",
    "            if current.getData() == item:\n",
    "                found = True # 찾았으면 루프에서 탈출\n",
    "\n",
    "            else:\n",
    "                previous = current\n",
    "                current = current.getNext()\n",
    "\n",
    "        if previous == None:\n",
    "            self.head = current.getNext()\n",
    "            \n",
    "        else:\n",
    "            previous.setNext(current.getNext()) \n",
    "            \n",
    "    def append(self, items): # add와 뭐가 달라야 하는지 모르겠다. \n",
    "        pass\n",
    "    \n",
    "    def index(self, item): # search 메쏘드에 count만 추가해서 count 출력\n",
    "        current = self.head\n",
    "        found = False\n",
    "        \n",
    "        count = 0\n",
    "        while current != None and not found: # 변수를 줬을 경우엔 바로 리턴하지 않기 때문에 not found가 필요. \n",
    "            if current.getData() == item:\n",
    "                found = True\n",
    "            else:\n",
    "                current = current.getNext()\n",
    "                count += 1\n",
    "\n",
    "        return count\n",
    "            \n",
    "    def pop(self): #pop은 마지막 data를 주고 그 노드를 삭제. next가 None인 것을 삭제하므로 remove와도 비슷\n",
    "        \n",
    "        current = self.head\n",
    "        previous = None\n",
    "        \n",
    "        while current.getNext() != None:\n",
    "            previous = current \n",
    "            current = current.getNext()\n",
    "        \n",
    "        pop = current.getData()\n",
    "        if previous == None:\n",
    "            self.head = current.getNext()\n",
    "            \n",
    "        else:\n",
    "            previous.setNext(current.getNext()) \n",
    "            \n",
    "        \n",
    "        return pop"
   ]
  },
  {
   "cell_type": "code",
   "execution_count": 415,
   "metadata": {
    "collapsed": false
   },
   "outputs": [
    {
     "data": {
      "text/plain": [
       "(17, 30, 3)"
      ]
     },
     "execution_count": 415,
     "metadata": {},
     "output_type": "execute_result"
    }
   ],
   "source": [
    "mylist= UnorderedList()\n",
    "\n",
    "mylist.add(31)\n",
    "mylist.add(30)\n",
    "mylist.add(17)\n",
    "mylist.head.data, mylist.head.next.data, mylist.size()"
   ]
  },
  {
   "cell_type": "code",
   "execution_count": 416,
   "metadata": {
    "collapsed": false
   },
   "outputs": [
    {
     "data": {
      "text/plain": [
       "(True, True, False)"
      ]
     },
     "execution_count": 416,
     "metadata": {},
     "output_type": "execute_result"
    }
   ],
   "source": [
    "mylist.mysearch(31), mylist.mysearch(30), mylist.mysearch(10)"
   ]
  },
  {
   "cell_type": "code",
   "execution_count": 417,
   "metadata": {
    "collapsed": false
   },
   "outputs": [
    {
     "data": {
      "text/plain": [
       "True"
      ]
     },
     "execution_count": 417,
     "metadata": {},
     "output_type": "execute_result"
    }
   ],
   "source": [
    "mylist.search(17)"
   ]
  },
  {
   "cell_type": "code",
   "execution_count": 418,
   "metadata": {
    "collapsed": false
   },
   "outputs": [],
   "source": [
    "mylist.remove(30)"
   ]
  },
  {
   "cell_type": "code",
   "execution_count": 419,
   "metadata": {
    "collapsed": false
   },
   "outputs": [
    {
     "data": {
      "text/plain": [
       "(17, 31, 2)"
      ]
     },
     "execution_count": 419,
     "metadata": {},
     "output_type": "execute_result"
    }
   ],
   "source": [
    "mylist.head.data, mylist.head.next.data, mylist.size()"
   ]
  },
  {
   "cell_type": "code",
   "execution_count": 420,
   "metadata": {
    "collapsed": false
   },
   "outputs": [
    {
     "data": {
      "text/plain": [
       "(2, 1)"
      ]
     },
     "execution_count": 420,
     "metadata": {},
     "output_type": "execute_result"
    }
   ],
   "source": [
    "mylist.index(3), mylist.index(31)"
   ]
  },
  {
   "cell_type": "code",
   "execution_count": 421,
   "metadata": {
    "collapsed": false
   },
   "outputs": [
    {
     "data": {
      "text/plain": [
       "31"
      ]
     },
     "execution_count": 421,
     "metadata": {},
     "output_type": "execute_result"
    }
   ],
   "source": [
    "mylist.pop()"
   ]
  },
  {
   "cell_type": "code",
   "execution_count": 422,
   "metadata": {
    "collapsed": false
   },
   "outputs": [
    {
     "data": {
      "text/plain": [
       "(17, None, 1)"
      ]
     },
     "execution_count": 422,
     "metadata": {},
     "output_type": "execute_result"
    }
   ],
   "source": [
    "mylist.head.data, mylist.head.next, mylist.size()"
   ]
  },
  {
   "cell_type": "code",
   "execution_count": 423,
   "metadata": {
    "collapsed": false
   },
   "outputs": [
    {
     "data": {
      "text/plain": [
       "1"
      ]
     },
     "execution_count": 423,
     "metadata": {},
     "output_type": "execute_result"
    }
   ],
   "source": [
    "mylist.size()"
   ]
  },
  {
   "cell_type": "code",
   "execution_count": null,
   "metadata": {
    "collapsed": true
   },
   "outputs": [],
   "source": []
  },
  {
   "cell_type": "code",
   "execution_count": 482,
   "metadata": {
    "collapsed": false
   },
   "outputs": [],
   "source": [
    "class OrderedList:\n",
    "    def __init__(self):\n",
    "        self.head = None\n",
    "        \n",
    "    def isEmpty(self):\n",
    "        return self.head == None\n",
    "    \n",
    "\n",
    "    def size(self):\n",
    "        current = self.head\n",
    "        count = 0\n",
    "        while current != None:\n",
    "            count = count + 1\n",
    "            current = current.getNext()\n",
    "\n",
    "        return count\n",
    "                \n",
    "\n",
    "\n",
    "    \n",
    "    def remove(self, item):\n",
    "        current = self.head\n",
    "        previous = None \n",
    "        \n",
    "        found = False\n",
    "        \n",
    "        while not found: \n",
    "            if current.getData() == item:\n",
    "                found = True # 찾았으면 루프에서 탈출\n",
    "\n",
    "            else:\n",
    "                previous = current\n",
    "                current = current.getNext()\n",
    "\n",
    "        if previous == None:\n",
    "            self.head = current.getNext()\n",
    "            \n",
    "        else:\n",
    "            previous.setNext(current.getNext()) \n",
    "            \n",
    "    def append(self, items): # add와 뭐가 달라야 하는지 모르겠다. \n",
    "        pass\n",
    "    \n",
    "    def index(self, item): # search 메쏘드에 count만 추가해서 count 출력\n",
    "        current = self.head\n",
    "        found = False\n",
    "        \n",
    "        count = 0\n",
    "        while current != None and not found: # 변수를 줬을 경우엔 바로 리턴하지 않기 때문에 not found가 필요. \n",
    "            if current.getData() == item:\n",
    "                found = True\n",
    "            else:\n",
    "                current = current.getNext()\n",
    "                count += 1\n",
    "\n",
    "        return count\n",
    "            \n",
    "    def pop(self): #pop은 마지막 data를 주고 그 노드를 삭제. next가 None인 것을 삭제하므로 remove와도 비슷\n",
    "        \n",
    "        current = self.head\n",
    "        previous = None\n",
    "        \n",
    "        while current.getNext() != None:\n",
    "            previous = current \n",
    "            current = current.getNext()\n",
    "        \n",
    "        pop = current.getData()\n",
    "        if previous == None:\n",
    "            self.head = current.getNext()\n",
    "            \n",
    "        else:\n",
    "            previous.setNext(current.getNext()) \n",
    "            \n",
    "        \n",
    "        return pop\n",
    "    \n",
    "    \n",
    "    def search(self,item): # next, data 대신 그것을 정의한 메쏘드를 사용. \n",
    "        current = self.head\n",
    "        found = False\n",
    "        stop = False\n",
    "        while current != None and not found and not stop: # 변수를 줬을 경우엔 바로 리턴하지 않기 때문에 not found가 필요. \n",
    "            if current.getData() == item:\n",
    "                found = True\n",
    "            else:\n",
    "                if current.getData() > item:\n",
    "                    stop = True # 찾지 못하므로 룹에서 나가서 False 출력\n",
    "                else:\n",
    "                    current = current.getNext()\n",
    "\n",
    "        return found\n",
    "    \n",
    "\n",
    "    def add(self,item):\n",
    "        current = self.head\n",
    "        previous = None\n",
    "        stop = False\n",
    "        while current != None and not stop:\n",
    "            if current.getData() > item:\n",
    "                stop = True\n",
    "            else:\n",
    "                previous = current\n",
    "                current = current.getNext()\n",
    "\n",
    "        temp = Node(item)\n",
    "        if previous == None:\n",
    "            temp.setNext(self.head)\n",
    "            self.head = temp\n",
    "        else:\n",
    "            temp.setNext(current)\n",
    "            previous.setNext(temp)\n",
    "\n",
    "               "
   ]
  },
  {
   "cell_type": "code",
   "execution_count": 486,
   "metadata": {
    "collapsed": false
   },
   "outputs": [
    {
     "data": {
      "text/plain": [
       "(4, 5)"
      ]
     },
     "execution_count": 486,
     "metadata": {},
     "output_type": "execute_result"
    }
   ],
   "source": [
    "olist = OrderedList()\n",
    "olist.add(4)\n",
    "olist.add(8)\n",
    "olist.add(5)\n",
    "\n",
    "olist.head.data, olist.head.next.data"
   ]
  },
  {
   "cell_type": "code",
   "execution_count": null,
   "metadata": {
    "collapsed": true
   },
   "outputs": [],
   "source": []
  },
  {
   "cell_type": "code",
   "execution_count": null,
   "metadata": {
    "collapsed": true
   },
   "outputs": [],
   "source": []
  }
 ],
 "metadata": {
  "kernelspec": {
   "display_name": "Python 2",
   "language": "python",
   "name": "python2"
  },
  "language_info": {
   "codemirror_mode": {
    "name": "ipython",
    "version": 2
   },
   "file_extension": ".py",
   "mimetype": "text/x-python",
   "name": "python",
   "nbconvert_exporter": "python",
   "pygments_lexer": "ipython2",
   "version": "2.7.10"
  }
 },
 "nbformat": 4,
 "nbformat_minor": 0
}
