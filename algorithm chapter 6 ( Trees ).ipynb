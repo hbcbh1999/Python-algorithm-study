{
 "cells": [
  {
   "cell_type": "code",
   "execution_count": null,
   "metadata": {
    "collapsed": true
   },
   "outputs": [],
   "source": [
    "myTree = ['a',   #root\n",
    "      ['b',  #left subtree\n",
    "       ['d', [], []],\n",
    "       ['e', [], []] ],\n",
    "      ['c',  #right subtree\n",
    "       ['f', [], []],\n",
    "       [] ]\n",
    "     ]\n"
   ]
  },
  {
   "cell_type": "code",
   "execution_count": null,
   "metadata": {
    "collapsed": false
   },
   "outputs": [],
   "source": [
    "print(myTree)\n",
    "print('left subtree = ', myTree[1])\n",
    "print('root = ', myTree[0])\n",
    "print('right subtree = ', myTree[2])"
   ]
  },
  {
   "cell_type": "code",
   "execution_count": null,
   "metadata": {
    "collapsed": false
   },
   "outputs": [],
   "source": [
    "myTree[1][1]"
   ]
  },
  {
   "cell_type": "code",
   "execution_count": null,
   "metadata": {
    "collapsed": false
   },
   "outputs": [],
   "source": [
    "def BinaryTree(r):\n",
    "    return [r, [], []]\n",
    "def insertLeft(root,newBranch):\n",
    "    t = root.pop(1)\n",
    "    if len(t) > 1:\n",
    "        root.insert(1,[newBranch,t,[]])\n",
    "    else:\n",
    "        root.insert(1,[newBranch, [], []])\n",
    "    return root\n",
    "\n",
    "def insertRight(root,newBranch):\n",
    "    t = root.pop(2)\n",
    "    if len(t) > 1:\n",
    "        root.insert(2,[newBranch,[],t])\n",
    "    else:\n",
    "        root.insert(2,[newBranch,[],[]])\n",
    "    return root\n",
    "\n",
    "def getRootVal(root):\n",
    "    return root[0]\n",
    "\n",
    "def setRootVal(root,newVal):\n",
    "    root[0] = newVal\n",
    "\n",
    "def getLeftChild(root):\n",
    "    return root[1]\n",
    "\n",
    "def getRightChild(root):\n",
    "    return root[2]\n"
   ]
  },
  {
   "cell_type": "code",
   "execution_count": null,
   "metadata": {
    "collapsed": false
   },
   "outputs": [],
   "source": [
    "r=BinaryTree('a')\n",
    "insertLeft(r,'b')\n",
    "insertRight(r,'c')\n",
    "insertRight(getLeftChild(r),'d')\n",
    "insertLeft(getRightChild(r),'e')\n",
    "insertRight(getRightChild(r),'f')\n",
    "r"
   ]
  },
  {
   "cell_type": "code",
   "execution_count": null,
   "metadata": {
    "collapsed": false
   },
   "outputs": [],
   "source": [
    "class BinaryTree:\n",
    "    def __init__(self, rootObj):\n",
    "        self.key = rootObj\n",
    "        self.leftChild=None\n",
    "        self.rightChild=None\n",
    "        \n",
    "    def insertLeft(self, newNode):\n",
    "        if self.leftChild == None:\n",
    "            self.leftChild = BinaryTree(newNode)\n",
    "        else:\n",
    "            t=BinaryTree(newNode)\n",
    "            t.leftChild = self.leftChild\n",
    "            self.leftChild = t\n",
    "            \n",
    "    def insertRight(self, newNode):\n",
    "        if self.rightChild == None:\n",
    "            self.rightChild = BinaryTree(newNode)\n",
    "        else:\n",
    "            t=BinaryTree(newNode)\n",
    "            t.rightChild = self.rightChild\n",
    "            slef.rightChild = t\n",
    "    \n",
    "    def getRootVal(self):\n",
    "        return self.key \n",
    "    \n",
    "    def setRootVal(self, obj):\n",
    "        self.key = obj\n",
    "        \n",
    "    def getLeftChild(self):\n",
    "        return self.leftChild\n",
    "    \n",
    "    def getRightChild(self):\n",
    "        return self.rightChild\n"
   ]
  },
  {
   "cell_type": "code",
   "execution_count": null,
   "metadata": {
    "collapsed": false
   },
   "outputs": [],
   "source": [
    "r = BinaryTree('a')\n",
    "print(r.getRootVal())\n",
    "print(r.getLeftChild())\n",
    "r.insertLeft('b')\n",
    "print(r.getLeftChild())\n",
    "print(r.getLeftChild().getRootVal())\n",
    "r.insertRight('c')\n",
    "print(r.getRightChild())\n",
    "print(r.getRightChild().getRootVal())\n",
    "r.getRightChild().setRootVal('hello')\n",
    "print(r.getRightChild().getRootVal())"
   ]
  },
  {
   "cell_type": "code",
   "execution_count": null,
   "metadata": {
    "collapsed": false
   },
   "outputs": [],
   "source": [
    "r=BinaryTree('a')\n",
    "r.insertLeft(BinaryTree('b'))\n",
    "r.insertRight(BinaryTree('c'))\n",
    "r.getLeftChild().insertRight(BinaryTree('d'))\n",
    "r.getRightChild().insertLeft(BinaryTree('e'))\n",
    "r.getRightChild().insertRight(BinaryTree('e'))"
   ]
  },
  {
   "cell_type": "code",
   "execution_count": 5,
   "metadata": {
    "collapsed": false
   },
   "outputs": [
    {
     "name": "stdout",
     "output_type": "stream",
     "text": [
      "Pass\n",
      "Pass\n",
      "Pass\n"
     ]
    },
    {
     "data": {
      "text/plain": [
       "True"
      ]
     },
     "execution_count": 5,
     "metadata": {},
     "output_type": "execute_result"
    }
   ],
   "source": [
    "class BinaryTree:\n",
    "    def __init__(self, rootObj):\n",
    "        self.key = rootObj\n",
    "        self.leftChild=None\n",
    "        self.rightChild=None\n",
    "        \n",
    "    def insertLeft(self, newNode):\n",
    "        if self.leftChild == None:\n",
    "            self.leftChild = BinaryTree(newNode)\n",
    "        else:\n",
    "            t=BinaryTree(newNode)\n",
    "            t.leftChild = self.leftChild\n",
    "            self.leftChild = t\n",
    "            \n",
    "    def insertRight(self, newNode):\n",
    "        if self.rightChild == None:\n",
    "            self.rightChild = BinaryTree(newNode)\n",
    "        else:\n",
    "            t=BinaryTree(newNode)\n",
    "            t.rightChild = self.rightChild\n",
    "            self.rightChild = t\n",
    "    \n",
    "    def getRootVal(self):\n",
    "        return self.key \n",
    "    \n",
    "    def setRootVal(self, obj):\n",
    "        self.key = obj\n",
    "        \n",
    "    def getLeftChild(self):\n",
    "        return self.leftChild\n",
    "    \n",
    "    def getRightChild(self):\n",
    "        return self.rightChild\n",
    "    \n",
    "    \n",
    "    def preorder(self):\n",
    "        print self.key\n",
    "        if self.leftChild:\n",
    "            self.leftChild.preorder()\n",
    "        if self.rightChild:\n",
    "            self.rightChild.preorder()        \n",
    "\n",
    "            \n",
    "    def postorder(self):\n",
    "        if self.leftChild:\n",
    "            self.leftChild.postorder()\n",
    "        if self.rightChild:\n",
    "            self.rightChild.postorder()  \n",
    "        print self.key\n",
    "        \n",
    "    def inorder(self):\n",
    "        if self.leftChild:\n",
    "            self.leftChild.postorder()\n",
    "        print self.key        \n",
    "        if self.rightChild:\n",
    "            self.rightChild.postorder()  \n",
    "\n",
    "    def postordereval(self):\n",
    "        opers = {'+':operator.add, '-':operator.sub, '*':operator.mul, '/':operator.truediv}\n",
    "     \n",
    "        if self.leftChild and self.rightChild:\n",
    "            fn = opers[self.key]\n",
    "            return fn(self.leftChild.postordereval(), self.rightChild.postordereval())\n",
    "        else:\n",
    "            return self.key\n",
    "        \n",
    "    def printexp(self):\n",
    "        sVal =\"\"\n",
    "        if self.leftChild:\n",
    "            sVal = \"(\" + self.leftChild.printexp()\n",
    "        sVal = sVal + str(self.key)\n",
    "        if self.rightChild:\n",
    "            sVal= sVal+self.rightChild.printexp()+\")\"  \n",
    "        return sVal\n",
    "        \n",
    "        \n",
    "        \n",
    "        \n",
    "        \n",
    "        \n",
    "        \n",
    "            \n",
    "            \n",
    "def buildTree():\n",
    "    r=BinaryTree('a')\n",
    "    r.insertLeft('b')\n",
    "    r.insertRight('c')\n",
    "    r.getLeftChild().insertRight('d')\n",
    "    r.getRightChild().insertLeft('e')\n",
    "    r.getRightChild().insertRight('f')\n",
    "    return r\n",
    "\n",
    "def testEqual(actual, expected):\n",
    "    if type(expected) == type(1):\n",
    "        # they're integers, so check if exactly the same\n",
    "        if actual == expected:\n",
    "            print('Pass')\n",
    "            return True\n",
    "    elif type(expected) == type(1.11):\n",
    "        # a float is expected, so just check if it's very close, to allow for\n",
    "        # rounding errors\n",
    "        if abs(actual-expected) < 0.00001:\n",
    "            print('Pass')\n",
    "            return True\n",
    "    else:\n",
    "        # check if they are equal\n",
    "        if actual == expected:\n",
    "            print('Pass')\n",
    "            return True\n",
    "    print('Test Failed: expected ' + str(expected) + ' but got ' + str(actual))\n",
    "    return False\n",
    "\n",
    "ttree = buildTree()\n",
    "\n",
    "testEqual(ttree.getRightChild().getRootVal(),'c')\n",
    "testEqual(ttree.getLeftChild().getRightChild().getRootVal(),'d')\n",
    "testEqual(ttree.getRightChild().getLeftChild().getRootVal(),'e')"
   ]
  },
  {
   "cell_type": "code",
   "execution_count": 2,
   "metadata": {
    "collapsed": false
   },
   "outputs": [
    {
     "data": {
      "text/plain": [
       "46"
      ]
     },
     "execution_count": 2,
     "metadata": {},
     "output_type": "execute_result"
    }
   ],
   "source": [
    "from stack import Stack\n",
    "import operator\n",
    "\n",
    "def buildParseTree(fpexp):\n",
    "    fplist = fpexp.split()\n",
    "    pStack = Stack()\n",
    "    eTree = BinaryTree('')\n",
    "    pStack.push(eTree)\n",
    "    currentTree = eTree\n",
    "    for i in fplist:\n",
    "        if i == '(':\n",
    "            currentTree.insertLeft('')\n",
    "            pStack.push(currentTree)\n",
    "            currentTree = currentTree.getLeftChild()\n",
    "        elif i not in ['+', '-', '*', '/', ')']:\n",
    "            currentTree.setRootVal(int(i))\n",
    "            parent = pStack.pop()\n",
    "            currentTree = parent\n",
    "        elif i in ['+', '-', '*', '/']:\n",
    "            currentTree.setRootVal(i)\n",
    "            currentTree.insertRight('')\n",
    "            pStack.push(currentTree)\n",
    "            currentTree = currentTree.getRightChild()\n",
    "        elif i == ')':\n",
    "            currentTree = pStack.pop()\n",
    "        else:\n",
    "            raise ValueError\n",
    "    return eTree\n",
    "\n",
    "\n",
    "\n",
    "\n",
    "\n",
    "def evaluate(parseTree):\n",
    "    opers = {'+':operator.add, '-':operator.sub, '*':operator.mul, '/':operator.truediv}\n",
    "\n",
    "    leftC = parseTree.getLeftChild()\n",
    "    rightC = parseTree.getRightChild()\n",
    "\n",
    "    if leftC and rightC: # works when both are not None\n",
    "        fn = opers[parseTree.getRootVal()]\n",
    "        return fn(evaluate(leftC),evaluate(rightC))\n",
    "    else:\n",
    "        return parseTree.getRootVal()\n",
    "\n",
    "    \n",
    "    \n",
    "    \n",
    "\n",
    "\n",
    "pt = buildParseTree(\"( ( ( 10 + 5 ) * 3  ) + ( 3 - 2 )\")\n",
    "\n",
    "evaluate(pt)"
   ]
  },
  {
   "cell_type": "code",
   "execution_count": null,
   "metadata": {
    "collapsed": false
   },
   "outputs": [],
   "source": [
    "pt.preorder()"
   ]
  },
  {
   "cell_type": "code",
   "execution_count": null,
   "metadata": {
    "collapsed": false
   },
   "outputs": [],
   "source": [
    "pt.postorder()"
   ]
  },
  {
   "cell_type": "code",
   "execution_count": null,
   "metadata": {
    "collapsed": false
   },
   "outputs": [],
   "source": [
    "pt.inorder()"
   ]
  },
  {
   "cell_type": "code",
   "execution_count": null,
   "metadata": {
    "collapsed": true
   },
   "outputs": [],
   "source": [
    "def preorder(tree):\n",
    "    if tree:\n",
    "        print(tree.getRootVal())\n",
    "        preorder(tree.getLeftChild())\n",
    "        preorder(tree.getRightChild())\n",
    "\n",
    "def postorder(tree):\n",
    "    if tree:\n",
    "        postorder(tree.getLeftChild())\n",
    "        postorder(tree.getRightChild())\n",
    "        print(tree.getRootVal())\n",
    "        \n",
    "\n",
    "        \n",
    "def postordereval(tree):\n",
    "    opers = {'+':operator.add, '-':operator.sub, '*':operator.mul, '/':operator.truediv}\n",
    "    res1=None\n",
    "    res2=None\n",
    "    if tree:\n",
    "        res1= postordereval(tree.getLeftChild())\n",
    "        res2= postordereval(tree.getRightChild())\n",
    "\n",
    "        if res1 and res2:\n",
    "            fn = opers[tree.getRootVal()]\n",
    "            return fn(res1, res2)\n",
    "        else:\n",
    "            return tree.getRootVal()\n",
    "\n",
    "        \n",
    "        \n",
    "def inorder(tree):\n",
    "    if tree:\n",
    "        postorder(tree.getLeftChild())\n",
    "        print(tree.getRootVal())        \n",
    "        postorder(tree.getRightChild())\n",
    "            \n",
    "def printexp(tree):\n",
    "    sVal = \"\"\n",
    "    if tree:\n",
    "        sVal = '(' + printexp2(tree.getLeftChild())\n",
    "        sVal = sVal + str(tree.getRootVal())\n",
    "        sVal = sVal + printexp2(tree.getRightChild())+')'\n",
    "    return sVal"
   ]
  },
  {
   "cell_type": "code",
   "execution_count": 6,
   "metadata": {
    "collapsed": false
   },
   "outputs": [
    {
     "data": {
      "text/plain": [
       "46"
      ]
     },
     "execution_count": 6,
     "metadata": {},
     "output_type": "execute_result"
    }
   ],
   "source": [
    "pt.postordereval()"
   ]
  },
  {
   "cell_type": "code",
   "execution_count": 3,
   "metadata": {
    "collapsed": false
   },
   "outputs": [
    {
     "data": {
      "text/plain": [
       "'(((10+5)*3)+(3-2))'"
      ]
     },
     "execution_count": 3,
     "metadata": {},
     "output_type": "execute_result"
    }
   ],
   "source": [
    "pt.printexp()"
   ]
  },
  {
   "cell_type": "code",
   "execution_count": 31,
   "metadata": {
    "collapsed": true
   },
   "outputs": [],
   "source": [
    "class BinHeap:\n",
    "    def __init__(self):\n",
    "        self.heapList =[0]\n",
    "        self.currentSize = 0\n",
    "        \n",
    "        \n",
    "    def percUp(self, i):\n",
    "        while i/2>0:\n",
    "            if self.heapList[i]<self.heapList[i/2]:\n",
    "                temp = self.heapList[i/2]\n",
    "                self.heapList[i/2]=self.heapList[i]\n",
    "                self.heapList[i]=temp\n",
    "            i = i/2\n",
    "            \n",
    "    def insert(self, k):\n",
    "        self.heapList.append(k)\n",
    "        self.currentSize = self.currentSize + 1\n",
    "        self.percUp(self.currentSize)\n",
    "        \n",
    "\n",
    "        \n",
    "    def minChild(self, i): # Finding the number(or index) of smaller between two children\n",
    "        if self.currentSize == 2 * i: # if heapList[2*1 +1] is not filled \n",
    "            return 2 * i\n",
    "        if self.heapList[2 * i] > self.heapList[2 * i + 1]:\n",
    "            return 2 * i + 1\n",
    "        else:\n",
    "            return 2 * i\n",
    "        \n",
    "    def percDown(self, i):\n",
    "        while 2 * i <= self.currentSize:\n",
    "            mc=self.minChild(i)\n",
    "            if self.heapList[mc] < self.heapList[i]:\n",
    "                temp = self.heapList[mc]\n",
    "                self.heapList[mc]=self.heapList[i]\n",
    "                self.heapList[i] = temp\n",
    "            i = mc\n",
    "        \n",
    "        \n",
    "    def delMin(self):\n",
    "        minimum = self.heapList[1]\n",
    "        self.heapList[1]=self.heapList[self.currentSize]\n",
    "        self.currentSize = self.currentSize - 1        \n",
    "        self.heapList.pop()\n",
    "        self.percDown(1)\n",
    "        return minimum\n",
    "    \n",
    "    def buildHeap(self,alist):\n",
    "        i = len(alist) // 2\n",
    "        self.currentSize = len(alist)\n",
    "        self.heapList = [0] + alist[:] \n",
    "        while (i > 0):\n",
    "            self.percDown(i)\n",
    "            i = i - 1\n",
    "        \n",
    "    "
   ]
  },
  {
   "cell_type": "code",
   "execution_count": 138,
   "metadata": {
    "collapsed": false
   },
   "outputs": [],
   "source": [
    "class BinarySearchTree:\n",
    "    \n",
    "    def __init__(self):\n",
    "        self.root = None\n",
    "        self.size =0\n",
    "        \n",
    "    def length(self):\n",
    "        return self.size\n",
    "    \n",
    "    def __len__(self):\n",
    "        return self.size\n",
    "    \n",
    "    def __iter__(self):\n",
    "        return self.root.__iter__()\n",
    "    \n",
    "    def put(self, key, val):\n",
    "        if self.root:\n",
    "            self._put(key, val, self.root)\n",
    "        else:\n",
    "            self.root = TreeNode(key, val)\n",
    "        self.size = self.size + 1\n",
    "        \n",
    "    def _put(self, key, val, currentNode):\n",
    "        if key < currentNode.key:\n",
    "            if currentNode.hasLeftChild():\n",
    "                self._put(key, val, currentNode.leftChild)\n",
    "            else:\n",
    "                currentNode.leftChild = TreeNode(key, val, parent = currentNode)\n",
    "        else:\n",
    "            if currentNode.hasRightChild():\n",
    "                self._put(key, val, currentNode.rightChild)\n",
    "            else:\n",
    "                currentNode.rightChild= TreeNode(key, val, parent = currentNode)\n",
    "                \n",
    "    def __setitem__(self, key, val):\n",
    "        self.put(key, val)\n",
    "    \n",
    "    \n",
    "    def get(self, key):\n",
    "        if self.root:\n",
    "            if self._get(key, self.root):\n",
    "                return self._get(key, self.root).payload\n",
    "            else:\n",
    "                return None\n",
    "        else:\n",
    "            return None\n",
    "        \n",
    "    def _get(self, key, currentNode):\n",
    "        if not currentNode:\n",
    "            return None\n",
    "        elif currentNode.key == key:\n",
    "            return currentNode\n",
    "        elif currentNode.key < key:\n",
    "            return self._get(key, currentNode.leftChild)\n",
    "        else:\n",
    "            return self._get(key, currentNode.rightChild)\n",
    "        \n",
    "    def __getitem__(self, key):\n",
    "        return self.get(key)\n",
    "    \n",
    "    def __contains__(self, key): # if tree include a key, return True\n",
    "        if self._get(key, self.root):\n",
    "            return True\n",
    "        else:\n",
    "            return False\n",
    "        \n",
    "    def delete(self, key):\n",
    "        if self.size > 1:\n",
    "            nodeToRemove = self._get(key, self.root)\n",
    "            if nodeToRemove:\n",
    "                self.remove(nodeToRemove)\n",
    "                self.size = self.size - 1\n",
    "            else:\n",
    "                raise KeyError('Error, key not in tree haha')\n",
    "        elif self.size == 1 and self.root.key == key:\n",
    "            self.root = None\n",
    "            self.size = self.size - 1\n",
    "        else:\n",
    "            raise KeyError('Error, key not in tree haha')\n",
    "            \n",
    "    def __delitem__(self, key):\n",
    "        self.delete(key)"
   ]
  },
  {
   "cell_type": "code",
   "execution_count": 139,
   "metadata": {
    "collapsed": false
   },
   "outputs": [],
   "source": [
    "class TreeNode:\n",
    "    def __init__(self, key, val, left=None, right=None, parent =None):\n",
    "        self.key =key\n",
    "        self.payload = val\n",
    "        self.leftChild = left\n",
    "        self.rightChild = right\n",
    "        self.parent = parent\n",
    "        \n",
    "    def hasLeftChild(self):\n",
    "        return self.leftChild\n",
    "    \n",
    "    def hasRightChild(self):\n",
    "        return self.rightChild\n",
    "    \n",
    "    def isLeftChild(self):\n",
    "        return self.parent and self.parent.leftChild == self\n",
    "    \n",
    "    def isRightChild(self):\n",
    "        return self.parent and self.parent.rightChild == self\n",
    "    \n",
    "    def isRoot(self):\n",
    "        return not self.parent\n",
    "    \n",
    "    def isLeaf(self):\n",
    "        return not (self.leftChild or self.rightChild)\n",
    "    \n",
    "    def hasAnyChildren(self):\n",
    "        return self.leftChild or self.rightChild\n",
    "    \n",
    "    def hasBothChildren(self):\n",
    "        return self.leftChild and self.rightChild\n",
    "    \n",
    "    def replaceNodeData(self, key, value, lc, rc):\n",
    "        self.key = key\n",
    "        self.payload = value\n",
    "        self.leftChild = lc\n",
    "        self.rightChild = rc\n",
    "        if self.hasLeftChild():\n",
    "            self.leftChild.parent = self\n",
    "        if self.hasRightChild():\n",
    "            self.rightChild.parent = self\n",
    "    \n",
    "    \n",
    "    \n"
   ]
  },
  {
   "cell_type": "code",
   "execution_count": 149,
   "metadata": {
    "collapsed": false
   },
   "outputs": [],
   "source": [
    "\n",
    "mytree = BinarySearchTree()\n",
    "mytree[0]=\"red\"\n"
   ]
  },
  {
   "cell_type": "code",
   "execution_count": 150,
   "metadata": {
    "collapsed": false
   },
   "outputs": [
    {
     "data": {
      "text/plain": [
       "(False, True)"
      ]
     },
     "execution_count": 150,
     "metadata": {},
     "output_type": "execute_result"
    }
   ],
   "source": [
    "\"red\" in mytree, 0 in mytree"
   ]
  },
  {
   "cell_type": "code",
   "execution_count": 151,
   "metadata": {
    "collapsed": false
   },
   "outputs": [
    {
     "data": {
      "text/plain": [
       "'red'"
      ]
     },
     "execution_count": 151,
     "metadata": {},
     "output_type": "execute_result"
    }
   ],
   "source": [
    "mytree.get(0)"
   ]
  },
  {
   "cell_type": "code",
   "execution_count": 152,
   "metadata": {
    "collapsed": false
   },
   "outputs": [
    {
     "data": {
      "text/plain": [
       "True"
      ]
     },
     "execution_count": 152,
     "metadata": {},
     "output_type": "execute_result"
    }
   ],
   "source": [
    "mytree.__contains__(0)"
   ]
  },
  {
   "cell_type": "code",
   "execution_count": 153,
   "metadata": {
    "collapsed": false
   },
   "outputs": [],
   "source": [
    "del mytree[0]"
   ]
  },
  {
   "cell_type": "code",
   "execution_count": 154,
   "metadata": {
    "collapsed": false
   },
   "outputs": [
    {
     "ename": "KeyError",
     "evalue": "'Error, key not in tree haha'",
     "output_type": "error",
     "traceback": [
      "\u001b[0;31m---------------------------------------------------------------------------\u001b[0m",
      "\u001b[0;31mKeyError\u001b[0m                                  Traceback (most recent call last)",
      "\u001b[0;32m<ipython-input-154-26244189dbce>\u001b[0m in \u001b[0;36m<module>\u001b[0;34m()\u001b[0m\n\u001b[0;32m----> 1\u001b[0;31m \u001b[0;32mdel\u001b[0m \u001b[0mmytree\u001b[0m\u001b[0;34m[\u001b[0m\u001b[0;36m0\u001b[0m\u001b[0;34m]\u001b[0m\u001b[0;34m\u001b[0m\u001b[0m\n\u001b[0m",
      "\u001b[0;32m<ipython-input-138-6ba04878abf8>\u001b[0m in \u001b[0;36m__delitem__\u001b[0;34m(self, key)\u001b[0m\n\u001b[1;32m     80\u001b[0m \u001b[0;34m\u001b[0m\u001b[0m\n\u001b[1;32m     81\u001b[0m     \u001b[0;32mdef\u001b[0m \u001b[0m__delitem__\u001b[0m\u001b[0;34m(\u001b[0m\u001b[0mself\u001b[0m\u001b[0;34m,\u001b[0m \u001b[0mkey\u001b[0m\u001b[0;34m)\u001b[0m\u001b[0;34m:\u001b[0m\u001b[0;34m\u001b[0m\u001b[0m\n\u001b[0;32m---> 82\u001b[0;31m         \u001b[0mself\u001b[0m\u001b[0;34m.\u001b[0m\u001b[0mdelete\u001b[0m\u001b[0;34m(\u001b[0m\u001b[0mkey\u001b[0m\u001b[0;34m)\u001b[0m\u001b[0;34m\u001b[0m\u001b[0m\n\u001b[0m",
      "\u001b[0;32m<ipython-input-138-6ba04878abf8>\u001b[0m in \u001b[0;36mdelete\u001b[0;34m(self, key)\u001b[0m\n\u001b[1;32m     77\u001b[0m             \u001b[0mself\u001b[0m\u001b[0;34m.\u001b[0m\u001b[0msize\u001b[0m \u001b[0;34m=\u001b[0m \u001b[0mself\u001b[0m\u001b[0;34m.\u001b[0m\u001b[0msize\u001b[0m \u001b[0;34m-\u001b[0m \u001b[0;36m1\u001b[0m\u001b[0;34m\u001b[0m\u001b[0m\n\u001b[1;32m     78\u001b[0m         \u001b[0;32melse\u001b[0m\u001b[0;34m:\u001b[0m\u001b[0;34m\u001b[0m\u001b[0m\n\u001b[0;32m---> 79\u001b[0;31m             \u001b[0;32mraise\u001b[0m \u001b[0mKeyError\u001b[0m\u001b[0;34m(\u001b[0m\u001b[0;34m'Error, key not in tree haha'\u001b[0m\u001b[0;34m)\u001b[0m\u001b[0;34m\u001b[0m\u001b[0m\n\u001b[0m\u001b[1;32m     80\u001b[0m \u001b[0;34m\u001b[0m\u001b[0m\n\u001b[1;32m     81\u001b[0m     \u001b[0;32mdef\u001b[0m \u001b[0m__delitem__\u001b[0m\u001b[0;34m(\u001b[0m\u001b[0mself\u001b[0m\u001b[0;34m,\u001b[0m \u001b[0mkey\u001b[0m\u001b[0;34m)\u001b[0m\u001b[0;34m:\u001b[0m\u001b[0;34m\u001b[0m\u001b[0m\n",
      "\u001b[0;31mKeyError\u001b[0m: 'Error, key not in tree haha'"
     ]
    }
   ],
   "source": [
    "del mytree[0]"
   ]
  },
  {
   "cell_type": "code",
   "execution_count": 176,
   "metadata": {
    "collapsed": false
   },
   "outputs": [],
   "source": [
    "class TreeNode:\n",
    "    def __init__(self,key,val,left=None,right=None,parent=None):\n",
    "        self.key = key\n",
    "        self.payload = val\n",
    "        self.leftChild = left\n",
    "        self.rightChild = right\n",
    "        self.parent = parent\n",
    "        self.balanceFactor = 0\n",
    "\n",
    "    def hasLeftChild(self):\n",
    "        return self.leftChild\n",
    "\n",
    "    def hasRightChild(self):\n",
    "        return self.rightChild\n",
    "\n",
    "    def isLeftChild(self):\n",
    "        return self.parent and self.parent.leftChild == self\n",
    "\n",
    "    def isRightChild(self):\n",
    "        return self.parent and self.parent.rightChild == self\n",
    "\n",
    "    def isRoot(self):\n",
    "        return not self.parent\n",
    "\n",
    "    def isLeaf(self):\n",
    "        return not (self.rightChild or self.leftChild)\n",
    "\n",
    "    def hasAnyChildren(self):\n",
    "        return self.rightChild or self.leftChild\n",
    "\n",
    "    def hasBothChildren(self):\n",
    "        return self.rightChild and self.leftChild\n",
    "\n",
    "    def replaceNodeData(self,key,value,lc,rc):\n",
    "        self.key = key\n",
    "        self.payload = value\n",
    "        self.leftChild = lc\n",
    "        self.rightChild = rc\n",
    "        if self.hasLeftChild():\n",
    "            self.leftChild.parent = self\n",
    "        if self.hasRightChild():\n",
    "            self.rightChild.parent = self\n",
    "\n",
    "\n",
    "class BinarySearchTree:\n",
    "\n",
    "    def __init__(self):\n",
    "        self.root = None\n",
    "        self.size = 0\n",
    "\n",
    "    def length(self):\n",
    "        return self.size\n",
    "\n",
    "    def __len__(self):\n",
    "        return self.size\n",
    "\n",
    "    def put(self,key,val):\n",
    "        if self.root:\n",
    "            self._put(key,val,self.root)\n",
    "        else:\n",
    "            self.root = TreeNode(key,val)\n",
    "        self.size = self.size + 1\n",
    "\n",
    "    def _put(self,key,val,currentNode):\n",
    "        if key < currentNode.key:\n",
    "            if currentNode.hasLeftChild():\n",
    "                self._put(key,val,currentNode.leftChild)\n",
    "            else:\n",
    "                currentNode.leftChild = TreeNode(key,val,parent=currentNode)\n",
    "                self.updateBalance(currentNode.leftChild)\n",
    "    \n",
    "        else:\n",
    "            if currentNode.hasRightChild():\n",
    "                self._put(key,val,currentNode.rightChild)\n",
    "            else:\n",
    "                currentNode.rightChild = TreeNode(key,val,parent=currentNode)\n",
    "                self.updateBalance(currentNode.rightChild)\n",
    "                \n",
    "    def updateBalance(self, node):\n",
    "        if node.balanceFactor > 1 or node.balanceFactor < -1:\n",
    "            self.rebalance(node)\n",
    "            return\n",
    "        if node.parent != None:\n",
    "            if node.isLeftChild():\n",
    "                node.parent.balanceFactor += 1\n",
    "            elif node.isRightChild():\n",
    "                node.parent.balanceFactor -= 1\n",
    "            if node.parent.balanceFactor != 0:\n",
    "                self.updateBalance(node.parent)\n",
    "                \n",
    "    def rotateLeft(self, rotRoot):\n",
    "        newRoot = rotRoot.rightChild\n",
    "        rotRoot.rightChild = newRoot.leftChild\n",
    "        if newRoot.leftChild != None:\n",
    "            newRoot.leftChild.parent = rotRoot\n",
    "        newRoot.parent = rotRoot.parent\n",
    "        if rotRoot.isRoot():\n",
    "            self.root = newRoot\n",
    "        else:\n",
    "            rotRoot.parent.rightChild = newRoot\n",
    "        newRoot.leftChild = rotRoot\n",
    "        rotRoot.parent = newRoot\n",
    "        rotRoot.balanceFactor = rotRoot.balanceFactor + 1 - min(newRoot.balanceFactor, 0)\n",
    "        newRoot.balanceFactor = newRoot.balanceFactor + 1 - max(rotRoot.balanceFactor, 0)\n",
    "        \n",
    "    def rotateRight(self, rotRoot): # my guess \n",
    "        newRoot = rotRoot.leftChild\n",
    "        rotRoot.leftChild = newRoot.rightChild\n",
    "        if newRoot.rightChild != None:\n",
    "            newRoot.rightChild.parent = rotRoot\n",
    "        newRoot.parent = rotRoot.parent\n",
    "        if rotRoot.isRoot():\n",
    "            self.root = newRoot\n",
    "        else:\n",
    "            rotRoot.parent.leftChild = newRoot\n",
    "        newRoot.rightChild = rotRoot\n",
    "        rotRoot.parent = newRoot        \n",
    "        rotRoot.balanceFactor = rotRoot.balanceFactor + 1 - min(newRoot.balanceFactor, 0)\n",
    "        newRoot.balanceFactor = newRoot.balanceFactor + 1 - max(rotRoot.balanceFactor, 0)\n",
    "        \n",
    "    def rebalance(self, node):\n",
    "        if node.balanceFactor < 0:\n",
    "            if node.rightChild.balanceFactor > 0:\n",
    "                self.rotateRight(node.rightChild)\n",
    "                self.rotateLeft(node)\n",
    "            else:\n",
    "                self.rotateLeft(node)\n",
    "        elif node.balanceFactor > 0:\n",
    "            if node.leftChild.balanceFactor < 0:\n",
    "                self.rotateLeft(node.leftChild)\n",
    "                self.rotateRight(node)\n",
    "            else:\n",
    "                self.rotateRight(node)\n",
    "\n",
    "    def __setitem__(self,k,v):\n",
    "        self.put(k,v)\n",
    "\n",
    "    def get(self,key):\n",
    "        if self.root:\n",
    "            res = self._get(key,self.root)\n",
    "            if res:\n",
    "                return res.payload\n",
    "            else:\n",
    "                return None\n",
    "        else:\n",
    "            return None\n",
    "\n",
    "    def _get(self,key,currentNode):\n",
    "        if not currentNode:\n",
    "            return None\n",
    "        elif currentNode.key == key:\n",
    "            return currentNode\n",
    "        elif key < currentNode.key:\n",
    "            return self._get(key,currentNode.leftChild)\n",
    "        else:\n",
    "            return self._get(key,currentNode.rightChild)\n",
    "\n",
    "    def __getitem__(self,key):\n",
    "        return self.get(key)\n",
    "\n",
    "    def __contains__(self,key):\n",
    "        if self._get(key,self.root):\n",
    "            return True\n",
    "        else:\n",
    "            return False\n",
    "\n",
    "    def delete(self,key):\n",
    "        if self.size > 1:\n",
    "            nodeToRemove = self._get(key,self.root)\n",
    "            if nodeToRemove:\n",
    "                self.remove(nodeToRemove)\n",
    "                self.size = self.size-1\n",
    "            else:\n",
    "                raise KeyError('Error, key not in tree')\n",
    "        elif self.size == 1 and self.root.key == key:\n",
    "            self.root = None\n",
    "            self.size = self.size - 1\n",
    "        else:\n",
    "            raise KeyError('Error, key not in tree')\n",
    "\n",
    "    def __delitem__(self,key):\n",
    "        self.delete(key)\n",
    "\n",
    "    def spliceOut(self):\n",
    "        if self.isLeaf():\n",
    "            if self.isLeftChild():\n",
    "                self.parent.leftChild = None\n",
    "            else:\n",
    "                self.parent.rightChild = None\n",
    "        elif self.hasAnyChildren():\n",
    "            if self.hasLeftChild():\n",
    "                if self.isLeftChild():\n",
    "                    self.parent.leftChild = self.leftChild\n",
    "                else:\n",
    "                    self.parent.rightChild = self.leftChild\n",
    "                self.leftChild.parent = self.parent\n",
    "            else:\n",
    "                if self.isLeftChild():\n",
    "                    self.parent.leftChild = self.rightChild\n",
    "                else:\n",
    "                    self.parent.rightChild = self.rightChild\n",
    "                self.rightChild.parent = self.parent\n",
    "\n",
    "    def findSuccessor(self):\n",
    "        succ = None\n",
    "        if self.hasRightChild():\n",
    "            succ = self.rightChild.findMin()\n",
    "        else:\n",
    "            if self.parent:\n",
    "                if self.isLeftChild():\n",
    "                    succ = self.parent\n",
    "                else:\n",
    "                    self.parent.rightChild = None\n",
    "                    succ = self.parent.findSuccessor()\n",
    "                    self.parent.rightChild = self\n",
    "        return succ\n",
    "\n",
    "    def findMin(self):\n",
    "        current = self\n",
    "        while current.hasLeftChild():\n",
    "            current = current.leftChild\n",
    "        return current\n",
    "\n",
    "    def remove(self,currentNode):\n",
    "        if currentNode.isLeaf(): #leaf\n",
    "            if currentNode == currentNode.parent.leftChild:\n",
    "                currentNode.parent.leftChild = None\n",
    "            else:\n",
    "                currentNode.parent.rightChild = None\n",
    "        elif currentNode.hasBothChildren(): #interior\n",
    "            succ = currentNode.findSuccessor()\n",
    "            succ.spliceOut()\n",
    "            currentNode.key = succ.key\n",
    "            currentNode.payload = succ.payload\n",
    "\n",
    "        else: # this node has one child\n",
    "            if currentNode.hasLeftChild():\n",
    "                if currentNode.isLeftChild():\n",
    "                    currentNode.leftChild.parent = currentNode.parent\n",
    "                    currentNode.parent.leftChild = currentNode.leftChild\n",
    "                elif currentNode.isRightChild():\n",
    "                    currentNode.leftChild.parent = currentNode.parent\n",
    "                    currentNode.parent.rightChild = currentNode.leftChild\n",
    "                else:\n",
    "                    currentNode.replaceNodeData(currentNode.leftChild.key,\n",
    "                                    currentNode.leftChild.payload,\n",
    "                                    currentNode.leftChild.leftChild,\n",
    "                                    currentNode.leftChild.rightChild)\n",
    "            else:\n",
    "                if currentNode.isLeftChild():\n",
    "                    currentNode.rightChild.parent = currentNode.parent\n",
    "                    currentNode.parent.leftChild = currentNode.rightChild\n",
    "                elif currentNode.isRightChild():\n",
    "                    currentNode.rightChild.parent = currentNode.parent\n",
    "                    currentNode.parent.rightChild = currentNode.rightChild\n",
    "                else:\n",
    "                    currentNode.replaceNodeData(currentNode.rightChild.key,\n",
    "                                    currentNode.rightChild.payload,\n",
    "                                    currentNode.rightChild.leftChild,\n",
    "                                    currentNode.rightChild.rightChild)\n",
    "\n",
    "\n"
   ]
  },
  {
   "cell_type": "code",
   "execution_count": 177,
   "metadata": {
    "collapsed": false
   },
   "outputs": [
    {
     "data": {
      "text/plain": [
       "'red'"
      ]
     },
     "execution_count": 177,
     "metadata": {},
     "output_type": "execute_result"
    }
   ],
   "source": [
    "mytree = BinarySearchTree()\n",
    "mytree[17]=\"red\"\n",
    "mytree[5]=\"blue\"\n",
    "mytree[35]=\"yellow\"\n",
    "mytree[2]=\"at\"\n",
    "mytree[11]=\"s\"\n",
    "mytree[29]=\"d\"\n",
    "mytree[38]=\"v\"\n",
    "\n",
    "mytree.get(17)"
   ]
  },
  {
   "cell_type": "code",
   "execution_count": 178,
   "metadata": {
    "collapsed": false
   },
   "outputs": [
    {
     "name": "stdout",
     "output_type": "stream",
     "text": [
      "True\n",
      "yellow\n",
      "None\n"
     ]
    }
   ],
   "source": [
    "mytree = BinarySearchTree()\n",
    "mytree[3]=\"red\"\n",
    "mytree[4]=\"blue\"\n",
    "mytree[6]=\"yellow\"\n",
    "mytree[2]=\"at\"\n",
    "\n",
    "print(3 in mytree)\n",
    "print(mytree[6])\n",
    "del mytree[2]\n",
    "print(mytree[2])\n"
   ]
  },
  {
   "cell_type": "code",
   "execution_count": 179,
   "metadata": {
    "collapsed": true
   },
   "outputs": [],
   "source": [
    "import unittest"
   ]
  },
  {
   "cell_type": "code",
   "execution_count": 184,
   "metadata": {
    "collapsed": false
   },
   "outputs": [
    {
     "ename": "AttributeError",
     "evalue": "'module' object has no attribute '/Users/namshik/Library/Jupyter/runtime/kernel-8b5322a2-c528-46c4-8a7e-a2edcc33233d'",
     "output_type": "error",
     "traceback": [
      "\u001b[0;31m---------------------------------------------------------------------------\u001b[0m",
      "\u001b[0;31mAttributeError\u001b[0m                            Traceback (most recent call last)",
      "\u001b[0;32m<ipython-input-184-080489a2f6ce>\u001b[0m in \u001b[0;36m<module>\u001b[0;34m()\u001b[0m\n\u001b[1;32m    159\u001b[0m \u001b[0;34m\u001b[0m\u001b[0m\n\u001b[1;32m    160\u001b[0m \u001b[0;32mif\u001b[0m \u001b[0m__name__\u001b[0m \u001b[0;34m==\u001b[0m \u001b[0;34m'__main__'\u001b[0m\u001b[0;34m:\u001b[0m\u001b[0;34m\u001b[0m\u001b[0m\n\u001b[0;32m--> 161\u001b[0;31m     \u001b[0munittest\u001b[0m\u001b[0;34m.\u001b[0m\u001b[0mmain\u001b[0m\u001b[0;34m(\u001b[0m\u001b[0;34m)\u001b[0m\u001b[0;34m\u001b[0m\u001b[0m\n\u001b[0m",
      "\u001b[0;32m/usr/local/Cellar/python/2.7.10_2/Frameworks/Python.framework/Versions/2.7/lib/python2.7/unittest/main.pyc\u001b[0m in \u001b[0;36m__init__\u001b[0;34m(self, module, defaultTest, argv, testRunner, testLoader, exit, verbosity, failfast, catchbreak, buffer)\u001b[0m\n\u001b[1;32m     92\u001b[0m         \u001b[0mself\u001b[0m\u001b[0;34m.\u001b[0m\u001b[0mtestLoader\u001b[0m \u001b[0;34m=\u001b[0m \u001b[0mtestLoader\u001b[0m\u001b[0;34m\u001b[0m\u001b[0m\n\u001b[1;32m     93\u001b[0m         \u001b[0mself\u001b[0m\u001b[0;34m.\u001b[0m\u001b[0mprogName\u001b[0m \u001b[0;34m=\u001b[0m \u001b[0mos\u001b[0m\u001b[0;34m.\u001b[0m\u001b[0mpath\u001b[0m\u001b[0;34m.\u001b[0m\u001b[0mbasename\u001b[0m\u001b[0;34m(\u001b[0m\u001b[0margv\u001b[0m\u001b[0;34m[\u001b[0m\u001b[0;36m0\u001b[0m\u001b[0;34m]\u001b[0m\u001b[0;34m)\u001b[0m\u001b[0;34m\u001b[0m\u001b[0m\n\u001b[0;32m---> 94\u001b[0;31m         \u001b[0mself\u001b[0m\u001b[0;34m.\u001b[0m\u001b[0mparseArgs\u001b[0m\u001b[0;34m(\u001b[0m\u001b[0margv\u001b[0m\u001b[0;34m)\u001b[0m\u001b[0;34m\u001b[0m\u001b[0m\n\u001b[0m\u001b[1;32m     95\u001b[0m         \u001b[0mself\u001b[0m\u001b[0;34m.\u001b[0m\u001b[0mrunTests\u001b[0m\u001b[0;34m(\u001b[0m\u001b[0;34m)\u001b[0m\u001b[0;34m\u001b[0m\u001b[0m\n\u001b[1;32m     96\u001b[0m \u001b[0;34m\u001b[0m\u001b[0m\n",
      "\u001b[0;32m/usr/local/Cellar/python/2.7.10_2/Frameworks/Python.framework/Versions/2.7/lib/python2.7/unittest/main.pyc\u001b[0m in \u001b[0;36mparseArgs\u001b[0;34m(self, argv)\u001b[0m\n\u001b[1;32m    147\u001b[0m             \u001b[0;32melse\u001b[0m\u001b[0;34m:\u001b[0m\u001b[0;34m\u001b[0m\u001b[0m\n\u001b[1;32m    148\u001b[0m                 \u001b[0mself\u001b[0m\u001b[0;34m.\u001b[0m\u001b[0mtestNames\u001b[0m \u001b[0;34m=\u001b[0m \u001b[0;34m(\u001b[0m\u001b[0mself\u001b[0m\u001b[0;34m.\u001b[0m\u001b[0mdefaultTest\u001b[0m\u001b[0;34m,\u001b[0m\u001b[0;34m)\u001b[0m\u001b[0;34m\u001b[0m\u001b[0m\n\u001b[0;32m--> 149\u001b[0;31m             \u001b[0mself\u001b[0m\u001b[0;34m.\u001b[0m\u001b[0mcreateTests\u001b[0m\u001b[0;34m(\u001b[0m\u001b[0;34m)\u001b[0m\u001b[0;34m\u001b[0m\u001b[0m\n\u001b[0m\u001b[1;32m    150\u001b[0m         \u001b[0;32mexcept\u001b[0m \u001b[0mgetopt\u001b[0m\u001b[0;34m.\u001b[0m\u001b[0merror\u001b[0m\u001b[0;34m,\u001b[0m \u001b[0mmsg\u001b[0m\u001b[0;34m:\u001b[0m\u001b[0;34m\u001b[0m\u001b[0m\n\u001b[1;32m    151\u001b[0m             \u001b[0mself\u001b[0m\u001b[0;34m.\u001b[0m\u001b[0musageExit\u001b[0m\u001b[0;34m(\u001b[0m\u001b[0mmsg\u001b[0m\u001b[0;34m)\u001b[0m\u001b[0;34m\u001b[0m\u001b[0m\n",
      "\u001b[0;32m/usr/local/Cellar/python/2.7.10_2/Frameworks/Python.framework/Versions/2.7/lib/python2.7/unittest/main.pyc\u001b[0m in \u001b[0;36mcreateTests\u001b[0;34m(self)\u001b[0m\n\u001b[1;32m    156\u001b[0m         \u001b[0;32melse\u001b[0m\u001b[0;34m:\u001b[0m\u001b[0;34m\u001b[0m\u001b[0m\n\u001b[1;32m    157\u001b[0m             self.test = self.testLoader.loadTestsFromNames(self.testNames,\n\u001b[0;32m--> 158\u001b[0;31m                                                            self.module)\n\u001b[0m\u001b[1;32m    159\u001b[0m \u001b[0;34m\u001b[0m\u001b[0m\n\u001b[1;32m    160\u001b[0m     \u001b[0;32mdef\u001b[0m \u001b[0m_do_discovery\u001b[0m\u001b[0;34m(\u001b[0m\u001b[0mself\u001b[0m\u001b[0;34m,\u001b[0m \u001b[0margv\u001b[0m\u001b[0;34m,\u001b[0m \u001b[0mLoader\u001b[0m\u001b[0;34m=\u001b[0m\u001b[0mNone\u001b[0m\u001b[0;34m)\u001b[0m\u001b[0;34m:\u001b[0m\u001b[0;34m\u001b[0m\u001b[0m\n",
      "\u001b[0;32m/usr/local/Cellar/python/2.7.10_2/Frameworks/Python.framework/Versions/2.7/lib/python2.7/unittest/loader.pyc\u001b[0m in \u001b[0;36mloadTestsFromNames\u001b[0;34m(self, names, module)\u001b[0m\n\u001b[1;32m    128\u001b[0m         \u001b[0mof\u001b[0m \u001b[0mstring\u001b[0m \u001b[0mspecifiers\u001b[0m\u001b[0;34m.\u001b[0m \u001b[0mSee\u001b[0m \u001b[0;34m'loadTestsFromName()'\u001b[0m\u001b[0;34m.\u001b[0m\u001b[0;34m\u001b[0m\u001b[0m\n\u001b[1;32m    129\u001b[0m         \"\"\"\n\u001b[0;32m--> 130\u001b[0;31m         \u001b[0msuites\u001b[0m \u001b[0;34m=\u001b[0m \u001b[0;34m[\u001b[0m\u001b[0mself\u001b[0m\u001b[0;34m.\u001b[0m\u001b[0mloadTestsFromName\u001b[0m\u001b[0;34m(\u001b[0m\u001b[0mname\u001b[0m\u001b[0;34m,\u001b[0m \u001b[0mmodule\u001b[0m\u001b[0;34m)\u001b[0m \u001b[0;32mfor\u001b[0m \u001b[0mname\u001b[0m \u001b[0;32min\u001b[0m \u001b[0mnames\u001b[0m\u001b[0;34m]\u001b[0m\u001b[0;34m\u001b[0m\u001b[0m\n\u001b[0m\u001b[1;32m    131\u001b[0m         \u001b[0;32mreturn\u001b[0m \u001b[0mself\u001b[0m\u001b[0;34m.\u001b[0m\u001b[0msuiteClass\u001b[0m\u001b[0;34m(\u001b[0m\u001b[0msuites\u001b[0m\u001b[0;34m)\u001b[0m\u001b[0;34m\u001b[0m\u001b[0m\n\u001b[1;32m    132\u001b[0m \u001b[0;34m\u001b[0m\u001b[0m\n",
      "\u001b[0;32m/usr/local/Cellar/python/2.7.10_2/Frameworks/Python.framework/Versions/2.7/lib/python2.7/unittest/loader.pyc\u001b[0m in \u001b[0;36mloadTestsFromName\u001b[0;34m(self, name, module)\u001b[0m\n\u001b[1;32m     98\u001b[0m         \u001b[0mobj\u001b[0m \u001b[0;34m=\u001b[0m \u001b[0mmodule\u001b[0m\u001b[0;34m\u001b[0m\u001b[0m\n\u001b[1;32m     99\u001b[0m         \u001b[0;32mfor\u001b[0m \u001b[0mpart\u001b[0m \u001b[0;32min\u001b[0m \u001b[0mparts\u001b[0m\u001b[0;34m:\u001b[0m\u001b[0;34m\u001b[0m\u001b[0m\n\u001b[0;32m--> 100\u001b[0;31m             \u001b[0mparent\u001b[0m\u001b[0;34m,\u001b[0m \u001b[0mobj\u001b[0m \u001b[0;34m=\u001b[0m \u001b[0mobj\u001b[0m\u001b[0;34m,\u001b[0m \u001b[0mgetattr\u001b[0m\u001b[0;34m(\u001b[0m\u001b[0mobj\u001b[0m\u001b[0;34m,\u001b[0m \u001b[0mpart\u001b[0m\u001b[0;34m)\u001b[0m\u001b[0;34m\u001b[0m\u001b[0m\n\u001b[0m\u001b[1;32m    101\u001b[0m \u001b[0;34m\u001b[0m\u001b[0m\n\u001b[1;32m    102\u001b[0m         \u001b[0;32mif\u001b[0m \u001b[0misinstance\u001b[0m\u001b[0;34m(\u001b[0m\u001b[0mobj\u001b[0m\u001b[0;34m,\u001b[0m \u001b[0mtypes\u001b[0m\u001b[0;34m.\u001b[0m\u001b[0mModuleType\u001b[0m\u001b[0;34m)\u001b[0m\u001b[0;34m:\u001b[0m\u001b[0;34m\u001b[0m\u001b[0m\n",
      "\u001b[0;31mAttributeError\u001b[0m: 'module' object has no attribute '/Users/namshik/Library/Jupyter/runtime/kernel-8b5322a2-c528-46c4-8a7e-a2edcc33233d'"
     ]
    }
   ],
   "source": [
    "\n",
    "class AVLTree(BinarySearchTree):\n",
    "    '''\n",
    "    Author:  Brad Miller\n",
    "    Date:  1/15/2005\n",
    "    Description:  Imlement a binary search tree with the following interface\n",
    "                  functions:  \n",
    "                  __contains__(y) <==> y in x\n",
    "                  __getitem__(y) <==> x[y]\n",
    "                  __init__()\n",
    "                  __len__() <==> len(x)\n",
    "                  __setitem__(k,v) <==> x[k] = v\n",
    "                  clear()\n",
    "                  get(k)\n",
    "                  has_key(k)\n",
    "                  items() \n",
    "                  keys() \n",
    "                  values()\n",
    "                  put(k,v)\n",
    "    '''\n",
    "\n",
    "\n",
    "    def _put(self,key,val,currentNode):\n",
    "        if key < currentNode.key:\n",
    "            if currentNode.hasLeftChild():\n",
    "                self._put(key,val,currentNode.leftChild)\n",
    "            else:\n",
    "                currentNode.leftChild = TreeNode(key,val,parent=currentNode)\n",
    "                self.updateBalance(currentNode.leftChild)\n",
    "        else:\n",
    "            if currentNode.hasRightChild():\n",
    "                self._put(key,val,currentNode.rightChild)\n",
    "            else:\n",
    "                currentNode.rightChild = TreeNode(key,val,parent=currentNode)\n",
    "                self.updateBalance(currentNode.rightChild)                \n",
    "\n",
    "    def updateBalance(self,node):\n",
    "        if node.balanceFactor > 1 or node.balanceFactor < -1:\n",
    "            self.rebalance(node)\n",
    "            return\n",
    "        if node.parent != None:\n",
    "            if node.isLeftChild():\n",
    "                node.parent.balanceFactor += 1\n",
    "            elif node.isRightChild():\n",
    "                node.parent.balanceFactor -= 1\n",
    "\n",
    "            if node.parent.balanceFactor != 0:\n",
    "                self.updateBalance(node.parent)\n",
    "\n",
    "    def rebalance(self,node):\n",
    "        if node.balanceFactor < 0:\n",
    "            if node.rightChild.balanceFactor > 0:\n",
    "                # Do an LR Rotation\n",
    "                self.rotateRight(node.rightChild)\n",
    "                self.rotateLeft(node)\n",
    "            else:\n",
    "                # single left\n",
    "                self.rotateLeft(node)\n",
    "        elif node.balanceFactor > 0:\n",
    "            if node.leftChild.balanceFactor < 0:\n",
    "                # Do an RL Rotation\n",
    "                self.rotateLeft(node.leftChild)\n",
    "                self.rotateRight(node)\n",
    "            else:\n",
    "                # single right\n",
    "                self.rotateRight(node)\n",
    "\n",
    "    def rotateLeft(self,rotRoot):\n",
    "        newRoot = rotRoot.rightChild\n",
    "        rotRoot.rightChild = newRoot.leftChild\n",
    "        if newRoot.leftChild != None:\n",
    "            newRoot.leftChild.parent = rotRoot\n",
    "        newRoot.parent = rotRoot.parent\n",
    "        if rotRoot.isRoot():\n",
    "            self.root = newRoot\n",
    "        else:\n",
    "            if rotRoot.isLeftChild():\n",
    "                rotRoot.parent.leftChild = newRoot\n",
    "            else:\n",
    "                rotRoot.parent.rightChild = newRoot\n",
    "        newRoot.leftChild = rotRoot\n",
    "        rotRoot.parent = newRoot\n",
    "        rotRoot.balanceFactor = rotRoot.balanceFactor + 1 - min(newRoot.balanceFactor, 0)\n",
    "        newRoot.balanceFactor = newRoot.balanceFactor + 1 + max(rotRoot.balanceFactor, 0)\n",
    "\n",
    "\n",
    "    def rotateRight(self,rotRoot):\n",
    "        newRoot = rotRoot.leftChild\n",
    "        rotRoot.leftChild = newRoot.rightChild\n",
    "        if newRoot.rightChild != None:\n",
    "            newRoot.rightChild.parent = rotRoot\n",
    "        newRoot.parent = rotRoot.parent\n",
    "        if rotRoot.isRoot():\n",
    "            self.root = newRoot\n",
    "        else:\n",
    "            if rotRoot.isRightChild():\n",
    "                rotRoot.parent.rightChild = newRoot\n",
    "            else:\n",
    "                rotRoot.parent.leftChild = newRoot\n",
    "        newRoot.rightChild = rotRoot\n",
    "        rotRoot.parent = newRoot\n",
    "        rotRoot.balanceFactor = rotRoot.balanceFactor - 1 - max(newRoot.balanceFactor, 0)\n",
    "        newRoot.balanceFactor = newRoot.balanceFactor - 1 + min(rotRoot.balanceFactor, 0)\n",
    "        \n",
    "\n",
    "class BinaryTreeTests(unittest.TestCase):\n",
    "    def setUp(self):\n",
    "        self.bst = AVLTree()\n",
    "\n",
    "    def testAuto1(self):\n",
    "        self.bst.put(30,'a')\n",
    "        self.bst.put(50,'b')\n",
    "        self.bst.put(40,'c')\n",
    "        assert self.bst.root.key == 40\n",
    "\n",
    "    def testAuto2(self):\n",
    "        self.bst.put(50,'a')\n",
    "        self.bst.put(30,'b')\n",
    "        self.bst.put(40,'c')\n",
    "        assert self.bst.root.key == 40\n",
    "\n",
    "    def testAuto3(self):\n",
    "        self.bst.put(50,'a')\n",
    "        self.bst.put(30,'b')\n",
    "        self.bst.put(70,'c')\n",
    "        self.bst.put(80,'c')\n",
    "        self.bst.put(60,'d')\n",
    "        self.bst.put(90,'e')\n",
    "        assert self.bst.root.key == 70\n",
    "\n",
    "    def testAuto3(self):\n",
    "        self.bst.put(40,'a')\n",
    "        self.bst.put(30,'b')\n",
    "        self.bst.put(50,'c')\n",
    "        self.bst.put(45,'d')\n",
    "        self.bst.put(60,'e')\n",
    "        self.bst.put(43,'f')\n",
    "        assert self.bst.root.key == 45\n",
    "        assert self.bst.root.leftChild.key == 40\n",
    "        assert self.bst.root.rightChild.key == 50\n",
    "        assert self.bst.root.balanceFactor == 0\n",
    "        assert self.bst.root.leftChild.balanceFactor == 0\n",
    "        assert self.bst.root.rightChild.balanceFactor == -1\n",
    "\n",
    "    def testAuto4(self):\n",
    "        self.bst.put(40,'a')\n",
    "        self.bst.put(30,'b')\n",
    "        self.bst.put(50,'c')\n",
    "        self.bst.put(10,'d')\n",
    "        self.bst.put(35,'e')\n",
    "        self.bst.put(37,'f')\n",
    "        assert self.bst.root.key == 35\n",
    "        assert self.bst.root.leftChild.key == 30\n",
    "        assert self.bst.root.rightChild.key == 40\n",
    "        assert self.bst.root.balanceFactor == 0\n",
    "        assert self.bst.root.leftChild.balanceFactor == 1\n",
    "        assert self.bst.root.rightChild.balanceFactor == 0\n",
    "\n",
    "\n",
    "if __name__ == '__main__':\n",
    "    unittest.main()"
   ]
  },
  {
   "cell_type": "code",
   "execution_count": 189,
   "metadata": {
    "collapsed": false
   },
   "outputs": [
    {
     "ename": "AttributeError",
     "evalue": "'module' object has no attribute '/Users/namshik/Library/Jupyter/runtime/kernel-8b5322a2-c528-46c4-8a7e-a2edcc33233d'",
     "output_type": "error",
     "traceback": [
      "\u001b[0;31m---------------------------------------------------------------------------\u001b[0m",
      "\u001b[0;31mAttributeError\u001b[0m                            Traceback (most recent call last)",
      "\u001b[0;32m<ipython-input-189-3ccf7d7a57bd>\u001b[0m in \u001b[0;36m<module>\u001b[0;34m()\u001b[0m\n\u001b[1;32m     18\u001b[0m \u001b[0;34m\u001b[0m\u001b[0m\n\u001b[1;32m     19\u001b[0m \u001b[0;32mif\u001b[0m \u001b[0m__name__\u001b[0m \u001b[0;34m==\u001b[0m \u001b[0;34m'__main__'\u001b[0m\u001b[0;34m:\u001b[0m\u001b[0;34m\u001b[0m\u001b[0m\n\u001b[0;32m---> 20\u001b[0;31m     \u001b[0munittest\u001b[0m\u001b[0;34m.\u001b[0m\u001b[0mmain\u001b[0m\u001b[0;34m(\u001b[0m\u001b[0;34m)\u001b[0m\u001b[0;34m\u001b[0m\u001b[0m\n\u001b[0m",
      "\u001b[0;32m/usr/local/Cellar/python/2.7.10_2/Frameworks/Python.framework/Versions/2.7/lib/python2.7/unittest/main.pyc\u001b[0m in \u001b[0;36m__init__\u001b[0;34m(self, module, defaultTest, argv, testRunner, testLoader, exit, verbosity, failfast, catchbreak, buffer)\u001b[0m\n\u001b[1;32m     92\u001b[0m         \u001b[0mself\u001b[0m\u001b[0;34m.\u001b[0m\u001b[0mtestLoader\u001b[0m \u001b[0;34m=\u001b[0m \u001b[0mtestLoader\u001b[0m\u001b[0;34m\u001b[0m\u001b[0m\n\u001b[1;32m     93\u001b[0m         \u001b[0mself\u001b[0m\u001b[0;34m.\u001b[0m\u001b[0mprogName\u001b[0m \u001b[0;34m=\u001b[0m \u001b[0mos\u001b[0m\u001b[0;34m.\u001b[0m\u001b[0mpath\u001b[0m\u001b[0;34m.\u001b[0m\u001b[0mbasename\u001b[0m\u001b[0;34m(\u001b[0m\u001b[0margv\u001b[0m\u001b[0;34m[\u001b[0m\u001b[0;36m0\u001b[0m\u001b[0;34m]\u001b[0m\u001b[0;34m)\u001b[0m\u001b[0;34m\u001b[0m\u001b[0m\n\u001b[0;32m---> 94\u001b[0;31m         \u001b[0mself\u001b[0m\u001b[0;34m.\u001b[0m\u001b[0mparseArgs\u001b[0m\u001b[0;34m(\u001b[0m\u001b[0margv\u001b[0m\u001b[0;34m)\u001b[0m\u001b[0;34m\u001b[0m\u001b[0m\n\u001b[0m\u001b[1;32m     95\u001b[0m         \u001b[0mself\u001b[0m\u001b[0;34m.\u001b[0m\u001b[0mrunTests\u001b[0m\u001b[0;34m(\u001b[0m\u001b[0;34m)\u001b[0m\u001b[0;34m\u001b[0m\u001b[0m\n\u001b[1;32m     96\u001b[0m \u001b[0;34m\u001b[0m\u001b[0m\n",
      "\u001b[0;32m/usr/local/Cellar/python/2.7.10_2/Frameworks/Python.framework/Versions/2.7/lib/python2.7/unittest/main.pyc\u001b[0m in \u001b[0;36mparseArgs\u001b[0;34m(self, argv)\u001b[0m\n\u001b[1;32m    147\u001b[0m             \u001b[0;32melse\u001b[0m\u001b[0;34m:\u001b[0m\u001b[0;34m\u001b[0m\u001b[0m\n\u001b[1;32m    148\u001b[0m                 \u001b[0mself\u001b[0m\u001b[0;34m.\u001b[0m\u001b[0mtestNames\u001b[0m \u001b[0;34m=\u001b[0m \u001b[0;34m(\u001b[0m\u001b[0mself\u001b[0m\u001b[0;34m.\u001b[0m\u001b[0mdefaultTest\u001b[0m\u001b[0;34m,\u001b[0m\u001b[0;34m)\u001b[0m\u001b[0;34m\u001b[0m\u001b[0m\n\u001b[0;32m--> 149\u001b[0;31m             \u001b[0mself\u001b[0m\u001b[0;34m.\u001b[0m\u001b[0mcreateTests\u001b[0m\u001b[0;34m(\u001b[0m\u001b[0;34m)\u001b[0m\u001b[0;34m\u001b[0m\u001b[0m\n\u001b[0m\u001b[1;32m    150\u001b[0m         \u001b[0;32mexcept\u001b[0m \u001b[0mgetopt\u001b[0m\u001b[0;34m.\u001b[0m\u001b[0merror\u001b[0m\u001b[0;34m,\u001b[0m \u001b[0mmsg\u001b[0m\u001b[0;34m:\u001b[0m\u001b[0;34m\u001b[0m\u001b[0m\n\u001b[1;32m    151\u001b[0m             \u001b[0mself\u001b[0m\u001b[0;34m.\u001b[0m\u001b[0musageExit\u001b[0m\u001b[0;34m(\u001b[0m\u001b[0mmsg\u001b[0m\u001b[0;34m)\u001b[0m\u001b[0;34m\u001b[0m\u001b[0m\n",
      "\u001b[0;32m/usr/local/Cellar/python/2.7.10_2/Frameworks/Python.framework/Versions/2.7/lib/python2.7/unittest/main.pyc\u001b[0m in \u001b[0;36mcreateTests\u001b[0;34m(self)\u001b[0m\n\u001b[1;32m    156\u001b[0m         \u001b[0;32melse\u001b[0m\u001b[0;34m:\u001b[0m\u001b[0;34m\u001b[0m\u001b[0m\n\u001b[1;32m    157\u001b[0m             self.test = self.testLoader.loadTestsFromNames(self.testNames,\n\u001b[0;32m--> 158\u001b[0;31m                                                            self.module)\n\u001b[0m\u001b[1;32m    159\u001b[0m \u001b[0;34m\u001b[0m\u001b[0m\n\u001b[1;32m    160\u001b[0m     \u001b[0;32mdef\u001b[0m \u001b[0m_do_discovery\u001b[0m\u001b[0;34m(\u001b[0m\u001b[0mself\u001b[0m\u001b[0;34m,\u001b[0m \u001b[0margv\u001b[0m\u001b[0;34m,\u001b[0m \u001b[0mLoader\u001b[0m\u001b[0;34m=\u001b[0m\u001b[0mNone\u001b[0m\u001b[0;34m)\u001b[0m\u001b[0;34m:\u001b[0m\u001b[0;34m\u001b[0m\u001b[0m\n",
      "\u001b[0;32m/usr/local/Cellar/python/2.7.10_2/Frameworks/Python.framework/Versions/2.7/lib/python2.7/unittest/loader.pyc\u001b[0m in \u001b[0;36mloadTestsFromNames\u001b[0;34m(self, names, module)\u001b[0m\n\u001b[1;32m    128\u001b[0m         \u001b[0mof\u001b[0m \u001b[0mstring\u001b[0m \u001b[0mspecifiers\u001b[0m\u001b[0;34m.\u001b[0m \u001b[0mSee\u001b[0m \u001b[0;34m'loadTestsFromName()'\u001b[0m\u001b[0;34m.\u001b[0m\u001b[0;34m\u001b[0m\u001b[0m\n\u001b[1;32m    129\u001b[0m         \"\"\"\n\u001b[0;32m--> 130\u001b[0;31m         \u001b[0msuites\u001b[0m \u001b[0;34m=\u001b[0m \u001b[0;34m[\u001b[0m\u001b[0mself\u001b[0m\u001b[0;34m.\u001b[0m\u001b[0mloadTestsFromName\u001b[0m\u001b[0;34m(\u001b[0m\u001b[0mname\u001b[0m\u001b[0;34m,\u001b[0m \u001b[0mmodule\u001b[0m\u001b[0;34m)\u001b[0m \u001b[0;32mfor\u001b[0m \u001b[0mname\u001b[0m \u001b[0;32min\u001b[0m \u001b[0mnames\u001b[0m\u001b[0;34m]\u001b[0m\u001b[0;34m\u001b[0m\u001b[0m\n\u001b[0m\u001b[1;32m    131\u001b[0m         \u001b[0;32mreturn\u001b[0m \u001b[0mself\u001b[0m\u001b[0;34m.\u001b[0m\u001b[0msuiteClass\u001b[0m\u001b[0;34m(\u001b[0m\u001b[0msuites\u001b[0m\u001b[0;34m)\u001b[0m\u001b[0;34m\u001b[0m\u001b[0m\n\u001b[1;32m    132\u001b[0m \u001b[0;34m\u001b[0m\u001b[0m\n",
      "\u001b[0;32m/usr/local/Cellar/python/2.7.10_2/Frameworks/Python.framework/Versions/2.7/lib/python2.7/unittest/loader.pyc\u001b[0m in \u001b[0;36mloadTestsFromName\u001b[0;34m(self, name, module)\u001b[0m\n\u001b[1;32m     98\u001b[0m         \u001b[0mobj\u001b[0m \u001b[0;34m=\u001b[0m \u001b[0mmodule\u001b[0m\u001b[0;34m\u001b[0m\u001b[0m\n\u001b[1;32m     99\u001b[0m         \u001b[0;32mfor\u001b[0m \u001b[0mpart\u001b[0m \u001b[0;32min\u001b[0m \u001b[0mparts\u001b[0m\u001b[0;34m:\u001b[0m\u001b[0;34m\u001b[0m\u001b[0m\n\u001b[0;32m--> 100\u001b[0;31m             \u001b[0mparent\u001b[0m\u001b[0;34m,\u001b[0m \u001b[0mobj\u001b[0m \u001b[0;34m=\u001b[0m \u001b[0mobj\u001b[0m\u001b[0;34m,\u001b[0m \u001b[0mgetattr\u001b[0m\u001b[0;34m(\u001b[0m\u001b[0mobj\u001b[0m\u001b[0;34m,\u001b[0m \u001b[0mpart\u001b[0m\u001b[0;34m)\u001b[0m\u001b[0;34m\u001b[0m\u001b[0m\n\u001b[0m\u001b[1;32m    101\u001b[0m \u001b[0;34m\u001b[0m\u001b[0m\n\u001b[1;32m    102\u001b[0m         \u001b[0;32mif\u001b[0m \u001b[0misinstance\u001b[0m\u001b[0;34m(\u001b[0m\u001b[0mobj\u001b[0m\u001b[0;34m,\u001b[0m \u001b[0mtypes\u001b[0m\u001b[0;34m.\u001b[0m\u001b[0mModuleType\u001b[0m\u001b[0;34m)\u001b[0m\u001b[0;34m:\u001b[0m\u001b[0;34m\u001b[0m\u001b[0m\n",
      "\u001b[0;31mAttributeError\u001b[0m: 'module' object has no attribute '/Users/namshik/Library/Jupyter/runtime/kernel-8b5322a2-c528-46c4-8a7e-a2edcc33233d'"
     ]
    }
   ],
   "source": [
    "import unittest\n",
    "\n",
    "class TestStringMethods(unittest.TestCase):\n",
    "\n",
    "    def test_upper(self):\n",
    "        self.assertEqual('foo'.upper(), 'FOO')\n",
    "\n",
    "    def test_isupper(self):\n",
    "        self.assertTrue('FOO'.isupper())\n",
    "        self.assertFalse('Foo'.isupper())\n",
    "\n",
    "    def test_split(self):\n",
    "        s = 'hello world'\n",
    "        self.assertEqual(s.split(), ['hello', 'world'])\n",
    "        # check that s.split fails when the separator is not a string\n",
    "        with self.assertRaises(TypeError):\n",
    "            s.split(2)\n",
    "\n",
    "if __name__ == '__main__':\n",
    "    unittest.main()"
   ]
  },
  {
   "cell_type": "code",
   "execution_count": null,
   "metadata": {
    "collapsed": true
   },
   "outputs": [],
   "source": []
  }
 ],
 "metadata": {
  "kernelspec": {
   "display_name": "Python 2",
   "language": "python",
   "name": "python2"
  },
  "language_info": {
   "codemirror_mode": {
    "name": "ipython",
    "version": 2
   },
   "file_extension": ".py",
   "mimetype": "text/x-python",
   "name": "python",
   "nbconvert_exporter": "python",
   "pygments_lexer": "ipython2",
   "version": "2.7.10"
  }
 },
 "nbformat": 4,
 "nbformat_minor": 0
}
