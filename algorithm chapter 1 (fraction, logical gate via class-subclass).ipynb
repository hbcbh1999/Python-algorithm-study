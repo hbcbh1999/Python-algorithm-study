{
 "cells": [
  {
   "cell_type": "code",
   "execution_count": null,
   "metadata": {
    "collapsed": false
   },
   "outputs": [],
   "source": [
    "%matplotlib inline\n",
    "\n",
    "import random\n",
    "\n",
    "def generateOne(strlen):\n",
    "    alphabet=\"abcdefghijklmnopqrstuvwxyz \"\n",
    "    res =\"\"\n",
    "    for i in range(strlen):\n",
    "        res=res+alphabet[random.randrange(27)]\n",
    "        \n",
    "    return res\n",
    "\n",
    "def score(goal, teststring):\n",
    "    numSame =0 \n",
    "    for i in range(len(goal)):\n",
    "        if goal[i]==teststring[i]:\n",
    "            numSame=numSame+1\n",
    "            \n",
    "    return numSame / float(len(goal))\n",
    "\n",
    "\n",
    "def main():\n",
    "    \n",
    "    goalstring =\"methinks it is like a weasel\"\n",
    "    newstring = generateOne(28)\n",
    "    best=0\n",
    "    newscore =score(goalstring, newstring)\n",
    "    while newscore <1:\n",
    "        if newscore >= best:\n",
    "            print newscore, newstring\n",
    "            best = newscore\n",
    "            \n",
    "        newstring = generateOne(28)\n",
    "        newscore =score(goalstring, newstring)\n",
    "\n",
    "        \n",
    "        \n",
    "main()\n",
    "    "
   ]
  },
  {
   "cell_type": "code",
   "execution_count": 20,
   "metadata": {
    "collapsed": false
   },
   "outputs": [],
   "source": [
    "%matplotlib inline\n",
    "\n",
    "def squareroot(n):\n",
    "    root = n/2.0    #initial guess will be 1/2 of n\n",
    "    for k in range(20):\n",
    "        print root\n",
    "        root = (1/2.0)*(root + (n / root))\n",
    "\n",
    "    return root"
   ]
  },
  {
   "cell_type": "code",
   "execution_count": 21,
   "metadata": {
    "collapsed": false
   },
   "outputs": [
    {
     "name": "stdout",
     "output_type": "stream",
     "text": [
      "500000.0\n",
      "250001.0\n",
      "125002.499992\n",
      "62505.249916\n",
      "31260.6242861\n",
      "15646.3067052\n",
      "7855.10977591\n",
      "3991.20772213\n",
      "2120.87922502\n",
      "1296.19089627\n",
      "1033.84109828\n",
      "1000.55386652\n",
      "1000.0001533\n",
      "1000.0\n",
      "1000.0\n",
      "1000.0\n",
      "1000.0\n",
      "1000.0\n",
      "1000.0\n",
      "1000.0\n"
     ]
    },
    {
     "data": {
      "text/plain": [
       "1000.0"
      ]
     },
     "execution_count": 21,
     "metadata": {},
     "output_type": "execute_result"
    }
   ],
   "source": [
    "squareroot(1000000)"
   ]
  },
  {
   "cell_type": "code",
   "execution_count": 39,
   "metadata": {
    "collapsed": true
   },
   "outputs": [],
   "source": [
    "%matplotlib inline\n",
    "\n",
    "class Fraction:\n",
    "\n",
    "    def __init__(self,top,bottom):\n",
    "\n",
    "        self.num = top\n",
    "        self.den = bottom\n",
    "        \n",
    "    def show(self):\n",
    "         print self.num,'/',self.den\n",
    "\n",
    "\n"
   ]
  },
  {
   "cell_type": "code",
   "execution_count": 40,
   "metadata": {
    "collapsed": true
   },
   "outputs": [],
   "source": [
    "myf=Fraction(3,5)"
   ]
  },
  {
   "cell_type": "code",
   "execution_count": 41,
   "metadata": {
    "collapsed": false
   },
   "outputs": [
    {
     "name": "stdout",
     "output_type": "stream",
     "text": [
      "<__main__.Fraction instance at 0x107af8b00>\n",
      "3 / 5\n",
      "None\n"
     ]
    }
   ],
   "source": [
    "print myf\n",
    "print myf.show()"
   ]
  },
  {
   "cell_type": "code",
   "execution_count": 51,
   "metadata": {
    "collapsed": true
   },
   "outputs": [],
   "source": [
    "%matplotlib inline\n",
    "\n",
    "class Fraction:\n",
    "\n",
    "    def __init__(self,top,bottom):\n",
    "\n",
    "        self.num = top\n",
    "        self.den = bottom\n",
    "        \n",
    "    def show(self):\n",
    "         print self.num,'/',self.den\n",
    "            \n",
    "    def __str__(self):\n",
    "        return str(self.num)+\"/\"+str(self.den)"
   ]
  },
  {
   "cell_type": "code",
   "execution_count": 57,
   "metadata": {
    "collapsed": true
   },
   "outputs": [],
   "source": [
    "myf=Fraction(3,5)"
   ]
  },
  {
   "cell_type": "code",
   "execution_count": 58,
   "metadata": {
    "collapsed": false
   },
   "outputs": [
    {
     "name": "stdout",
     "output_type": "stream",
     "text": [
      "3/5\n",
      "3 / 5\n",
      "None\n"
     ]
    }
   ],
   "source": [
    "print myf\n",
    "print myf.show()"
   ]
  },
  {
   "cell_type": "code",
   "execution_count": 60,
   "metadata": {
    "collapsed": false
   },
   "outputs": [
    {
     "name": "stdout",
     "output_type": "stream",
     "text": [
      "I ate 3/5 of the pizza\n"
     ]
    }
   ],
   "source": [
    "print \"I ate\", myf, \"of the pizza\"\n"
   ]
  },
  {
   "cell_type": "code",
   "execution_count": 61,
   "metadata": {
    "collapsed": false
   },
   "outputs": [
    {
     "ename": "TypeError",
     "evalue": "unsupported operand type(s) for +: 'instance' and 'instance'",
     "output_type": "error",
     "traceback": [
      "\u001b[0;31m---------------------------------------------------------------------------\u001b[0m",
      "\u001b[0;31mTypeError\u001b[0m                                 Traceback (most recent call last)",
      "\u001b[0;32m<ipython-input-61-ed4f02d451e9>\u001b[0m in \u001b[0;36m<module>\u001b[0;34m()\u001b[0m\n\u001b[1;32m      2\u001b[0m \u001b[0mf1\u001b[0m \u001b[0;34m=\u001b[0m \u001b[0mFraction\u001b[0m\u001b[0;34m(\u001b[0m\u001b[0;36m1\u001b[0m\u001b[0;34m,\u001b[0m\u001b[0;36m4\u001b[0m\u001b[0;34m)\u001b[0m\u001b[0;34m\u001b[0m\u001b[0m\n\u001b[1;32m      3\u001b[0m \u001b[0mf2\u001b[0m \u001b[0;34m=\u001b[0m \u001b[0mFraction\u001b[0m\u001b[0;34m(\u001b[0m\u001b[0;36m1\u001b[0m\u001b[0;34m,\u001b[0m\u001b[0;36m2\u001b[0m\u001b[0;34m)\u001b[0m\u001b[0;34m\u001b[0m\u001b[0m\n\u001b[0;32m----> 4\u001b[0;31m \u001b[0mf1\u001b[0m\u001b[0;34m+\u001b[0m\u001b[0mf2\u001b[0m\u001b[0;34m\u001b[0m\u001b[0m\n\u001b[0m",
      "\u001b[0;31mTypeError\u001b[0m: unsupported operand type(s) for +: 'instance' and 'instance'"
     ]
    }
   ],
   "source": [
    "\n",
    "f1 = Fraction(1,4)\n",
    "f2 = Fraction(1,2)\n",
    "f1+f2"
   ]
  },
  {
   "cell_type": "code",
   "execution_count": 65,
   "metadata": {
    "collapsed": false
   },
   "outputs": [],
   "source": [
    "%matplotlib inline\n",
    "\n",
    "class Fraction:\n",
    "\n",
    "    def __init__(self,top,bottom):\n",
    "\n",
    "        self.num = top\n",
    "        self.den = bottom\n",
    "        \n",
    "    def show(self):\n",
    "         print self.num,'/',self.den\n",
    "            \n",
    "    def __str__(self):\n",
    "        return str(self.num)+\"/\"+str(self.den)\n",
    "\n",
    "    def __add__(self,otherfraction):\n",
    "\n",
    "        newnum = self.num*otherfraction.den + self.den*otherfraction.num\n",
    "        newden = self.den * otherfraction.den\n",
    "\n",
    "        return Fraction(newnum,newden)"
   ]
  },
  {
   "cell_type": "code",
   "execution_count": 72,
   "metadata": {
    "collapsed": false
   },
   "outputs": [
    {
     "name": "stdout",
     "output_type": "stream",
     "text": [
      "3/4\n",
      "False\n"
     ]
    }
   ],
   "source": [
    "f1 = Fraction(1,4)\n",
    "f2 = Fraction(1,2)\n",
    "f3=f1+f2\n",
    "print f3\n",
    "print f1 == f2"
   ]
  },
  {
   "cell_type": "code",
   "execution_count": 102,
   "metadata": {
    "collapsed": false
   },
   "outputs": [
    {
     "data": {
      "text/plain": [
       "(4, 4, 0)"
      ]
     },
     "execution_count": 102,
     "metadata": {},
     "output_type": "execute_result"
    }
   ],
   "source": [
    "gcd(12,8), 12%8, 8%4"
   ]
  },
  {
   "cell_type": "code",
   "execution_count": 98,
   "metadata": {
    "collapsed": false
   },
   "outputs": [
    {
     "name": "stdout",
     "output_type": "stream",
     "text": [
      "3/4\n",
      "1/4\n",
      "1/8\n",
      "1/2\n",
      "False\n",
      "True\n"
     ]
    }
   ],
   "source": [
    "def gcd(m,n):  # For example,  12, 8\n",
    "    while m%n != 0:\n",
    "        oldm = m  # 12\n",
    "        oldn = n  # 8\n",
    "\n",
    "        m = oldn  # 8         \n",
    "        n = oldm%oldn # 4, 8%4 == 0 gcd == 4\n",
    "    return n\n",
    "\n",
    "class Fraction:\n",
    "    def __init__(self,top,bottom):\n",
    "        self.num = top\n",
    "        self.den = bottom\n",
    "    def __str__(self):\n",
    "        return str(self.num)+\"/\"+str(self.den)\n",
    "\n",
    "    def show(self):\n",
    "        print(self.num,\"/\",self.den)\n",
    "\n",
    "    def __add__(self,otherfraction):\n",
    "        newnum = self.num*otherfraction.den + self.den*otherfraction.num\n",
    "        newden = self.den * otherfraction.den\n",
    "        common = gcd(newnum,newden)\n",
    "        return Fraction(newnum//common,newden//common)\n",
    "\n",
    "\n",
    "\n",
    "    def __sub__(self, otherfraction):\n",
    "        newnum = self.num*otherfraction.den - self.den*otherfraction.num\n",
    "        newden = self.den * otherfraction.den\n",
    "        common = gcd(newnum,newden)\n",
    "        return Fraction(newnum//common,newden//common)\n",
    "\n",
    "    def __mul__(self,other):\n",
    "        newnum = self.num*other.num\n",
    "        newden = self.den*other.den\n",
    "        common = gcd(newnum,newden)\n",
    "        return Fraction(newnum//common,newden//common)\n",
    "    \n",
    "    def __div__(self,other):\n",
    "        newnum = self.num*other.den\n",
    "        newden = self.den*other.num\n",
    "        common = gcd(newnum,newden)\n",
    "        return Fraction(newnum/common,newden/common)\n",
    "\n",
    "    def __eq__(self, other):\n",
    "        firstnum = self.num * other.den\n",
    "        secondnum = other.num * self.den\n",
    "\n",
    "        return firstnum == secondnum\n",
    "    \n",
    "    \n",
    "    def __lt__(self, other):\n",
    "        firstnum = self.num * other.den\n",
    "        secondnum = other.num * self.den\n",
    "        \n",
    "        return firstnum < secondnum\n",
    "\n",
    "\n",
    "\n",
    "\n",
    "\n",
    "\n",
    "x = Fraction(1,4)\n",
    "y = Fraction(1,2)\n",
    "print x+y\n",
    "print y-x\n",
    "print x*y\n",
    "print x/y\n",
    "print x == y\n",
    "print x<y\n",
    "\n"
   ]
  },
  {
   "cell_type": "code",
   "execution_count": 78,
   "metadata": {
    "collapsed": false
   },
   "outputs": [
    {
     "data": {
      "text/plain": [
       "5"
      ]
     },
     "execution_count": 78,
     "metadata": {},
     "output_type": "execute_result"
    }
   ],
   "source": [
    "(2).__add__(3)"
   ]
  },
  {
   "cell_type": "code",
   "execution_count": 46,
   "metadata": {
    "collapsed": false
   },
   "outputs": [],
   "source": [
    "class LogicGate:\n",
    "\n",
    "    def __init__(self,n):\n",
    "        self.Name = n\n",
    "        self.output = None\n",
    "\n",
    "    def getName(self):\n",
    "        return self.Name\n",
    "\n",
    "    def getOutput(self):\n",
    "        self.output = self.performGateLogic()\n",
    "        return self.output\n",
    "    \n",
    "class BinaryGate(LogicGate):\n",
    "\n",
    "    def __init__(self,n):\n",
    "        LogicGate.__init__(self,n)\n",
    "\n",
    "        self.pinA = None\n",
    "        self.pinB = None\n",
    "\n",
    "    def getPinA(self):\n",
    "        if self.pinA == None:\n",
    "            return input(\"Enter Pin A input for gate \" + self.getName()+\"-->\")\n",
    "        else:\n",
    "            return self.pinA.getFrom().getOutput()\n",
    "\n",
    "    \n",
    "    \n",
    "    def getPinB(self):\n",
    "        if self.pinB == None:\n",
    "            return input(\"Enter Pin B input for gate \" + self.getName()+\"-->\")\n",
    "        else:\n",
    "            return self.pinB.getFrom().getOutput()    \n",
    "        \n",
    "        \n",
    "    def setNextPin(self,source):\n",
    "        if self.pinA == None:\n",
    "            self.pinA = source\n",
    "        else:\n",
    "            if self.pinB == None:\n",
    "                self.pinB = source\n",
    "            else:\n",
    "                raise RuntimeError(\"Error: NO EMPTY PINS\")\n",
    "    \n",
    "\n",
    "class UnaryGate(LogicGate):\n",
    "\n",
    "    def __init__(self,n):\n",
    "        LogicGate.__init__(self,n)\n",
    "\n",
    "        self.pin = None\n",
    "\n",
    "    def getPin(self):\n",
    "        if self.pin == None:\n",
    "            return input(\"Enter Pin input for gate \" + self.getName()+\"-->\")\n",
    "        else:\n",
    "            return self.pin.getFrom().getOutput()\n",
    "    \n",
    "    def setNextPin(self,source):\n",
    "        if self.pin == None:\n",
    "            self.pin = source\n",
    "        else:\n",
    "            raise RuntimeError(\"Error: NO EMPTY PINS\")\n",
    "    \n",
    "\n",
    "    \n",
    "    \n",
    "class AndGate(BinaryGate):\n",
    "\n",
    "    def __init__(self,n):\n",
    "        BinaryGate.__init__(self,n)\n",
    "\n",
    "    def performGateLogic(self):\n",
    "\n",
    "        a = self.getPinA()\n",
    "        b = self.getPinB()\n",
    "        if a==1 and b==1:\n",
    "            return 1\n",
    "        else:\n",
    "            return 0\n",
    "        \n",
    "    \n",
    "        \n",
    "class OrGate(BinaryGate):\n",
    "\n",
    "    def __init__(self,n):\n",
    "        BinaryGate.__init__(self,n)\n",
    "\n",
    "    def performGateLogic(self):\n",
    "\n",
    "        a = self.getPinA()\n",
    "        b = self.getPinB()\n",
    "        if a==0 and b==0:\n",
    "            return 0\n",
    "        else:\n",
    "            return 1\n",
    " \n",
    "    \n",
    "        \n",
    "class NotGate(UnaryGate):\n",
    "    \n",
    "    def __init__(self, n):\n",
    "        UnaryGate.__init__(self, n)\n",
    "        \n",
    "    def performGateLogic(self):\n",
    "        if self.getPin():\n",
    "            return 0\n",
    "        else:\n",
    "            return 1\n",
    "\n",
    "class Connector:\n",
    "\n",
    "    def __init__(self, fgate, tgate):\n",
    "        self.fromgate = fgate\n",
    "        self.togate = tgate\n",
    "\n",
    "        tgate.setNextPin(self)\n",
    "\n",
    "    def getFrom(self):\n",
    "        return self.fromgate\n",
    "\n",
    "    def getTo(self):\n",
    "        return self.togate\n",
    "\n",
    "    \n",
    "'''python3 에서는 NorGate 와 NandGate를 super()를 이용해 더 쉽게 표현하는 방법이 있다'''\n",
    "    \n",
    "class NorGate(BinaryGate):\n",
    "    \n",
    "    def __init__(self,n):\n",
    "        BinaryGate.__init__(self,n)\n",
    "\n",
    "    def performGateLogic(self):\n",
    "\n",
    "        a = self.getPinA()\n",
    "        b = self.getPinB()\n",
    "        if a==0 and b==0:\n",
    "            return 1\n",
    "        else:\n",
    "            return 0   \n",
    "    \n",
    "    \n",
    "    \n",
    "class NandGate(BinaryGate):\n",
    "    \n",
    "    def __init__(self,n):\n",
    "        BinaryGate.__init__(self,n)\n",
    "\n",
    "    def performGateLogic(self):\n",
    "\n",
    "        a = self.getPinA()\n",
    "        b = self.getPinB()\n",
    "        if a==1 and b==1:\n",
    "            return 0\n",
    "        else:\n",
    "            return 1\n",
    "        \n"
   ]
  },
  {
   "cell_type": "code",
   "execution_count": 115,
   "metadata": {
    "collapsed": false
   },
   "outputs": [
    {
     "name": "stdout",
     "output_type": "stream",
     "text": [
      "None\n"
     ]
    }
   ],
   "source": [
    "print BinaryGate(4).pinA"
   ]
  },
  {
   "cell_type": "code",
   "execution_count": 142,
   "metadata": {
    "collapsed": false
   },
   "outputs": [
    {
     "name": "stdout",
     "output_type": "stream",
     "text": [
      "Enter Pin A input for gate G1-->1\n",
      "Enter Pin B input for gate G1-->0\n"
     ]
    },
    {
     "data": {
      "text/plain": [
       "0"
      ]
     },
     "execution_count": 142,
     "metadata": {},
     "output_type": "execute_result"
    }
   ],
   "source": [
    "g1=AndGate(\"G1\")\n",
    "g2=AndGate(\"G2\")\n",
    "g1.getOutput()"
   ]
  },
  {
   "cell_type": "code",
   "execution_count": 125,
   "metadata": {
    "collapsed": false
   },
   "outputs": [
    {
     "name": "stdout",
     "output_type": "stream",
     "text": [
      "Enter Pin A input for gate G1-->1\n"
     ]
    },
    {
     "data": {
      "text/plain": [
       "1"
      ]
     },
     "execution_count": 125,
     "metadata": {},
     "output_type": "execute_result"
    }
   ],
   "source": [
    "g1.getPinA()"
   ]
  },
  {
   "cell_type": "code",
   "execution_count": 146,
   "metadata": {
    "collapsed": false
   },
   "outputs": [
    {
     "name": "stdout",
     "output_type": "stream",
     "text": [
      "Enter Pin A input for gate G2-->1\n",
      "Enter Pin B input for gate G2-->1\n"
     ]
    },
    {
     "data": {
      "text/plain": [
       "1"
      ]
     },
     "execution_count": 146,
     "metadata": {},
     "output_type": "execute_result"
    }
   ],
   "source": [
    "g3=OrGate(\"G2\")\n",
    "g3.getOutput()"
   ]
  },
  {
   "cell_type": "code",
   "execution_count": 144,
   "metadata": {
    "collapsed": false
   },
   "outputs": [
    {
     "name": "stdout",
     "output_type": "stream",
     "text": [
      "Enter Pin input for gate G3-->1\n"
     ]
    },
    {
     "data": {
      "text/plain": [
       "0"
      ]
     },
     "execution_count": 144,
     "metadata": {},
     "output_type": "execute_result"
    }
   ],
   "source": [
    "g4=NotGate(\"G3\")\n",
    "g4.getOutput()"
   ]
  },
  {
   "cell_type": "code",
   "execution_count": 45,
   "metadata": {
    "collapsed": false
   },
   "outputs": [
    {
     "name": "stdout",
     "output_type": "stream",
     "text": [
      "Enter Pin A input for gate G1-->1\n",
      "Enter Pin B input for gate G1-->1\n",
      "Enter Pin A input for gate G2-->1\n",
      "Enter Pin B input for gate G2-->1\n",
      "Enter Pin A input for gate G6-->1\n",
      "Enter Pin B input for gate G6-->1\n",
      "Enter Pin A input for gate G7-->1\n",
      "Enter Pin B input for gate G7-->1\n"
     ]
    },
    {
     "data": {
      "text/plain": [
       "True"
      ]
     },
     "execution_count": 45,
     "metadata": {},
     "output_type": "execute_result"
    }
   ],
   "source": [
    "g1=AndGate(\"G1\")\n",
    "g2=AndGate(\"G2\")\n",
    "g3=OrGate(\"G3\")\n",
    "g4=NotGate(\"G4\")\n",
    "g5=NorGate(\"G5\")\n",
    "g6=NandGate(\"G6\")\n",
    "g7=NandGate(\"G7\")\n",
    "g8=AndGate(\"G8\")\n",
    "\n",
    "c1=Connector(g1,g5)\n",
    "c2=Connector(g2,g5)\n",
    "\n",
    "c3=Connector(g6,g8)\n",
    "c4=Connector(g7,g8)\n",
    "\n",
    "g5.getOutput()==g8.getOutput()"
   ]
  },
  {
   "cell_type": "code",
   "execution_count": null,
   "metadata": {
    "collapsed": true
   },
   "outputs": [],
   "source": [
    "class peopleOfSchool:\n",
    "    def __init__(self, surname, lastname)\n",
    "        self.surname = surname\n",
    "        self.lastname = lastname\n",
    "        \n",
    "    \n",
    "class faculty(hierachy):\n",
    "    def __init__(self, )\n",
    "    \n",
    "class staff(hierachy):\n",
    "    \n",
    "class student(hierachy):\n",
    "    \n"
   ]
  },
  {
   "cell_type": "code",
   "execution_count": 176,
   "metadata": {
    "collapsed": false
   },
   "outputs": [],
   "source": []
  },
  {
   "cell_type": "code",
   "execution_count": null,
   "metadata": {
    "collapsed": true
   },
   "outputs": [],
   "source": []
  }
 ],
 "metadata": {
  "kernelspec": {
   "display_name": "Python 2",
   "language": "python",
   "name": "python2"
  },
  "language_info": {
   "codemirror_mode": {
    "name": "ipython",
    "version": 2
   },
   "file_extension": ".py",
   "mimetype": "text/x-python",
   "name": "python",
   "nbconvert_exporter": "python",
   "pygments_lexer": "ipython2",
   "version": "2.7.10"
  }
 },
 "nbformat": 4,
 "nbformat_minor": 0
}
