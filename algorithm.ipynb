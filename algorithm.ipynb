{
 "cells": [
  {
   "cell_type": "code",
   "execution_count": null,
   "metadata": {
    "collapsed": false
   },
   "outputs": [],
   "source": [
    "nums=[]\n",
    "nums.append(1)\n",
    "nums.insert(0,2)\n",
    "nums.insert(0,3)\n",
    "nums.insert(3,4)\n",
    "nums"
   ]
  },
  {
   "cell_type": "code",
   "execution_count": null,
   "metadata": {
    "collapsed": false
   },
   "outputs": [],
   "source": [
    "a, b, c, d, e, f, g, h = range(8) \n",
    "N=[{b:2, c:1, d:3, e:9, f:4}, #a \n",
    "   {c:4, e:3}, #b \n",
    "   {d:8}, #c \n",
    "   {e:7}, #d \n",
    "   {f:5}, #e \n",
    "   {c:2, g:2, h:2}, #f \n",
    "   {f:1, h:6}, #g \n",
    "   {f:9, g:8} #h\n",
    "]\n",
    "\n",
    "b in N[a], len(N[f]),N[a][b]"
   ]
  },
  {
   "cell_type": "code",
   "execution_count": null,
   "metadata": {
    "collapsed": false
   },
   "outputs": [],
   "source": [
    "a, b, c, d, e, f, g, h = range(8) \n",
    "\n",
    "N={\n",
    "'a': set('bcdef'), \n",
    "'b': set('ce'), 'c': set('d'), 'd': set('e'), 'e': set('f'), \n",
    "'f': set('cgh'), 'g': set('fh'), 'h': set('fg')\n",
    "}\n",
    "\n",
    "N['a'], set('bcdef'),N['a']==set('bcdef')"
   ]
  },
  {
   "cell_type": "code",
   "execution_count": null,
   "metadata": {
    "collapsed": false
   },
   "outputs": [],
   "source": [
    "a, b, c, d, e, f, g, h = range(8)\n",
    "# abcdefgh\n",
    "N = [[0,1,1,1,1,1,0,0], # a \n",
    "     [0,0,1,0,1,0,0,0], # b \n",
    "     [0,0,0,1,0,0,0,0], # c \n",
    "     [0,0,0,0,1,0,0,0], # d \n",
    "     [0,0,0,0,0,1,0,0], # e \n",
    "     [0,0,1,0,0,0,1,1], # f \n",
    "     [0,0,0,0,0,1,0,1], # g \n",
    "     [0,0,0,0,0,1,1,0]] # h\n",
    "\n",
    "N[a][b],sum(N[f])"
   ]
  },
  {
   "cell_type": "code",
   "execution_count": null,
   "metadata": {
    "collapsed": false
   },
   "outputs": [],
   "source": [
    "a, b, c, d, e, f, g, h = range(8)\n",
    "_ = float('inf')\n",
    "# abcdefgh\n",
    "W = [[0,2,1,3,9,4,_,_], # a \n",
    "     [_,0,4,_,3,_,_,_], # b \n",
    "     [_,_,0,8,_,_,_,_], # c \n",
    "     [_,_,_,0,7,_,_,_], # d \n",
    "     [_,_,_,_,0,5,_,_], # e \n",
    "     [_,_,2,_,_,0,2,2], # f \n",
    "     [_,_,_,_,_,1,0,6], # g \n",
    "     [_,_,_,_,_,9,8,0]] # h\n",
    "\n",
    "sum(1 for w in W[a] if w < float('inf'))-1 #Degree"
   ]
  },
  {
   "cell_type": "code",
   "execution_count": null,
   "metadata": {
    "collapsed": false
   },
   "outputs": [],
   "source": [
    "N = [[0]*10 for i in range(10)]\n",
    "np.array(N)"
   ]
  },
  {
   "cell_type": "code",
   "execution_count": null,
   "metadata": {
    "collapsed": false
   },
   "outputs": [],
   "source": [
    "import numpy as np\n",
    "N = np.zeros([10,10])\n",
    "N"
   ]
  },
  {
   "cell_type": "code",
   "execution_count": null,
   "metadata": {
    "collapsed": false
   },
   "outputs": [],
   "source": [
    "N[2]"
   ]
  },
  {
   "cell_type": "code",
   "execution_count": null,
   "metadata": {
    "collapsed": true
   },
   "outputs": [],
   "source": [
    "T = [[\"a\", \"b\"], [\"c\"], [\"d\", [\"e\", \"f\"]]]"
   ]
  },
  {
   "cell_type": "code",
   "execution_count": null,
   "metadata": {
    "collapsed": false
   },
   "outputs": [],
   "source": [
    "T[0],T[0][1]"
   ]
  },
  {
   "cell_type": "code",
   "execution_count": null,
   "metadata": {
    "collapsed": false
   },
   "outputs": [],
   "source": [
    "T[2][1]"
   ]
  },
  {
   "cell_type": "code",
   "execution_count": null,
   "metadata": {
    "collapsed": true
   },
   "outputs": [],
   "source": [
    "class Tree:\n",
    "    def __init__(self, left, right): \n",
    "        self.left = left\n",
    "        self.right = right"
   ]
  },
  {
   "cell_type": "code",
   "execution_count": null,
   "metadata": {
    "collapsed": false
   },
   "outputs": [],
   "source": [
    "t=Tree(Tree('a','b'),Tree('c','d'))\n",
    "t.right.left"
   ]
  },
  {
   "cell_type": "code",
   "execution_count": 1,
   "metadata": {
    "collapsed": false
   },
   "outputs": [],
   "source": [
    "class Tree:\n",
    "    def __init__(self, kids, next=None):\n",
    "        self.kids = kids \n",
    "        self.next = next"
   ]
  },
  {
   "cell_type": "code",
   "execution_count": 2,
   "metadata": {
    "collapsed": true
   },
   "outputs": [],
   "source": [
    "t = Tree(Tree(\"a\", Tree(\"b\", Tree(\"c\", Tree(\"d\")))))"
   ]
  },
  {
   "cell_type": "code",
   "execution_count": 14,
   "metadata": {
    "collapsed": false
   },
   "outputs": [
    {
     "data": {
      "text/plain": [
       "('a', 'b', 'c')"
      ]
     },
     "execution_count": 14,
     "metadata": {},
     "output_type": "execute_result"
    }
   ],
   "source": [
    "t.kids.kids, t.kids.next.kids, t.kids.next.next.kids"
   ]
  },
  {
   "cell_type": "code",
   "execution_count": 15,
   "metadata": {
    "collapsed": true
   },
   "outputs": [],
   "source": [
    "class Bunch(dict):\n",
    "    def __init__(self, *args, **kwds):\n",
    "        super(Bunch, self).__init__(*args, **kwds) \n",
    "        self.__dict__ = self"
   ]
  },
  {
   "cell_type": "code",
   "execution_count": 23,
   "metadata": {
    "collapsed": false
   },
   "outputs": [],
   "source": [
    "x=Bunch(name=\"Jayne Cobb\", position=\"Public Relations\")"
   ]
  },
  {
   "cell_type": "code",
   "execution_count": 24,
   "metadata": {
    "collapsed": false
   },
   "outputs": [
    {
     "data": {
      "text/plain": [
       "{'name': 'Jayne Cobb', 'position': 'Public Relations'}"
      ]
     },
     "execution_count": 24,
     "metadata": {},
     "output_type": "execute_result"
    }
   ],
   "source": [
    "x.__dict__"
   ]
  },
  {
   "cell_type": "code",
   "execution_count": 25,
   "metadata": {
    "collapsed": false
   },
   "outputs": [
    {
     "data": {
      "text/plain": [
       "{'name': 'Jayne Cobb', 'position': 'Public Relations'}"
      ]
     },
     "execution_count": 25,
     "metadata": {},
     "output_type": "execute_result"
    }
   ],
   "source": [
    "x"
   ]
  },
  {
   "cell_type": "code",
   "execution_count": 26,
   "metadata": {
    "collapsed": false
   },
   "outputs": [
    {
     "data": {
      "text/plain": [
       "('Jayne Cobb', 'Public Relations')"
      ]
     },
     "execution_count": 26,
     "metadata": {},
     "output_type": "execute_result"
    }
   ],
   "source": [
    "x.name, x.position"
   ]
  },
  {
   "cell_type": "code",
   "execution_count": 38,
   "metadata": {
    "collapsed": false
   },
   "outputs": [
    {
     "data": {
      "text/plain": [
       "('Jayne Cobb', 'Public Relations')"
      ]
     },
     "execution_count": 38,
     "metadata": {},
     "output_type": "execute_result"
    }
   ],
   "source": [
    "x['name'],x['position']"
   ]
  },
  {
   "cell_type": "code",
   "execution_count": 30,
   "metadata": {
    "collapsed": false
   },
   "outputs": [],
   "source": [
    "t = Bunch(left=Bunch(left=\"a\", right=\"b\"), right=Bunch(left=\"c\"))"
   ]
  },
  {
   "cell_type": "code",
   "execution_count": 31,
   "metadata": {
    "collapsed": false
   },
   "outputs": [
    {
     "data": {
      "text/plain": [
       "{'left': 'a', 'right': 'b'}"
      ]
     },
     "execution_count": 31,
     "metadata": {},
     "output_type": "execute_result"
    }
   ],
   "source": [
    "t.left"
   ]
  },
  {
   "cell_type": "code",
   "execution_count": 32,
   "metadata": {
    "collapsed": false
   },
   "outputs": [
    {
     "data": {
      "text/plain": [
       "'a'"
      ]
     },
     "execution_count": 32,
     "metadata": {},
     "output_type": "execute_result"
    }
   ],
   "source": [
    "t.left.left"
   ]
  },
  {
   "cell_type": "code",
   "execution_count": 35,
   "metadata": {
    "collapsed": false
   },
   "outputs": [
    {
     "data": {
      "text/plain": [
       "{'left': 'c'}"
      ]
     },
     "execution_count": 35,
     "metadata": {},
     "output_type": "execute_result"
    }
   ],
   "source": [
    "t.right"
   ]
  },
  {
   "cell_type": "code",
   "execution_count": 46,
   "metadata": {
    "collapsed": false
   },
   "outputs": [
    {
     "data": {
      "text/plain": [
       "(True, True)"
      ]
     },
     "execution_count": 46,
     "metadata": {},
     "output_type": "execute_result"
    }
   ],
   "source": [
    "from random import randrange\n",
    "L=[randrange(1000) for i in range(1000)]\n",
    "S=set(L)\n",
    "441 in L, 441 in S"
   ]
  },
  {
   "cell_type": "code",
   "execution_count": 51,
   "metadata": {
    "collapsed": false
   },
   "outputs": [
    {
     "name": "stdout",
     "output_type": "stream",
     "text": [
      "\"a\"\n"
     ]
    }
   ],
   "source": [
    "s=\"\"\n",
    "for chunk in input():\n",
    "    s += chunk"
   ]
  },
  {
   "cell_type": "code",
   "execution_count": 52,
   "metadata": {
    "collapsed": false
   },
   "outputs": [
    {
     "name": "stdout",
     "output_type": "stream",
     "text": [
      "\"kim\"\n"
     ]
    }
   ],
   "source": [
    "#better solution\n",
    "\n",
    "chunks=[]\n",
    "for chunk in input():\n",
    "    chunks.append(chunk)\n",
    "    \n",
    "s=''.join(chunks)"
   ]
  },
  {
   "cell_type": "code",
   "execution_count": 59,
   "metadata": {
    "collapsed": false
   },
   "outputs": [
    {
     "name": "stdout",
     "output_type": "stream",
     "text": [
      "'kim'\n"
     ]
    }
   ],
   "source": [
    "#way better solutiona\n",
    "\n",
    "    \n",
    "s =''.join(input())"
   ]
  },
  {
   "cell_type": "code",
   "execution_count": 60,
   "metadata": {
    "collapsed": false
   },
   "outputs": [
    {
     "data": {
      "text/plain": [
       "0.1"
      ]
     },
     "execution_count": 60,
     "metadata": {},
     "output_type": "execute_result"
    }
   ],
   "source": [
    "0.1"
   ]
  },
  {
   "cell_type": "code",
   "execution_count": 66,
   "metadata": {
    "collapsed": false
   },
   "outputs": [
    {
     "data": {
      "text/plain": [
       "(0.9999999999999999, False)"
      ]
     },
     "execution_count": 66,
     "metadata": {},
     "output_type": "execute_result"
    }
   ],
   "source": [
    "sum(0.1 for i in range(10)), sum(0.1 for i in range(10))==1"
   ]
  },
  {
   "cell_type": "code",
   "execution_count": 71,
   "metadata": {
    "collapsed": false
   },
   "outputs": [
    {
     "data": {
      "text/plain": [
       "False"
      ]
     },
     "execution_count": 71,
     "metadata": {},
     "output_type": "execute_result"
    }
   ],
   "source": [
    "round(sum(0.1 for i in range(10))-1, 20)==0"
   ]
  },
  {
   "cell_type": "code",
   "execution_count": 72,
   "metadata": {
    "collapsed": false
   },
   "outputs": [
    {
     "data": {
      "text/plain": [
       "True"
      ]
     },
     "execution_count": 72,
     "metadata": {},
     "output_type": "execute_result"
    }
   ],
   "source": [
    "round(sum(0.1 for i in range(10))-1, 10)==0"
   ]
  },
  {
   "cell_type": "code",
   "execution_count": 83,
   "metadata": {
    "collapsed": false
   },
   "outputs": [
    {
     "data": {
      "text/plain": [
       "Decimal('0')"
      ]
     },
     "execution_count": 83,
     "metadata": {},
     "output_type": "execute_result"
    }
   ],
   "source": [
    "from decimal import *\n",
    "Decimal(1.000)-1"
   ]
  },
  {
   "cell_type": "code",
   "execution_count": null,
   "metadata": {
    "collapsed": true
   },
   "outputs": [],
   "source": []
  },
  {
   "cell_type": "code",
   "execution_count": 92,
   "metadata": {
    "collapsed": false
   },
   "outputs": [
    {
     "data": {
      "text/plain": [
       "(1.862645149230957e-08, 1.7423725373181974e-08)"
      ]
     },
     "execution_count": 92,
     "metadata": {},
     "output_type": "execute_result"
    }
   ],
   "source": [
    "from math import sqrt\n",
    "x=823489325792242.324\n",
    "sqrt(x+1)-sqrt(x), 1.0/(sqrt(x+1)+sqrt(x))"
   ]
  },
  {
   "cell_type": "code",
   "execution_count": 94,
   "metadata": {
    "collapsed": false
   },
   "outputs": [
    {
     "data": {
      "text/plain": [
       "0.0"
      ]
     },
     "execution_count": 94,
     "metadata": {},
     "output_type": "execute_result"
    }
   ],
   "source": [
    "round(sqrt(x+1)-sqrt(x)- 1.0/(sqrt(x+1)+sqrt(x)))"
   ]
  },
  {
   "cell_type": "code",
   "execution_count": 98,
   "metadata": {
    "collapsed": false
   },
   "outputs": [
    {
     "data": {
      "text/plain": [
       "[[23, 0, 0, 0, 0, 0, 0, 0, 0, 0],\n",
       " [23, 0, 0, 0, 0, 0, 0, 0, 0, 0],\n",
       " [23, 0, 0, 0, 0, 0, 0, 0, 0, 0],\n",
       " [23, 0, 0, 0, 0, 0, 0, 0, 0, 0],\n",
       " [23, 0, 0, 0, 0, 0, 0, 0, 0, 0],\n",
       " [23, 0, 0, 0, 0, 0, 0, 0, 0, 0],\n",
       " [23, 0, 0, 0, 0, 0, 0, 0, 0, 0],\n",
       " [23, 0, 0, 0, 0, 0, 0, 0, 0, 0],\n",
       " [23, 0, 0, 0, 0, 0, 0, 0, 0, 0],\n",
       " [23, 0, 0, 0, 0, 0, 0, 0, 0, 0]]"
      ]
     },
     "execution_count": 98,
     "metadata": {},
     "output_type": "execute_result"
    }
   ],
   "source": [
    "a=[[0]*10]*10\n",
    "a[0][0]=23\n",
    "a"
   ]
  },
  {
   "cell_type": "code",
   "execution_count": 99,
   "metadata": {
    "collapsed": true
   },
   "outputs": [],
   "source": [
    "def is_prime(n):\n",
    "    for i in range(2,n):\n",
    "        if n % i == 0: \n",
    "            return False \n",
    "    return True"
   ]
  },
  {
   "cell_type": "code",
   "execution_count": 110,
   "metadata": {
    "collapsed": false
   },
   "outputs": [
    {
     "data": {
      "text/plain": [
       "True"
      ]
     },
     "execution_count": 110,
     "metadata": {},
     "output_type": "execute_result"
    }
   ],
   "source": [
    "is_prime(37711111)"
   ]
  },
  {
   "cell_type": "code",
   "execution_count": 112,
   "metadata": {
    "collapsed": false
   },
   "outputs": [],
   "source": [
    "def S(seq, i=0):\n",
    "    if i == len(seq): \n",
    "        return 0 \n",
    "    return S(seq, i+1) + seq[i]"
   ]
  },
  {
   "cell_type": "code",
   "execution_count": 113,
   "metadata": {
    "collapsed": false
   },
   "outputs": [
    {
     "data": {
      "text/plain": [
       "5050"
      ]
     },
     "execution_count": 113,
     "metadata": {},
     "output_type": "execute_result"
    }
   ],
   "source": [
    "S(range(1,101)) # sum of 1 to 100"
   ]
  },
  {
   "cell_type": "code",
   "execution_count": 115,
   "metadata": {
    "collapsed": true
   },
   "outputs": [],
   "source": [
    "def T(seq, i=0):\n",
    "    if i == len(seq): \n",
    "        return 1 \n",
    "    return T(seq, i+1) + 1\n"
   ]
  },
  {
   "cell_type": "code",
   "execution_count": 116,
   "metadata": {
    "collapsed": false
   },
   "outputs": [
    {
     "data": {
      "text/plain": [
       "101"
      ]
     },
     "execution_count": 116,
     "metadata": {},
     "output_type": "execute_result"
    }
   ],
   "source": [
    "T(range(1,101))"
   ]
  },
  {
   "cell_type": "code",
   "execution_count": 117,
   "metadata": {
    "collapsed": true
   },
   "outputs": [],
   "source": [
    "for n in range(100):\n",
    "    seq=range(n)\n",
    "    assert T(seq)==n+1"
   ]
  },
  {
   "cell_type": "code",
   "execution_count": 127,
   "metadata": {
    "collapsed": false
   },
   "outputs": [
    {
     "data": {
      "text/plain": [
       "9901"
      ]
     },
     "execution_count": 127,
     "metadata": {},
     "output_type": "execute_result"
    }
   ],
   "source": [
    "def T(seq, i=0):\n",
    "    if i == len(seq): \n",
    "        return 1 \n",
    "    return T(seq, i+1) + n\n",
    "\n",
    "T(range(1,101)) # n**2"
   ]
  },
  {
   "cell_type": "code",
   "execution_count": 131,
   "metadata": {
    "collapsed": false
   },
   "outputs": [
    {
     "data": {
      "text/plain": [
       "1023"
      ]
     },
     "execution_count": 131,
     "metadata": {},
     "output_type": "execute_result"
    }
   ],
   "source": [
    "def T(seq, i=0):\n",
    "    if i == len(seq): \n",
    "        return 1 \n",
    "    return 2*T(seq, i+1) + 1\n",
    "\n",
    "T(range(1,10)) # 2**n"
   ]
  },
  {
   "cell_type": "code",
   "execution_count": 141,
   "metadata": {
    "collapsed": false
   },
   "outputs": [
    {
     "data": {
      "text/plain": [
       "20"
      ]
     },
     "execution_count": 141,
     "metadata": {},
     "output_type": "execute_result"
    }
   ],
   "source": [
    "def T(seq, i=0):\n",
    "    if i == len(seq): \n",
    "        return 1 \n",
    "    return T(seq, i+1) + 1\n",
    "\n",
    "T(range(1,20))"
   ]
  },
  {
   "cell_type": "code",
   "execution_count": 31,
   "metadata": {
    "collapsed": false
   },
   "outputs": [
    {
     "name": "stdout",
     "output_type": "stream",
     "text": [
      "< Before Sort >\n",
      "[7, 1, 10, 5, 9, 2, 10, 1, 6, 3, 3, 9, 4, 1, 2, 8, 1, 9, 4, 8]\n",
      "Selecting h: 4\n",
      "Selecting h: 13\n",
      "Selecting h: 40\n",
      "final h:  13\n",
      "h: 13\n",
      "start_index :  13\n",
      "insert_index :  13\n",
      "insert_index :  0\n",
      "h: 13\n",
      "start_index :  14\n",
      "insert_index :  14\n",
      "h: 13\n",
      "start_index :  15\n",
      "insert_index :  15\n",
      "insert_index :  2\n",
      "h: 13\n",
      "start_index :  16\n",
      "insert_index :  16\n",
      "insert_index :  3\n",
      "h: 13\n",
      "start_index :  17\n",
      "insert_index :  17\n",
      "h: 13\n",
      "start_index :  18\n",
      "insert_index :  18\n",
      "h: 13\n",
      "start_index :  19\n",
      "insert_index :  19\n",
      "insert_index :  6\n",
      "h: 13\n",
      "h: 13\n",
      "h: 13\n",
      "h: 13\n",
      "h: 13\n",
      "h: 13\n",
      "h: 4\n",
      "start_index :  4\n",
      "insert_index :  4\n",
      "start_index :  8\n",
      "insert_index :  8\n",
      "insert_index :  4\n",
      "start_index :  12\n",
      "insert_index :  12\n",
      "insert_index :  8\n",
      "insert_index :  4\n",
      "start_index :  16\n",
      "insert_index :  16\n",
      "insert_index :  12\n",
      "insert_index :  8\n",
      "h: 4\n",
      "start_index :  5\n",
      "insert_index :  5\n",
      "start_index :  9\n",
      "insert_index :  9\n",
      "start_index :  13\n",
      "insert_index :  13\n",
      "start_index :  17\n",
      "insert_index :  17\n",
      "h: 4\n",
      "start_index :  6\n",
      "insert_index :  6\n",
      "start_index :  10\n",
      "insert_index :  10\n",
      "insert_index :  6\n",
      "insert_index :  2\n",
      "start_index :  14\n",
      "insert_index :  14\n",
      "insert_index :  10\n",
      "insert_index :  6\n",
      "insert_index :  2\n",
      "start_index :  18\n",
      "insert_index :  18\n",
      "insert_index :  14\n",
      "insert_index :  10\n",
      "h: 4\n",
      "start_index :  7\n",
      "insert_index :  7\n",
      "start_index :  11\n",
      "insert_index :  11\n",
      "start_index :  15\n",
      "insert_index :  15\n",
      "start_index :  19\n",
      "insert_index :  19\n",
      "h: 1\n",
      "start_index :  1\n",
      "insert_index :  1\n",
      "start_index :  2\n",
      "insert_index :  2\n",
      "start_index :  3\n",
      "insert_index :  3\n",
      "insert_index :  2\n",
      "start_index :  4\n",
      "insert_index :  4\n",
      "start_index :  5\n",
      "insert_index :  5\n",
      "insert_index :  4\n",
      "start_index :  6\n",
      "insert_index :  6\n",
      "insert_index :  5\n",
      "start_index :  7\n",
      "insert_index :  7\n",
      "insert_index :  6\n",
      "insert_index :  5\n",
      "insert_index :  4\n",
      "insert_index :  3\n",
      "start_index :  8\n",
      "insert_index :  8\n",
      "start_index :  9\n",
      "insert_index :  9\n",
      "insert_index :  8\n",
      "insert_index :  7\n",
      "start_index :  10\n",
      "insert_index :  10\n",
      "insert_index :  9\n",
      "start_index :  11\n",
      "insert_index :  11\n",
      "start_index :  12\n",
      "insert_index :  12\n",
      "insert_index :  11\n",
      "start_index :  13\n",
      "insert_index :  13\n",
      "insert_index :  12\n",
      "start_index :  14\n",
      "insert_index :  14\n",
      "insert_index :  13\n",
      "start_index :  15\n",
      "insert_index :  15\n",
      "start_index :  16\n",
      "insert_index :  16\n",
      "insert_index :  15\n",
      "start_index :  17\n",
      "insert_index :  17\n",
      "insert_index :  16\n",
      "start_index :  18\n",
      "insert_index :  18\n",
      "insert_index :  17\n",
      "insert_index :  16\n",
      "insert_index :  15\n",
      "insert_index :  14\n",
      "start_index :  19\n",
      "insert_index :  19\n",
      "< After Sort >\n",
      "[1, 1, 1, 1, 2, 2, 3, 3, 4, 4, 5, 6, 7, 8, 8, 9, 9, 9, 10, 10]\n"
     ]
    }
   ],
   "source": [
    "'''Shell sort : upgrade of insert sort'''\n",
    "\n",
    "#!/usr/bin/python\n",
    "import random\n",
    " \n",
    "def shell_sort(random_list):\n",
    "    h = 1\n",
    "    # find best 'h'\n",
    "    while h < len(random_list):\n",
    "        h = h*3+1\n",
    "        print \"Selecting h:\",h\n",
    "    h = h/3\n",
    "    print \"final h: \",h\n",
    "\n",
    "    while h>0:\n",
    "        for i in range(h):\n",
    "        # setp = h, insertion sort\n",
    "        # ---------------------------------------------------------\n",
    "            print \"h:\", h\n",
    "            start_index = i+h\n",
    "\n",
    "\n",
    "       \n",
    "            while start_index<len(random_list):\n",
    "                print \"start_index : \",start_index\n",
    "                temp = random_list[start_index]\n",
    "                insert_index = start_index \n",
    "                print \"insert_index : \",insert_index\n",
    "\n",
    "\n",
    "\n",
    "                while insert_index>h-1 and random_list[insert_index-h]>temp:\n",
    "                    random_list[insert_index] = random_list[insert_index-h] # exchange\n",
    "                    insert_index = insert_index - h\n",
    "                    print \"insert_index : \",insert_index\n",
    "\n",
    "\n",
    "                random_list[insert_index] = temp \n",
    "                start_index = start_index + h # jump h to compare again in the shell\n",
    "        # ---------------------------------------------------------\n",
    "        h = h/3 # set new h\n",
    "\n",
    "def Main():      \n",
    "    list = []      \n",
    "    for i in range(20):\n",
    "        list.append( random.randint(1,10) )\n",
    " \n",
    "    print \"< Before Sort >\"\n",
    "    print list\n",
    "    shell_sort(list) # now sorting!\n",
    "    print \"< After Sort >\"\n",
    "    print list\n",
    "\n",
    "Main()"
   ]
  },
  {
   "cell_type": "code",
   "execution_count": 32,
   "metadata": {
    "collapsed": true
   },
   "outputs": [],
   "source": [
    "'''binary tree'''\n",
    "\n",
    "class Tree: \n",
    "    def __init__(self, data, left_child=None, right_child=None): \n",
    "        self.data = data\n",
    "        self.left_child  = left_child \n",
    "        self.right_child = right_child"
   ]
  },
  {
   "cell_type": "code",
   "execution_count": 33,
   "metadata": {
    "collapsed": true
   },
   "outputs": [],
   "source": [
    "left_child=Tree(3)\n",
    "right_child=Tree(4)\n",
    "Parent=Tree(1,left_child, right_child)"
   ]
  },
  {
   "cell_type": "code",
   "execution_count": 40,
   "metadata": {
    "collapsed": false
   },
   "outputs": [
    {
     "data": {
      "text/plain": [
       "(1, 3, 4)"
      ]
     },
     "execution_count": 40,
     "metadata": {},
     "output_type": "execute_result"
    }
   ],
   "source": [
    "Parent.data, Parent.left_child.data, Parent.right_child.data"
   ]
  },
  {
   "cell_type": "code",
   "execution_count": 45,
   "metadata": {
    "collapsed": false
   },
   "outputs": [
    {
     "data": {
      "text/plain": [
       "(1, 3, 4)"
      ]
     },
     "execution_count": 45,
     "metadata": {},
     "output_type": "execute_result"
    }
   ],
   "source": [
    "parent2 = Tree(1, Tree(3), Tree(4))\n",
    "parent2.data, parent2.left_child.data, parent2.right_child.data"
   ]
  },
  {
   "cell_type": "code",
   "execution_count": 46,
   "metadata": {
    "collapsed": true
   },
   "outputs": [],
   "source": [
    "def init_tree():\n",
    "    # create leaf node\n",
    "    leaf = []\n",
    "    for i in range(6):\n",
    "        leaf.append( Tree(i+1) )\n",
    "\n",
    "    # create sub tree\n",
    "    left_subtree = Tree(9, Tree(7, leaf[0], leaf[1]), Tree(8, leaf[2], leaf[3]) )\n",
    "    right_subtree = Tree(10, leaf[4], leaf[5])\n",
    "\n",
    "    root = Tree(11, left_subtree, right_subtree)"
   ]
  },
  {
   "cell_type": "code",
   "execution_count": 59,
   "metadata": {
    "collapsed": false
   },
   "outputs": [],
   "source": [
    "init_tree()"
   ]
  },
  {
   "cell_type": "code",
   "execution_count": 64,
   "metadata": {
    "collapsed": false
   },
   "outputs": [
    {
     "data": {
      "text/plain": [
       "<class __main__.Tree at 0x106a7aa10>"
      ]
     },
     "execution_count": 64,
     "metadata": {},
     "output_type": "execute_result"
    }
   ],
   "source": [
    "Tree"
   ]
  },
  {
   "cell_type": "code",
   "execution_count": 65,
   "metadata": {
    "collapsed": true
   },
   "outputs": [],
   "source": [
    "def preorder_traverse(tree):\n",
    "    if tree == None: \n",
    "        return\n",
    "    print tree.data,\n",
    "    preorder_traverse(tree.left_child)\n",
    "    preorder_traverse(tree.right_child)\n",
    "\n",
    "def inorder_traverse(tree):\n",
    "    if tree == None: \n",
    "        return\n",
    "    inorder_traverse(tree.left_child)\n",
    "    print tree.data,\n",
    "    inorder_traverse(tree.right_child)\n",
    "\n",
    "def postorder_traverse(tree):\n",
    "    if tree == None: \n",
    "        return\n",
    "    postorder_traverse(tree.left_child)\n",
    "    postorder_traverse(tree.right_child)\n",
    "    print tree.data,"
   ]
  },
  {
   "cell_type": "code",
   "execution_count": 66,
   "metadata": {
    "collapsed": true
   },
   "outputs": [],
   "source": [
    "levelq = []\n",
    "def levelorder_traverse(tree):\n",
    "    global levelq\n",
    "    levelq.append(tree)\n",
    "    while len(levelq) != 0:\n",
    "        # visit\n",
    "        visit_node = levelq.pop(0)\n",
    "        print visit_node.data,\n",
    "        # child put\n",
    "        if visit_node.left_child != None:\n",
    "            levelq.append(visit_node.left_child)\n",
    "        if visit_node.right_child != None:\n",
    "            levelq.append(visit_node.right_child)"
   ]
  },
  {
   "cell_type": "code",
   "execution_count": 79,
   "metadata": {
    "collapsed": false
   },
   "outputs": [
    {
     "name": "stdout",
     "output_type": "stream",
     "text": [
      "1\n",
      "0\n"
     ]
    }
   ],
   "source": [
    "listq=[]\n",
    "listq.append(Parent)\n",
    "print len(listq)\n",
    "listq.pop(0)\n",
    "print len(listq)"
   ]
  },
  {
   "cell_type": "code",
   "execution_count": 80,
   "metadata": {
    "collapsed": false
   },
   "outputs": [
    {
     "name": "stdout",
     "output_type": "stream",
     "text": [
      "< Preorder Traverse >\n",
      "11 9 7 1 2 8 3 4 10 5 6\n",
      "< Inorder Traverse >\n",
      "1 7 2 9 3 8 4 11 5 10 6\n",
      "< Postorder Traverse >\n",
      "1 2 7 3 4 8 9 5 6 10 11\n",
      "< Leveorder Traverse >\n",
      "11 9 10 7 8 5 6 1 2 3 4\n"
     ]
    }
   ],
   "source": [
    "root = None\n",
    "def init_tree():\n",
    "    global root\n",
    "    # create leaf node\n",
    "    leaf = []\n",
    "    for i in range(6):\n",
    "        leaf.append( Tree(i+1) )\n",
    "    # create sub tree\n",
    "    left_subtree = Tree(9, Tree(7, leaf[0], leaf[1]), Tree(8, leaf[2], leaf[3]))\n",
    "    right_subtree = Tree(10, leaf[4], leaf[5])\n",
    "    # create root\n",
    "    root = Tree(11, left_subtree, right_subtree)\n",
    "\n",
    "    \n",
    "def Main():\n",
    "    init_tree()\n",
    "    print \"< Preorder Traverse >\"\n",
    "    preorder_traverse(root)\n",
    "    print\n",
    "    print \"< Inorder Traverse >\"\n",
    "    inorder_traverse(root)\n",
    "    print\n",
    "    print \"< Postorder Traverse >\"\n",
    "    postorder_traverse(root)\n",
    "    print\n",
    "    print \"< Leveorder Traverse >\"\n",
    "    levelorder_traverse(root)\n",
    "    print\n",
    "\n",
    "Main()"
   ]
  },
  {
   "cell_type": "markdown",
   "metadata": {},
   "source": [
    "![tree](http://cfs3.tistory.com/upload_control/download.blog?fhandle=YmxvZzEyNDIxQGZzMy50aXN0b3J5LmNvbTovYXR0YWNoLzAvMjAucG5n)"
   ]
  },
  {
   "cell_type": "code",
   "execution_count": 117,
   "metadata": {
    "collapsed": false
   },
   "outputs": [
    {
     "name": "stdout",
     "output_type": "stream",
     "text": [
      "('Splitting ', [54, 26, 93, 17, 77, 31, 44, 20, 55])\n",
      "('Splitting ', [54, 26, 93, 17])\n",
      "('Splitting ', [54, 26])\n",
      "('Splitting ', [54])\n",
      "('Merging ', [54])\n",
      "('Splitting ', [26])\n",
      "('Merging ', [26])\n",
      "0 1 0 [26, 26]\n",
      "0 1 1 [26, 26]\n",
      "1 1 2 [26, 54]\n",
      "('Merging ', [26, 54])\n",
      "('Splitting ', [93, 17])\n",
      "('Splitting ', [93])\n",
      "('Merging ', [93])\n",
      "('Splitting ', [17])\n",
      "('Merging ', [17])\n",
      "0 1 0 [17, 17]\n",
      "0 1 1 [17, 17]\n",
      "1 1 2 [17, 93]\n",
      "('Merging ', [17, 93])\n",
      "0 1 0 [17, 26, 93, 17]\n",
      "0 1 1 [17, 26, 93, 17]\n",
      "1 1 1 [17, 26, 93, 17]\n",
      "1 1 2 [17, 26, 93, 17]\n",
      "2 1 2 [17, 26, 54, 17]\n",
      "2 1 3 [17, 26, 54, 17]\n",
      "2 2 4 [17, 26, 54, 93]\n",
      "('Merging ', [17, 26, 54, 93])\n",
      "('Splitting ', [77, 31, 44, 20, 55])\n",
      "('Splitting ', [77, 31])\n",
      "('Splitting ', [77])\n",
      "('Merging ', [77])\n",
      "('Splitting ', [31])\n",
      "('Merging ', [31])\n",
      "0 1 0 [31, 31]\n",
      "0 1 1 [31, 31]\n",
      "1 1 2 [31, 77]\n",
      "('Merging ', [31, 77])\n",
      "('Splitting ', [44, 20, 55])\n",
      "('Splitting ', [44])\n",
      "('Merging ', [44])\n",
      "('Splitting ', [20, 55])\n",
      "('Splitting ', [20])\n",
      "('Merging ', [20])\n",
      "('Splitting ', [55])\n",
      "('Merging ', [55])\n",
      "1 0 0 [20, 55]\n",
      "1 0 1 [20, 55]\n",
      "1 1 2 [20, 55]\n",
      "('Merging ', [20, 55])\n",
      "0 1 0 [20, 20, 55]\n",
      "0 1 1 [20, 20, 55]\n",
      "1 1 1 [20, 44, 55]\n",
      "1 1 2 [20, 44, 55]\n",
      "1 2 3 [20, 44, 55]\n",
      "('Merging ', [20, 44, 55])\n",
      "0 1 0 [20, 31, 44, 20, 55]\n",
      "0 1 1 [20, 31, 44, 20, 55]\n",
      "1 1 1 [20, 31, 44, 20, 55]\n",
      "1 1 2 [20, 31, 44, 20, 55]\n",
      "1 2 2 [20, 31, 44, 20, 55]\n",
      "1 2 3 [20, 31, 44, 20, 55]\n",
      "1 3 3 [20, 31, 44, 55, 55]\n",
      "1 3 4 [20, 31, 44, 55, 55]\n",
      "2 3 5 [20, 31, 44, 55, 77]\n",
      "('Merging ', [20, 31, 44, 55, 77])\n",
      "1 0 0 [17, 26, 93, 17, 77, 31, 44, 20, 55]\n",
      "1 0 1 [17, 26, 93, 17, 77, 31, 44, 20, 55]\n",
      "1 1 1 [17, 20, 93, 17, 77, 31, 44, 20, 55]\n",
      "1 1 2 [17, 20, 93, 17, 77, 31, 44, 20, 55]\n",
      "2 1 2 [17, 20, 26, 17, 77, 31, 44, 20, 55]\n",
      "2 1 3 [17, 20, 26, 17, 77, 31, 44, 20, 55]\n",
      "2 2 3 [17, 20, 26, 31, 77, 31, 44, 20, 55]\n",
      "2 2 4 [17, 20, 26, 31, 77, 31, 44, 20, 55]\n",
      "2 3 4 [17, 20, 26, 31, 44, 31, 44, 20, 55]\n",
      "2 3 5 [17, 20, 26, 31, 44, 31, 44, 20, 55]\n",
      "3 3 5 [17, 20, 26, 31, 44, 54, 44, 20, 55]\n",
      "3 3 6 [17, 20, 26, 31, 44, 54, 44, 20, 55]\n",
      "3 4 6 [17, 20, 26, 31, 44, 54, 55, 20, 55]\n",
      "3 4 7 [17, 20, 26, 31, 44, 54, 55, 20, 55]\n",
      "3 5 7 [17, 20, 26, 31, 44, 54, 55, 77, 55]\n",
      "3 5 8 [17, 20, 26, 31, 44, 54, 55, 77, 55]\n",
      "4 5 9 [17, 20, 26, 31, 44, 54, 55, 77, 93]\n",
      "('Merging ', [17, 20, 26, 31, 44, 54, 55, 77, 93])\n",
      "[17, 20, 26, 31, 44, 54, 55, 77, 93]\n"
     ]
    }
   ],
   "source": [
    "def mergeSort(alist):\n",
    "    print(\"Splitting \",alist)\n",
    "    if len(alist)>1:\n",
    "        mid = len(alist)//2\n",
    "        lefthalf = alist[:mid]\n",
    "        righthalf = alist[mid:]\n",
    "\n",
    "        mergeSort(lefthalf)\n",
    "        mergeSort(righthalf)\n",
    "\n",
    "        i=0\n",
    "        j=0\n",
    "        k=0\n",
    "        \n",
    "        '''i is the number of lefthalf, \n",
    "            j is the number of righthalf\n",
    "            k is the number of alist'''\n",
    "        \n",
    "        \n",
    "        while i < len(lefthalf) and j < len(righthalf):\n",
    "            if lefthalf[i] < righthalf[j]:\n",
    "                alist[k]=lefthalf[i]\n",
    "                i=i+1 \n",
    "                print i,j,k,alist\n",
    "            else:\n",
    "                alist[k]=righthalf[j]\n",
    "                j=j+1 \n",
    "                print i,j,k,alist\n",
    "            k=k+1 \n",
    "            print i,j,k,alist \n",
    "            \n",
    "        while i < len(lefthalf):\n",
    "            alist[k]=lefthalf[i]\n",
    "            i=i+1\n",
    "            k=k+1\n",
    "            print i,j,k,alist\n",
    "\n",
    "        while j < len(righthalf):\n",
    "            alist[k]=righthalf[j]\n",
    "            j=j+1\n",
    "            k=k+1\n",
    "            print i,j,k,alist\n",
    "    print(\"Merging \",alist)\n",
    "    \n",
    "\n",
    "alist = [54,26,93,17,77,31,44,55,20]\n",
    "mergeSort(alist)\n",
    "print(alist)\n",
    "\n"
   ]
  },
  {
   "cell_type": "markdown",
   "metadata": {},
   "source": [
    "![mergesort](http://interactivepython.org/runestone/static/pythonds/_images/mergesortB.png)"
   ]
  },
  {
   "cell_type": "code",
   "execution_count": 118,
   "metadata": {
    "collapsed": true
   },
   "outputs": [],
   "source": [
    "class Stack:\n",
    "    def __init__(self):\n",
    "         self.items = []\n",
    "\n",
    "    def isEmpty(self):\n",
    "         return self.items == []\n",
    "\n",
    "    def push(self, item):\n",
    "         self.items.append(item)\n",
    "\n",
    "    def pop(self): # make enable to pop from instance directly. Don't need a list. \n",
    "         return self.items.pop()\n",
    "\n",
    "    def peek(self):\n",
    "         return self.items[len(self.items)-1]\n",
    "\n",
    "    def size(self):\n",
    "         return len(self.items)"
   ]
  },
  {
   "cell_type": "code",
   "execution_count": 128,
   "metadata": {
    "collapsed": false
   },
   "outputs": [
    {
     "data": {
      "text/plain": [
       "True"
      ]
     },
     "execution_count": 128,
     "metadata": {},
     "output_type": "execute_result"
    }
   ],
   "source": [
    "s=Stack()\n",
    "s.isEmpty()"
   ]
  },
  {
   "cell_type": "code",
   "execution_count": 129,
   "metadata": {
    "collapsed": false
   },
   "outputs": [
    {
     "data": {
      "text/plain": [
       "1"
      ]
     },
     "execution_count": 129,
     "metadata": {},
     "output_type": "execute_result"
    }
   ],
   "source": [
    "s.push(4)\n",
    "s.size()"
   ]
  },
  {
   "cell_type": "code",
   "execution_count": 130,
   "metadata": {
    "collapsed": false
   },
   "outputs": [
    {
     "data": {
      "text/plain": [
       "4"
      ]
     },
     "execution_count": 130,
     "metadata": {},
     "output_type": "execute_result"
    }
   ],
   "source": [
    "s.peek()"
   ]
  },
  {
   "cell_type": "code",
   "execution_count": 131,
   "metadata": {
    "collapsed": false
   },
   "outputs": [
    {
     "data": {
      "text/plain": [
       "[4]"
      ]
     },
     "execution_count": 131,
     "metadata": {},
     "output_type": "execute_result"
    }
   ],
   "source": [
    "s.items"
   ]
  },
  {
   "cell_type": "code",
   "execution_count": 133,
   "metadata": {
    "collapsed": false
   },
   "outputs": [],
   "source": [
    "s.push('dog')"
   ]
  },
  {
   "cell_type": "code",
   "execution_count": 134,
   "metadata": {
    "collapsed": false
   },
   "outputs": [
    {
     "data": {
      "text/plain": [
       "[4, 'dog']"
      ]
     },
     "execution_count": 134,
     "metadata": {},
     "output_type": "execute_result"
    }
   ],
   "source": [
    "s.items"
   ]
  },
  {
   "cell_type": "code",
   "execution_count": 135,
   "metadata": {
    "collapsed": false
   },
   "outputs": [
    {
     "data": {
      "text/plain": [
       "'dog'"
      ]
     },
     "execution_count": 135,
     "metadata": {},
     "output_type": "execute_result"
    }
   ],
   "source": [
    "s.peek()"
   ]
  },
  {
   "cell_type": "code",
   "execution_count": 136,
   "metadata": {
    "collapsed": false
   },
   "outputs": [
    {
     "data": {
      "text/plain": [
       "2"
      ]
     },
     "execution_count": 136,
     "metadata": {},
     "output_type": "execute_result"
    }
   ],
   "source": [
    "s.size()"
   ]
  },
  {
   "cell_type": "code",
   "execution_count": 137,
   "metadata": {
    "collapsed": false
   },
   "outputs": [
    {
     "data": {
      "text/plain": [
       "'dog'"
      ]
     },
     "execution_count": 137,
     "metadata": {},
     "output_type": "execute_result"
    }
   ],
   "source": [
    "s.pop()"
   ]
  },
  {
   "cell_type": "code",
   "execution_count": 138,
   "metadata": {
    "collapsed": false
   },
   "outputs": [
    {
     "data": {
      "text/plain": [
       "[4]"
      ]
     },
     "execution_count": 138,
     "metadata": {},
     "output_type": "execute_result"
    }
   ],
   "source": [
    "s.items"
   ]
  },
  {
   "cell_type": "code",
   "execution_count": 139,
   "metadata": {
    "collapsed": true
   },
   "outputs": [],
   "source": [
    "s.push('cat')"
   ]
  },
  {
   "cell_type": "code",
   "execution_count": 140,
   "metadata": {
    "collapsed": false
   },
   "outputs": [
    {
     "data": {
      "text/plain": [
       "[4, 'cat']"
      ]
     },
     "execution_count": 140,
     "metadata": {},
     "output_type": "execute_result"
    }
   ],
   "source": [
    "s.items"
   ]
  },
  {
   "cell_type": "code",
   "execution_count": 143,
   "metadata": {
    "collapsed": false
   },
   "outputs": [
    {
     "data": {
      "text/plain": [
       "4"
      ]
     },
     "execution_count": 143,
     "metadata": {},
     "output_type": "execute_result"
    }
   ],
   "source": [
    "s.items.pop(0)"
   ]
  },
  {
   "cell_type": "code",
   "execution_count": 144,
   "metadata": {
    "collapsed": false
   },
   "outputs": [
    {
     "data": {
      "text/plain": [
       "['cat']"
      ]
     },
     "execution_count": 144,
     "metadata": {},
     "output_type": "execute_result"
    }
   ],
   "source": [
    "s.items"
   ]
  },
  {
   "cell_type": "code",
   "execution_count": null,
   "metadata": {
    "collapsed": true
   },
   "outputs": [],
   "source": []
  }
 ],
 "metadata": {
  "kernelspec": {
   "display_name": "Python 2",
   "language": "python",
   "name": "python2"
  },
  "language_info": {
   "codemirror_mode": {
    "name": "ipython",
    "version": 2
   },
   "file_extension": ".py",
   "mimetype": "text/x-python",
   "name": "python",
   "nbconvert_exporter": "python",
   "pygments_lexer": "ipython2",
   "version": "2.7.10"
  }
 },
 "nbformat": 4,
 "nbformat_minor": 0
}
